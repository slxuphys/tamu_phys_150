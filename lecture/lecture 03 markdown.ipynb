{
 "cells": [
  {
   "cell_type": "markdown",
   "id": "b7bc6407",
   "metadata": {
    "tags": []
   },
   "source": [
    "# Jupyter Notebook\n",
    "\n",
    "[![Open in Colab](https://colab.research.google.com/assets/colab-badge.svg)](https://colab.research.google.com/github/slxuphys/tamu_phys_150/blob/master/lecture/lecture%2003%20markdown.ipynb)"
   ]
  },
  {
   "cell_type": "markdown",
   "id": "8350764e",
   "metadata": {},
   "source": [
    "From now on we will use jupyter notebook to write our notes, codes, homework and exams.\n",
    "\n",
    "## What is Jupyter Notebook\n",
    "Jupyter Notebook is an open-source web application that allows you to create and share documents that contain live code, equations, visualizations, and narrative text. It is widely used in data science, scientific computing, and machine learning for its interactive and user-friendly interface.\n",
    "\n",
    "Any file with the extension `.ipynb` is a Jupyter Notebook file, such as this one.\n",
    "\n",
    "## Why Jupyter Notebook\n",
    "- Interactive: You can run code in small chunks (cells) and see the results immediately,\n",
    "    making it easier to experiment and debug.\n",
    "- Versatile: Supports multiple programming languages, including Python, R, and Julia.\n",
    "- Rich Media: You can include images, videos, and interactive visualizations in your notebooks.\n",
    "- Documentation: You can combine code with narrative text, making it easier to explain your work.\n",
    "- Collaboration: Notebooks can be easily shared and collaborated on with others.\n",
    "## How to use Jupyter Notebook\n",
    "There are several ways to open and edit Jupyter Notebooks:\n",
    "1. Github: You can view Jupyter Notebooks directly on GitHub, _but you cannot edit them there_.\n",
    "2. Cloud Services: You can open and edit Jupyter Notebooks directly in your web browser using Google Colab or other cloud services.To open this notebook. Go to [Google Colab](https://colab.research.google.com/) and Click on \"File\" > \"Open notebook\".\n",
    "    - you can open notebooks from your google drive. The notebooks are saved in the Colab Notebooks folder in your google drive.\n",
    "    - you can also create a new notebook by clicking \"File\" > \"New notebook\".\n",
    "    - you edits will be automatically saved in your google drive.\n",
    "    - you can also download the notebook to your local computer by clicking \"File\" > \"Download\" > \"Download .ipynb\".\n",
    "3. Local Installation. You need install anaconda first, which installs python and jupyter notebook together. Then you can open jupyter notebook from anaconda navigator.  **You need to first open the Jupyter Notebook server from Anaconda Navigator and open any notebook from there. Double click does not work**. This will open a new tab in your web browser, where you can create a new notebook or open an existing one, pretty much like google colab but not requiring Internet.\n",
    "4. VSCode: After you install anaconda and VSCode. You can also open and edit Jupyter Notebooks in VSCode. When you open a `.ipynb` file in VSCode, it will automatically open in the notebook editor. When you open a notebook in VSCode for the first time, it will prompt you to install the Jupyter extension if you don't have it installed already. If set up properly, you can now open a notebook in VSCode by double clicking on the file in the file explorer.\n",
    "\n",
    "Once you have a notebook open no matter which method you use, the interface is pretty much the same. You will see a toolbar at the top, a menu bar below it, and a series of cells below that. Each cell can contain either code or markdown (text). You can run a cell by clicking on the play button on the left side of the cell or by pressing `Shift + Enter`. When you run a code cell, the code will be executed and the output will be displayed below the cell. When you run a markdown cell, the markdown will be rendered as formatted text.\n",
    "\n",
    "I recommend you try each of the above methods and see which one you like the most. \n",
    "\n",
    "**I highly recommend you to keek your notebooks file organized in a folder in your google drive or local computer. You can create subfolders for different topics or projects. This will make it easier to find your notebooks later.**\n",
    "\n"
   ]
  },
  {
   "cell_type": "markdown",
   "id": "638d18cd",
   "metadata": {},
   "source": [
    "## Cell Types\n",
    "There are two main types of cells in a Jupyter Notebook: code cells and markdown cells.\n",
    "- Code Cells: These cells contain code that can be executed. You can write code in Python (or other languages if you have the appropriate kernel installed) and run it to see the output. Code cells are indicated by a `In [ ]:` prompt on the left side. \n",
    "- Markdown Cells: These cells contain text formatted using Markdown, a lightweight markup language. You can use markdown cells to add headings, lists, links, images, and other formatting to your notebook. Markdown cells are indicated by the absence of the `In [ ]:` prompt.\n",
    "\n",
    "This cell is a markdown cell. You can tell because it does not have the `In [ ]:` prompt on the left side.\n",
    "\n",
    "The cell below is a code cell. You can tell because it has the `In [ ]:` prompt on the left side. You can run the code in this cell by clicking on the play button on the left side of the cell or by pressing `Shift + Enter`.\n",
    "\n",
    "You can change a cell from code to markdown or vice versa by selecting the cell and then using the dropdown menu in the toolbar that says \"Code\" or \"Markdown\". You can also use the keyboard shortcuts `Y` for code and `M` for markdown when the cell is selected.\n",
    "\n",
    "YOu can create a new cell by clicking on the `+` button in the toolbar or pressing `B` to create a new cell below the current cell or `A` to create a new cell above the current cell. \n",
    "\n",
    "You can delete a cell by selecting the cell and then clicking on the scissors button in the toolbar or by pressing `D` twice when the cell is selected.\n",
    "\n",
    "When you are editing a cell, you are in \"edit mode\". You can tell because the cell border will be blue. You can exit edit mode by pressing `Esc`. When you are not editing a cell, you are in \"command mode\". You can tell because the cell border will be gray. You can enter edit mode by clicking on the cell or by pressing `Enter` when the cell is selected. Keyboard shortcuts (like `Y`, `M`, `B`, `A`, `D`) only work in command mode.\n",
    "\n",
    "If you don't know how to do something, you can usually find the answer by a quick google search.\n"
   ]
  },
  {
   "cell_type": "code",
   "execution_count": 1,
   "id": "aa2fd230",
   "metadata": {},
   "outputs": [
    {
     "name": "stdout",
     "output_type": "stream",
     "text": [
      "hello world!\n"
     ]
    }
   ],
   "source": [
    "print('hello world!')"
   ]
  },
  {
   "cell_type": "markdown",
   "id": "2d9c49e7",
   "metadata": {},
   "source": [
    "### basic formatting in markdown cells\n",
    "You can use markdown cells to format your text. Here are some basic formatting options:\n",
    "- **Bold**: `**bold text**` or `__bold text__` → **bold text**\n",
    "- *Italic*: `*italic text*` or `_italic text_` → *italic text* \n",
    "- [Link](https://www.example.com): `[Link](https://www.example.com)` → [Link](https://www.example.com)\n",
    "- Headings:\n",
    "    - `# Heading 1` → \n",
    "    # Heading 1\n",
    "    - `## Heading 2` → \n",
    "    ## Heading 2\n",
    "    - `### Heading 3` → \n",
    "    ### Heading 3\n",
    "- Lists:\n",
    "    - Unordered List:\n",
    "        - `- Item 1` → \n",
    "        - Item 1\n",
    "        - `- Item 2` → \n",
    "        - Item 2\n",
    "- Images: `![Alt Text](image_url)` → \n",
    "    ![Alt Text](https://www.python.org/static/community_logos/python-logo.png)\n",
    "\n",
    "- Tables:\n",
    "    ```\n",
    "    | Header 1 | Header 2 |\n",
    "    |----------|----------|\n",
    "    | Cell 1   | Cell 2   |\n",
    "    | Cell 3   | Cell 4   |\n",
    "    ```\n",
    "    → \n",
    "    | Header 1 | Header 2 |\n",
    "    |----------|----------|\n",
    "    | Cell 1   | Cell 2   |\n",
    "    | Cell 3   | Cell 4   |"
   ]
  },
  {
   "cell_type": "markdown",
   "id": "2cf5370c",
   "metadata": {
    "tags": []
   },
   "source": [
    "## Latex equation\n",
    "\n",
    "You can write inline equations using single dollar signs `$...$` and display equations using double dollar signs `$$...$$` or `\\begin{equation}...\\end{equation}`. Here are some examples:\n",
    "### Inline equations\n",
    "The area of a circle is given by $A=\\pi r^2$.\n",
    "\n",
    "The quadratic formula is given by $x=\\frac{-b\\pm\\sqrt{b^2-4ac}}{2a}$.\n",
    "\n",
    "Some Greek letters:\n",
    "\n",
    "$\\pi \\alpha \\beta \\gamma \\sigma \\chi \\xi \\lambda \\Sigma$\n",
    "\n",
    "Some common math symbols:\n",
    "\n",
    "$ \\times \\div \\pm \\mp \\cdot \\infty \\int \\sum \\Delta \\nabla \\partial \\approx \\equiv \\propto \\perp \\angle \\degree $\n",
    "\n",
    "\n",
    "$\\pi r^2$\n",
    "\n",
    "$L_{2+3}$\n",
    "\n",
    "$\\sqrt[3]{a+b}$\n",
    "\n",
    "$a^{1/n}$\n",
    "\n",
    "$\\frac{a+b}{c+d}$\n",
    "\n",
    "$e^{i\\pi}+1=0$\n",
    "\n",
    "$\\hbar$\n",
    "\n",
    "### Display equations\n",
    "You can write display equations using double dollar signs `$$...$$` or `\\begin{equation}...\\end{equation}`.\n",
    "\n",
    "The Newton's second law is given by\n",
    "$$F=ma$$\n",
    "\n",
    "\\begin{equation}\n",
    "F=ma\n",
    "\\end{equation}\n",
    "\n",
    "### Display equation with more lines\n",
    "Some equations are too long to fit in one line. You can use the `aligned` environment to align multiple lines of equations.\n",
    "\n",
    "\\begin{equation}\n",
    "\\begin{aligned}\n",
    "a=r \\sin \\theta \\\\\n",
    "b=r \\cos \\theta\n",
    "\\end{aligned}\n",
    "\\end{equation}"
   ]
  }
 ],
 "metadata": {
  "kernelspec": {
   "display_name": "base",
   "language": "python",
   "name": "python3"
  },
  "language_info": {
   "codemirror_mode": {
    "name": "ipython",
    "version": 3
   },
   "file_extension": ".py",
   "mimetype": "text/x-python",
   "name": "python",
   "nbconvert_exporter": "python",
   "pygments_lexer": "ipython3",
   "version": "3.12.7"
  }
 },
 "nbformat": 4,
 "nbformat_minor": 5
}
