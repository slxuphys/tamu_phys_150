{
 "cells": [
  {
   "cell_type": "markdown",
   "metadata": {
    "slideshow": {
     "slide_type": "slide"
    }
   },
   "source": [
    "<h1> Programming for Physics <br> Lecture 6: Loop </h1>\n",
    "<a target=\"_blank\" href=\"https://colab.research.google.com/github/slxuphys/tamu_phys_150/blob/master/lecture/lecture%2006%20loop.ipynb\">\n",
    "  <img src=\"https://colab.research.google.com/assets/colab-badge.svg\" alt=\"Open In Colab\"/>\n",
    "</a>\n"
   ]
  },
  {
   "cell_type": "markdown",
   "metadata": {
    "cell_style": "split",
    "slideshow": {
     "slide_type": "slide"
    }
   },
   "source": [
    "## Loops\n",
    "\n",
    "Loops are used to repeat a block of code multiple times. It is useful when we want to repeat a task many times.\n",
    "\n",
    "Example:\n",
    "\n",
    "- determine if 32424913 is a prime number\n",
    "\n",
    "- find the largest number in a list\n",
    "\n",
    "...\n",
    "\n",
    "Loop makes the largest difference between computer and human. For human, we can in principle repeat a task many times, but it is very tedious. For computer, it can repeat a task many times without getting tired."
   ]
  },
  {
   "cell_type": "markdown",
   "metadata": {
    "cell_style": "split",
    "slideshow": {
     "slide_type": "fragment"
    }
   },
   "source": [
    "There are two types of loops in Python for repeating blocks of codes:\n",
    "- repeat as long as a condition is True: __while__\n",
    "- repeat for a fixed number of times: __for__\n",
    "\n",
    "Each repetition of the loop is called an __iteration__."
   ]
  },
  {
   "cell_type": "markdown",
   "metadata": {
    "slideshow": {
     "slide_type": "slide"
    }
   },
   "source": [
    "## While Loops\n",
    "\n",
    "<div style='display:flex;align-items:center;height:500px'>\n",
    "<img src='https://github.com/slxuphys/tamu_phys_150/blob/master/gallery/flowchart_while.png?raw=true' style=\"height:100%;margin-right:50px\" height=400>\n",
    "\n",
    "<div>\n",
    "\n",
    "```python\n",
    "while condition:\n",
    "    <while_statement1>\n",
    "    <while_statement2>\n",
    "<statement3>\n",
    "```\n",
    "\n",
    "Statement 1&2 are in the while block\n",
    "\n",
    "Pay attention to the colon and indentation.\n",
    "\n",
    "- condition is a boolean expression: True or False.\n",
    "- if condition is True, the code in the while block (indented) will be executed\n",
    "- after executing the while block, which may result in changing the condition, the condition will be checked again\n",
    "- if condition is still True, the while block will be executed again\n",
    "- this process will continue until the condition is False\n",
    "- when condition is False, the code in the while block will be skipped and the code after the while block will be executed\n",
    "\n",
    "</div>\n",
    "\n",
    "</div>\n",
    "\n",
    "\n",
    "\n"
   ]
  },
  {
   "cell_type": "markdown",
   "metadata": {
    "cell_style": "split",
    "slideshow": {
     "slide_type": "fragment"
    }
   },
   "source": [
    "#### Example"
   ]
  },
  {
   "cell_type": "markdown",
   "metadata": {},
   "source": [
    "Print 'hello world!' 10 times."
   ]
  },
  {
   "cell_type": "code",
   "execution_count": 16,
   "metadata": {
    "cell_style": "split"
   },
   "outputs": [
    {
     "name": "stdout",
     "output_type": "stream",
     "text": [
      "hello world!\n",
      "1\n",
      "end of the iteration\n",
      "\n",
      "hello world!\n",
      "2\n",
      "end of the iteration\n",
      "\n",
      "hello world!\n",
      "3\n",
      "end of the iteration\n",
      "\n",
      "hello world!\n",
      "4\n",
      "end of the iteration\n",
      "\n",
      "hello world!\n",
      "5\n",
      "end of the iteration\n",
      "\n",
      "hello world!\n",
      "6\n",
      "end of the iteration\n",
      "\n",
      "hello world!\n",
      "7\n",
      "end of the iteration\n",
      "\n",
      "hello world!\n",
      "8\n",
      "end of the iteration\n",
      "\n",
      "hello world!\n",
      "9\n",
      "end of the iteration\n",
      "\n",
      "hello world!\n",
      "10\n",
      "end of the iteration\n",
      "\n"
     ]
    }
   ],
   "source": [
    "counter = 0\n",
    "while counter<10:\n",
    "    print('hello world!')\n",
    "    counter = counter + 1\n",
    "    print(counter)\n",
    "    print('end of the iteration\\n')"
   ]
  },
  {
   "cell_type": "markdown",
   "metadata": {},
   "source": [
    "The code above is equivalent to"
   ]
  },
  {
   "cell_type": "code",
   "execution_count": 25,
   "metadata": {},
   "outputs": [
    {
     "name": "stdout",
     "output_type": "stream",
     "text": [
      "hello world!\n",
      "1\n",
      "end of the iteration\n",
      "\n",
      "hello world!\n",
      "2\n",
      "end of the iteration\n",
      "\n",
      "hello world!\n",
      "3\n",
      "end of the iteration\n",
      "\n",
      "hello world!\n",
      "4\n",
      "end of the iteration\n",
      "\n",
      "hello world!\n",
      "5\n",
      "end of the iteration\n",
      "\n",
      "hello world!\n",
      "6\n",
      "end of the iteration\n",
      "\n"
     ]
    }
   ],
   "source": [
    "counter = 0\n",
    "if counter<10:\n",
    "    print('hello world!')\n",
    "    counter = counter + 1\n",
    "    print(counter)\n",
    "    print('end of the iteration\\n')\n",
    "if counter<10:\n",
    "    print('hello world!')\n",
    "    counter = counter + 1\n",
    "    print(counter)\n",
    "    print('end of the iteration\\n')\n",
    "if counter<10:\n",
    "    print('hello world!')\n",
    "    counter = counter + 1\n",
    "    print(counter)\n",
    "    print('end of the iteration\\n')\n",
    "if counter<10:\n",
    "    print('hello world!')\n",
    "    counter = counter + 1\n",
    "    print(counter)\n",
    "    print('end of the iteration\\n')\n",
    "if counter<10:\n",
    "    print('hello world!')\n",
    "    counter = counter + 1\n",
    "    print(counter)\n",
    "    print('end of the iteration\\n')\n",
    "if counter<10:\n",
    "    print('hello world!')\n",
    "    counter = counter + 1\n",
    "    print(counter)\n",
    "    print('end of the iteration\\n')\n",
    "# ..."
   ]
  },
  {
   "cell_type": "markdown",
   "metadata": {},
   "source": [
    "Motion with a constant velocity\n",
    "\n",
    "A ball is rolling at a velocity 6m/s second towards a wall that is 50 meters away. Print the position of the ball every second before it hits the wall. (Pay attention to the condition and the order of the statements in the while block.)"
   ]
  },
  {
   "cell_type": "code",
   "execution_count": 17,
   "metadata": {
    "cell_style": "split",
    "slideshow": {
     "slide_type": "skip"
    }
   },
   "outputs": [
    {
     "name": "stdout",
     "output_type": "stream",
     "text": [
      "the position of the ball is 0m.\n",
      "the position of the ball is 6m.\n",
      "the position of the ball is 12m.\n",
      "the position of the ball is 18m.\n",
      "the position of the ball is 24m.\n",
      "the position of the ball is 30m.\n",
      "the position of the ball is 36m.\n",
      "the position of the ball is 42m.\n",
      "the position of the ball is 48m.\n",
      "the ball hits the wall\n"
     ]
    }
   ],
   "source": [
    "pos = 0\n",
    "v_ball = 6\n",
    "while pos<=50:\n",
    "    print(f'the position of the ball is {pos}m.')\n",
    "    pos = pos + v_ball\n",
    "print('the ball hits the wall')"
   ]
  },
  {
   "cell_type": "code",
   "execution_count": 11,
   "metadata": {},
   "outputs": [
    {
     "name": "stdout",
     "output_type": "stream",
     "text": [
      "the position of the ball is 1 m.\n",
      "⚽🌿🌿🌿🌿🌿🌿🌿🌿🌿🌿🌿🌿🌿🌿🌿🌿🌿🌿🌿🧱\n",
      "the position of the ball is 2 m.\n",
      "🌿⚽🌿🌿🌿🌿🌿🌿🌿🌿🌿🌿🌿🌿🌿🌿🌿🌿🌿🌿🧱\n",
      "the position of the ball is 3 m.\n",
      "🌿🌿⚽🌿🌿🌿🌿🌿🌿🌿🌿🌿🌿🌿🌿🌿🌿🌿🌿🌿🧱\n",
      "the position of the ball is 4 m.\n",
      "🌿🌿🌿⚽🌿🌿🌿🌿🌿🌿🌿🌿🌿🌿🌿🌿🌿🌿🌿🌿🧱\n",
      "the position of the ball is 5 m.\n",
      "🌿🌿🌿🌿⚽🌿🌿🌿🌿🌿🌿🌿🌿🌿🌿🌿🌿🌿🌿🌿🧱\n",
      "the position of the ball is 6 m.\n",
      "🌿🌿🌿🌿🌿⚽🌿🌿🌿🌿🌿🌿🌿🌿🌿🌿🌿🌿🌿🌿🧱\n",
      "the position of the ball is 7 m.\n",
      "🌿🌿🌿🌿🌿🌿⚽🌿🌿🌿🌿🌿🌿🌿🌿🌿🌿🌿🌿🌿🧱\n",
      "the position of the ball is 8 m.\n",
      "🌿🌿🌿🌿🌿🌿🌿⚽🌿🌿🌿🌿🌿🌿🌿🌿🌿🌿🌿🌿🧱\n",
      "the position of the ball is 9 m.\n",
      "🌿🌿🌿🌿🌿🌿🌿🌿⚽🌿🌿🌿🌿🌿🌿🌿🌿🌿🌿🌿🧱\n",
      "the position of the ball is 10 m.\n",
      "🌿🌿🌿🌿🌿🌿🌿🌿🌿⚽🌿🌿🌿🌿🌿🌿🌿🌿🌿🌿🧱\n",
      "the position of the ball is 11 m.\n",
      "🌿🌿🌿🌿🌿🌿🌿🌿🌿🌿⚽🌿🌿🌿🌿🌿🌿🌿🌿🌿🧱\n",
      "the position of the ball is 12 m.\n",
      "🌿🌿🌿🌿🌿🌿🌿🌿🌿🌿🌿⚽🌿🌿🌿🌿🌿🌿🌿🌿🧱\n",
      "the position of the ball is 13 m.\n",
      "🌿🌿🌿🌿🌿🌿🌿🌿🌿🌿🌿🌿⚽🌿🌿🌿🌿🌿🌿🌿🧱\n",
      "the position of the ball is 14 m.\n",
      "🌿🌿🌿🌿🌿🌿🌿🌿🌿🌿🌿🌿🌿⚽🌿🌿🌿🌿🌿🌿🧱\n",
      "the position of the ball is 15 m.\n",
      "🌿🌿🌿🌿🌿🌿🌿🌿🌿🌿🌿🌿🌿🌿⚽🌿🌿🌿🌿🌿🧱\n",
      "the position of the ball is 16 m.\n",
      "🌿🌿🌿🌿🌿🌿🌿🌿🌿🌿🌿🌿🌿🌿🌿⚽🌿🌿🌿🌿🧱\n",
      "the position of the ball is 17 m.\n",
      "🌿🌿🌿🌿🌿🌿🌿🌿🌿🌿🌿🌿🌿🌿🌿🌿⚽🌿🌿🌿🧱\n",
      "the position of the ball is 18 m.\n",
      "🌿🌿🌿🌿🌿🌿🌿🌿🌿🌿🌿🌿🌿🌿🌿🌿🌿⚽🌿🌿🧱\n",
      "the position of the ball is 19 m.\n",
      "🌿🌿🌿🌿🌿🌿🌿🌿🌿🌿🌿🌿🌿🌿🌿🌿🌿🌿⚽🌿🧱\n",
      "the position of the ball is 20 m.\n",
      "🌿🌿🌿🌿🌿🌿🌿🌿🌿🌿🌿🌿🌿🌿🌿🌿🌿🌿🌿⚽🧱\n"
     ]
    }
   ],
   "source": [
    "#make the code more interesting\n",
    "pos = 1\n",
    "length = 20\n",
    "while pos<=length:\n",
    "    graphics_string = '🌿'*(pos-1) + '⚽' + '🌿'*(length - pos)+'🧱'\n",
    "    print(f'the position of the ball is {pos} m.')\n",
    "    pos=pos+1\n",
    "    print(graphics_string)"
   ]
  },
  {
   "cell_type": "code",
   "execution_count": 14,
   "metadata": {},
   "outputs": [
    {
     "name": "stdout",
     "output_type": "stream",
     "text": [
      "🌿🌿🌿🌿🌿🌿🌿🌿🌿🌿🌿🌿🌿🌿🌿🌿🌿🌿🌿🎃🧱\n"
     ]
    }
   ],
   "source": [
    "#make the code more interesting\n",
    "#run this cell please\n",
    "from IPython.display import clear_output\n",
    "import time\n",
    "\n",
    "#make the code more interesting\n",
    "pos = 0\n",
    "length = 20\n",
    "while pos<=length:\n",
    "    graphics_string = '🌿'*(pos-1) + '🎃' + '🌿'*(length - pos)+'🧱'\n",
    "    print(graphics_string)\n",
    "    pos=pos+1\n",
    "    clear_output(wait=True) #clear output before new output\n",
    "    time.sleep(0.25) #wait for 0.25s between iterations"
   ]
  },
  {
   "cell_type": "markdown",
   "metadata": {
    "cell_style": "center",
    "slideshow": {
     "slide_type": "fragment"
    }
   },
   "source": [
    "### Exercise\n",
    "\n",
    "Print the player's input until the player inputs 'stop'."
   ]
  },
  {
   "cell_type": "code",
   "execution_count": 18,
   "metadata": {
    "slideshow": {
     "slide_type": "skip"
    }
   },
   "outputs": [
    {
     "name": "stdout",
     "output_type": "stream",
     "text": [
      "hello\n",
      "did you do your homework\n",
      "hello again\n",
      "hello\n",
      "stop\n"
     ]
    }
   ],
   "source": [
    "mss = ''\n",
    "while mss!='stop':\n",
    "    mss = input('input a message: ')\n",
    "    print(mss)"
   ]
  },
  {
   "cell_type": "markdown",
   "metadata": {
    "slideshow": {
     "slide_type": "slide"
    }
   },
   "source": [
    "check if a number is a prime number"
   ]
  },
  {
   "cell_type": "code",
   "execution_count": 9,
   "metadata": {
    "slideshow": {
     "slide_type": "skip"
    }
   },
   "outputs": [
    {
     "name": "stdout",
     "output_type": "stream",
     "text": [
      "2\n",
      "4\n",
      "7\n",
      "14\n",
      "28\n",
      "44017\n",
      "88034\n",
      "176068\n",
      "308119\n",
      "616238\n",
      "False\n"
     ]
    }
   ],
   "source": [
    "num = 1232476\n",
    "is_prime = True\n",
    "factor=2\n",
    "while factor<num:\n",
    "    if num % factor ==0: #true if factor is a factor \n",
    "        is_prime = False # then num is not a prime number\n",
    "        print(factor)\n",
    "    factor=factor+1\n",
    "print(is_prime)\n"
   ]
  },
  {
   "cell_type": "markdown",
   "metadata": {},
   "source": [
    "### Attention\n",
    "\n",
    "Loop can stuck due to bugs in the code. In this case, you need to interrupt the kernel. \n",
    "\n",
    "```python\n",
    "pos = 0\n",
    "while pos<50:\n",
    "    print(pos)\n",
    "print('the ball hits the wall')\n",
    "```\n",
    "In the code above, the value of the variable `pos` stays 0 and the condition `pos<50` is `True` forever. Therefore the loop never ends. In this case, interrupt the kernel to the stop the code and debug!"
   ]
  },
  {
   "cell_type": "markdown",
   "metadata": {
    "cell_style": "split"
   },
   "source": [
    "## For Loops\n",
    "\n",
    "<div style='display:flex;align-items:center;height:500px'>\n",
    "<img src='https://github.com/slxuphys/tamu_phys_150/blob/master/gallery/flowchart_for.png?raw=true' style=\"height:100%;margin-right:50px\" height=400>\n",
    "\n",
    "<div>\n",
    "\n",
    "```python\n",
    "for x in <sequence>:\n",
    "    <for_statement1>\n",
    "    <for_statement2>\n",
    "<statement>\n",
    "```\n",
    "\n",
    "in each iteration, the value of x is set to an item in the sequence\n",
    "</div>\n",
    "\n",
    "</div>\n",
    "\n"
   ]
  },
  {
   "cell_type": "markdown",
   "metadata": {},
   "source": [
    "### sequence\n",
    "- a string\n",
    "- range(start,end,step) returns an integer sequence\n",
    "- container (list,tuple, set, ...)"
   ]
  },
  {
   "cell_type": "markdown",
   "metadata": {},
   "source": [
    "#### String"
   ]
  },
  {
   "cell_type": "code",
   "execution_count": 23,
   "metadata": {
    "ExecuteTime": {
     "end_time": "2020-09-18T02:21:07.631460Z",
     "start_time": "2020-09-18T02:21:07.624610Z"
    },
    "cell_style": "split",
    "slideshow": {
     "slide_type": "skip"
    }
   },
   "outputs": [
    {
     "name": "stdout",
     "output_type": "stream",
     "text": [
      "a\n",
      "p\n",
      "p\n",
      "l\n",
      "e\n"
     ]
    }
   ],
   "source": [
    "a = 'apple'\n",
    "for xx in a: # a is the sequence in this case a string\n",
    "    print(xx)"
   ]
  },
  {
   "cell_type": "markdown",
   "metadata": {},
   "source": [
    "The code above is equivalent to:"
   ]
  },
  {
   "cell_type": "code",
   "execution_count": 24,
   "metadata": {},
   "outputs": [
    {
     "name": "stdout",
     "output_type": "stream",
     "text": [
      "a\n",
      "p\n",
      "p\n",
      "l\n",
      "e\n"
     ]
    }
   ],
   "source": [
    "a = 'apple'\n",
    "xx = a[0]\n",
    "print(xx)\n",
    "xx = a[1]\n",
    "print(xx)\n",
    "xx = a[2]\n",
    "print(xx)\n",
    "xx = a[3]\n",
    "print(xx)\n",
    "xx = a[4]\n",
    "print(xx)"
   ]
  },
  {
   "cell_type": "markdown",
   "metadata": {
    "cell_style": "split",
    "slideshow": {
     "slide_type": "slide"
    }
   },
   "source": [
    "#### range function\n",
    "- ```range(start,end,step)``` returns an integer sequence\n",
    "\n",
    "    start, start+step, start+2step, start+3step, ... end-1\n",
    "- same syntax as the index slicing\n",
    "\n",
    "- ```range(n)``` same as ```range(0,n)```\n",
    "\n"
   ]
  },
  {
   "cell_type": "code",
   "execution_count": 28,
   "metadata": {
    "cell_style": "split",
    "slideshow": {
     "slide_type": "skip"
    }
   },
   "outputs": [
    {
     "name": "stdout",
     "output_type": "stream",
     "text": [
      "1\n",
      "3\n",
      "5\n",
      "7\n",
      "9\n"
     ]
    }
   ],
   "source": [
    "for x in range(1,10,2):\n",
    "    print(x)"
   ]
  },
  {
   "cell_type": "markdown",
   "metadata": {
    "cell_style": "center",
    "slideshow": {
     "slide_type": "slide"
    }
   },
   "source": [
    "Example\n",
    "calculate $n!=1\\times 2\\times 3 \\times 4 \\cdots n$"
   ]
  },
  {
   "cell_type": "code",
   "execution_count": 34,
   "metadata": {
    "slideshow": {
     "slide_type": "skip"
    }
   },
   "outputs": [
    {
     "name": "stdout",
     "output_type": "stream",
     "text": [
      "1\n",
      "2\n",
      "6\n",
      "24\n",
      "120\n",
      "720\n",
      "5040\n",
      "40320\n",
      "362880\n",
      "3628800\n",
      "3628800\n"
     ]
    }
   ],
   "source": [
    "n=10\n",
    "f=1\n",
    "for x in range(1,n+1):\n",
    "    f = f*x\n",
    "    print(f)\n",
    "print(f)"
   ]
  },
  {
   "cell_type": "markdown",
   "metadata": {
    "cell_style": "center",
    "slideshow": {
     "slide_type": "slide"
    }
   },
   "source": [
    "calculate $1+2+3+...n$"
   ]
  },
  {
   "cell_type": "code",
   "execution_count": 32,
   "metadata": {
    "slideshow": {
     "slide_type": "skip"
    }
   },
   "outputs": [
    {
     "name": "stdout",
     "output_type": "stream",
     "text": [
      "1\n",
      "3\n",
      "6\n",
      "10\n",
      "15\n",
      "21\n",
      "28\n",
      "36\n",
      "45\n",
      "55\n",
      "55\n"
     ]
    }
   ],
   "source": [
    "n=10\n",
    "f=0\n",
    "for x in range(1,n+1):\n",
    "    f = f+x\n",
    "    print(f)\n",
    "print(f)"
   ]
  },
  {
   "cell_type": "markdown",
   "metadata": {},
   "source": [
    "#### container \n",
    "\n",
    "Containers (list , tuple, set, dictionary, ...) are new variable types in python. We will see more details in lecture 7. The containers can be used as a sequence in a for loop."
   ]
  },
  {
   "cell_type": "code",
   "execution_count": 27,
   "metadata": {},
   "outputs": [
    {
     "name": "stdout",
     "output_type": "stream",
     "text": [
      "1\n",
      "2\n",
      "ab\n",
      "True\n",
      "None\n"
     ]
    }
   ],
   "source": [
    "list1 = [1, 2, 'ab',True, None]\n",
    "for x in list1:\n",
    "    print(x)"
   ]
  },
  {
   "cell_type": "markdown",
   "metadata": {
    "cell_style": "split"
   },
   "source": [
    "## Break\n",
    "\n",
    "<img src='https://github.com/slxuphys/tamu_phys_150/blob/master/gallery/flowchart_break.png?raw=true' style=\"height:400;margin-right:50px\" height=400>\n",
    "\n",
    "\n",
    "In a loop, for or while, break statement terminates the loop."
   ]
  },
  {
   "cell_type": "markdown",
   "metadata": {
    "ExecuteTime": {
     "end_time": "2020-09-18T03:48:20.145235Z",
     "start_time": "2020-09-18T03:48:20.137183Z"
    },
    "cell_style": "split",
    "slideshow": {
     "slide_type": "fragment"
    }
   },
   "source": [
    "Loop over a string and print each character. Terminate the loop when the character is a digit."
   ]
  },
  {
   "cell_type": "code",
   "execution_count": 30,
   "metadata": {
    "cell_style": "split"
   },
   "outputs": [
    {
     "name": "stdout",
     "output_type": "stream",
     "text": [
      "a\n",
      "p\n",
      "p\n",
      "l\n",
      "e\n"
     ]
    }
   ],
   "source": [
    "a = 'apple3orange'\n",
    "for x in a:\n",
    "    if x.isdigit(): #isdigit is a string method. It returns True if the string only contain digits.\n",
    "        break\n",
    "    print(x)"
   ]
  },
  {
   "cell_type": "markdown",
   "metadata": {
    "cell_style": "split",
    "slideshow": {
     "slide_type": "fragment"
    }
   },
   "source": [
    "#### Example\n",
    "Determine whether a number is a prime number."
   ]
  },
  {
   "cell_type": "code",
   "execution_count": 32,
   "metadata": {
    "cell_style": "split",
    "slideshow": {
     "slide_type": "skip"
    }
   },
   "outputs": [
    {
     "name": "stdout",
     "output_type": "stream",
     "text": [
      "3\n",
      "False\n"
     ]
    }
   ],
   "source": [
    "n=123\n",
    "is_prime = True\n",
    "factor=2\n",
    "while factor<n:\n",
    "    if n%factor ==0:\n",
    "        is_prime = False\n",
    "        print(factor)\n",
    "        break #we know it is not a prime number if we find one factors and there is no need to continue the loop.\n",
    "    factor=factor+1\n",
    "print(is_prime)"
   ]
  },
  {
   "cell_type": "markdown",
   "metadata": {},
   "source": [
    "##  Continue\n",
    "\n",
    "<img src='https://github.com/slxuphys/tamu_phys_150/blob/master/gallery/flowchart_continue.png?raw=true' style=\"height:400;margin-right:50px\" height=400>\n",
    "\n",
    "\n",
    "When python sees continue statement in a loop, it ignores the statements after and continue the next iteration of the loop"
   ]
  },
  {
   "cell_type": "markdown",
   "metadata": {
    "cell_style": "split",
    "slideshow": {
     "slide_type": "fragment"
    }
   },
   "source": [
    "Loop over a string and print each character, skipping digits."
   ]
  },
  {
   "cell_type": "code",
   "execution_count": null,
   "metadata": {
    "ExecuteTime": {
     "end_time": "2020-09-18T03:53:17.283637Z",
     "start_time": "2020-09-18T03:53:17.277657Z"
    },
    "cell_style": "split",
    "slideshow": {
     "slide_type": "skip"
    }
   },
   "outputs": [
    {
     "name": "stdout",
     "output_type": "stream",
     "text": [
      "a\n",
      "p\n",
      "p\n",
      "l\n",
      "e\n",
      "o\n",
      "r\n",
      "a\n",
      "n\n",
      "g\n",
      "e\n"
     ]
    }
   ],
   "source": [
    "a = 'apple232orange11'\n",
    "for x in a:\n",
    "    if x.isdigit():\n",
    "        continue\n",
    "    print(x) # this line will only be executed if x is not integer"
   ]
  },
  {
   "cell_type": "markdown",
   "metadata": {
    "slideshow": {
     "slide_type": "slide"
    }
   },
   "source": [
    "## Indentation and nested code block\n",
    "Python indentation is a way of telling a Python interpreter that the group of statements belongs to a particular block of code. A block is a combination of all these statements with the same number of indent. Block can be regarded as the grouping of statements for a specific purpose (branching, loop, function, class, ...).\n",
    "\n",
    "One can put block within another block by using the nested indentation\n",
    "\n",
    "```python\n",
    "for x in range(4):\n",
    "    print('outer for loop')\n",
    "    for y in range(4):\n",
    "        print('inner for loop')\n",
    "        print(x,y)\n",
    "```\n",
    "continue and break statement only affect the most inner loop that it is in"
   ]
  },
  {
   "cell_type": "code",
   "execution_count": 4,
   "metadata": {
    "slideshow": {
     "slide_type": "skip"
    }
   },
   "outputs": [
    {
     "name": "stdout",
     "output_type": "stream",
     "text": [
      "outer for loop\n",
      "inner for loop\n",
      "0 0\n",
      "inner for loop\n",
      "0 1\n",
      "inner for loop\n",
      "0 2\n",
      "inner for loop\n",
      "0 3\n",
      "outer for loop\n",
      "inner for loop\n",
      "1 0\n",
      "inner for loop\n",
      "1 1\n",
      "inner for loop\n",
      "1 2\n",
      "inner for loop\n",
      "1 3\n",
      "outer for loop\n",
      "inner for loop\n",
      "2 0\n",
      "inner for loop\n",
      "2 1\n",
      "inner for loop\n",
      "2 2\n",
      "inner for loop\n",
      "2 3\n",
      "outer for loop\n",
      "inner for loop\n",
      "3 0\n",
      "inner for loop\n",
      "3 1\n",
      "inner for loop\n",
      "3 2\n",
      "inner for loop\n",
      "3 3\n"
     ]
    }
   ],
   "source": [
    "for x in range(4):\n",
    "    print('outer for loop')\n",
    "    for y in range(4):\n",
    "        print('inner for loop')\n",
    "        print(x,y)"
   ]
  },
  {
   "cell_type": "code",
   "execution_count": null,
   "metadata": {
    "slideshow": {
     "slide_type": "skip"
    }
   },
   "outputs": [],
   "source": [
    "#how is this different from the previous code?\n",
    "for x in range(4):\n",
    "    print('outer for loop')\n",
    "    for y in range(4):\n",
    "        print('inner for loop')\n",
    "    print(x,y)"
   ]
  },
  {
   "cell_type": "code",
   "execution_count": null,
   "metadata": {
    "slideshow": {
     "slide_type": "skip"
    }
   },
   "outputs": [],
   "source": [
    "#how about this?\n",
    "for x in range(4):\n",
    "    print('outer for loop')\n",
    "    for y in range(4):\n",
    "        print('inner for loop')\n",
    "print(x,y)"
   ]
  },
  {
   "cell_type": "markdown",
   "metadata": {
    "slideshow": {
     "slide_type": "slide"
    }
   },
   "source": [
    "## Exercise: find the first 100 prime numbers\n",
    "\n",
    "Try write the code without looking at the answer."
   ]
  },
  {
   "cell_type": "code",
   "execution_count": 35,
   "metadata": {
    "slideshow": {
     "slide_type": "skip"
    }
   },
   "outputs": [
    {
     "name": "stdout",
     "output_type": "stream",
     "text": [
      "2\n",
      "3\n",
      "5\n",
      "7\n",
      "11\n",
      "13\n",
      "17\n",
      "19\n",
      "23\n",
      "29\n"
     ]
    }
   ],
   "source": [
    "trial_integer=2\n",
    "num_found_prime=0\n",
    "target_number = 10\n",
    "\n",
    "while num_found_prime<target_number:\n",
    "    ### start to check if the trial_integer is a prime###\n",
    "    ### the same code as before\n",
    "    is_prime=True\n",
    "    for i in range(2,trial_integer):\n",
    "        if trial_integer%i==0: #dividable \n",
    "            is_prime=False\n",
    "            break #break the inner for loop\n",
    "    if is_prime: #if is_prime still remains true after the loop, it means that we find one new prime number\n",
    "        print(trial_integer)\n",
    "        num_found_prime = num_found_prime + 1\n",
    "    trial_integer=trial_integer+1 \n",
    "\n",
    "        \n",
    "        \n",
    "        "
   ]
  },
  {
   "cell_type": "markdown",
   "metadata": {},
   "source": [
    "## application: numerical integration\n",
    "\n",
    "\n",
    "\n",
    "$$\n",
    "\\int_a^b f(x) dx\n",
    "$$\n",
    "\n",
    "<img src='https://cdn1.byjus.com/wp-content/uploads/2021/06/Trapezoidal-rule.png' height=300 style='height:300'>\n",
    "\n",
    "$$\n",
    "\\int_a^b f(x) dx \\approx \\sum\\limits_{i=0}^{n-1} \\frac{f(x_i) + f(x_{i+1})}{2} \\Delta x\n",
    "$$\n",
    "where $x_i = x_{i-1}+\\Delta x$ and $\\Delta x = (b-a)/n$ is the width of each bin.\n",
    "\n",
    "The total area is the sum of the areas of each bin. We can calculate the sum by a for loop. The accuracy of the numerical integration is controlled by the number of bins."
   ]
  },
  {
   "cell_type": "markdown",
   "metadata": {},
   "source": [
    "Let's try \n",
    "$$\n",
    "\\int_1^2 x^2 dx \n",
    "$$\n",
    "The analytical result is $\\frac{1}{3}(2^3-1^3)=\\frac{7}{3}$."
   ]
  },
  {
   "cell_type": "code",
   "execution_count": 2,
   "metadata": {},
   "outputs": [
    {
     "name": "stdout",
     "output_type": "stream",
     "text": [
      "numerical result for n=100: 2.3333374999999648\n",
      "analytical result: 2.3333333333333335\n"
     ]
    }
   ],
   "source": [
    "#f(x) = x**2\n",
    "a = 1\n",
    "b = 2\n",
    "n = 200\n",
    "\n",
    "x_left = a\n",
    "dx = (b-a)/n\n",
    "area = 0\n",
    "for i in range(n):\n",
    "    x_right =x_left + dx\n",
    "\n",
    "    area_bin = (x_left**2 + x_right**2)*dx/2\n",
    "    area = area + area_bin\n",
    "    x_left = x_left + dx# update x_left for the next iteration\n",
    "print(f'numerical result for n={100}:',area)\n",
    "print(f'analytical result:',7/3)\n"
   ]
  },
  {
   "cell_type": "markdown",
   "metadata": {},
   "source": [
    "This method works even for function $f(x)$ that cannot be integrated analytically."
   ]
  },
  {
   "cell_type": "markdown",
   "metadata": {},
   "source": [
    "You can get all the mathematical function from the NumPy package."
   ]
  },
  {
   "cell_type": "code",
   "execution_count": 6,
   "metadata": {},
   "outputs": [
    {
     "name": "stdout",
     "output_type": "stream",
     "text": [
      "1.0\n",
      "0.0\n",
      "1.0\n",
      "1.2\n"
     ]
    }
   ],
   "source": [
    "import numpy as np\n",
    "print(np.exp(0))\n",
    "print(np.sin(0))\n",
    "print(np.cos(0))\n",
    "print(np.sqrt(1.44))"
   ]
  },
  {
   "cell_type": "markdown",
   "metadata": {},
   "source": [
    "You can also only import the function you need."
   ]
  },
  {
   "cell_type": "code",
   "execution_count": 7,
   "metadata": {},
   "outputs": [
    {
     "data": {
      "text/plain": [
       "7.38905609893065"
      ]
     },
     "execution_count": 7,
     "metadata": {},
     "output_type": "execute_result"
    }
   ],
   "source": [
    "from numpy import exp\n",
    "exp(2)"
   ]
  },
  {
   "cell_type": "markdown",
   "metadata": {},
   "source": [
    "or a constant."
   ]
  },
  {
   "cell_type": "code",
   "execution_count": 3,
   "metadata": {},
   "outputs": [
    {
     "name": "stdout",
     "output_type": "stream",
     "text": [
      "3.141592653589793\n"
     ]
    }
   ],
   "source": [
    "from numpy import pi\n",
    "print(pi)"
   ]
  }
 ],
 "metadata": {
  "celltoolbar": "Slideshow",
  "kernelspec": {
   "display_name": "base",
   "language": "python",
   "name": "python3"
  },
  "language_info": {
   "codemirror_mode": {
    "name": "ipython",
    "version": 3
   },
   "file_extension": ".py",
   "mimetype": "text/x-python",
   "name": "python",
   "nbconvert_exporter": "python",
   "pygments_lexer": "ipython3",
   "version": "3.12.7"
  },
  "latex_envs": {
   "LaTeX_envs_menu_present": true,
   "autoclose": false,
   "autocomplete": true,
   "bibliofile": "biblio.bib",
   "cite_by": "apalike",
   "current_citInitial": 1,
   "eqLabelWithNumbers": true,
   "eqNumInitial": 1,
   "hotkeys": {
    "equation": "Ctrl-E",
    "itemize": "Ctrl-I"
   },
   "labels_anchors": false,
   "latex_user_defs": false,
   "report_style_numbering": false,
   "user_envs_cfg": false
  },
  "varInspector": {
   "cols": {
    "lenName": 16,
    "lenType": 16,
    "lenVar": 40
   },
   "kernels_config": {
    "python": {
     "delete_cmd_postfix": "",
     "delete_cmd_prefix": "del ",
     "library": "var_list.py",
     "varRefreshCmd": "print(var_dic_list())"
    },
    "r": {
     "delete_cmd_postfix": ") ",
     "delete_cmd_prefix": "rm(",
     "library": "var_list.r",
     "varRefreshCmd": "cat(var_dic_list()) "
    }
   },
   "types_to_exclude": [
    "module",
    "function",
    "builtin_function_or_method",
    "instance",
    "_Feature"
   ],
   "window_display": false
  }
 },
 "nbformat": 4,
 "nbformat_minor": 4
}
