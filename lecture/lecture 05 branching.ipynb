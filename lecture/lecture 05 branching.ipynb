{
 "cells": [
  {
   "cell_type": "markdown",
   "metadata": {
    "slideshow": {
     "slide_type": "slide"
    }
   },
   "source": [
    "<h1> Programming for Physics <br> Lecture 5: Branching </h1>\n",
    "<a target=\"_blank\" href=\"https://colab.research.google.com/github/slxuphys/tamu_phys_150/blob/master/lecture/lecture%2005%20branching.ipynb\">\n",
    "  <img src=\"https://colab.research.google.com/assets/colab-badge.svg\" alt=\"Open In Colab\"/>\n",
    "</a>\n",
    "\n",
    "![image](https://github.com/slxuphys/tamu_phys_150/blob/master/gallery/course_logo.png?raw=true)\n",
    "\n"
   ]
  },
  {
   "cell_type": "markdown",
   "metadata": {
    "slideshow": {
     "slide_type": "skip"
    }
   },
   "source": [
    "---"
   ]
  },
  {
   "cell_type": "markdown",
   "metadata": {},
   "source": [
    "<img src='https://github.com/slxuphys/tamu_phys_150/blob/master/gallery/statement.png?raw=true' style=\"\n",
    "    height: 200px\" height=200>\n",
    "\n",
    "As we have seen, Python executes the statements line by line.\n",
    "- wake up\n",
    "- brush teeth\n",
    "- eat breakfast \n",
    "- go to school\n",
    "- go to class\n",
    "\n",
    "Such simple structure is not enough for many cases. For example, videos games are based on the player's input."
   ]
  },
  {
   "cell_type": "markdown",
   "metadata": {
    "cell_style": "split"
   },
   "source": [
    "\n",
    "<div style='display:flex;align-items: center;height:400px'>\n",
    "\n",
    "\n",
    "\n",
    "<img src='https://github.com/slxuphys/tamu_phys_150/blob/master/gallery/flowcontrol.png?raw=true' style=\"height:100%\" height=400>\n",
    "\n",
    "\n",
    "\n",
    "__We need richer structure__: flow control (logic)\n",
    "\n",
    "</div>"
   ]
  },
  {
   "cell_type": "markdown",
   "metadata": {
    "slideshow": {
     "slide_type": "slide"
    }
   },
   "source": [
    "## Branching\n",
    "\n",
    "\n",
    "__Branching__ is where a program decides whether to do something or not based on conditions\n",
    "\n",
    "- wake up\n",
    "- brush teeth\n",
    "- eat breakfast \n",
    "- go to school\n",
    "- go to class\n",
    "\n",
    "\n",
    "### three structures\n",
    "\n",
    "1. if: if it is raining, bring umbrella. \n",
    "2. if else: go to school if it is a weekday, otherwise stay home.\n",
    "3. if elif else: Different plans for each day.\n"
   ]
  },
  {
   "cell_type": "markdown",
   "metadata": {
    "cell_style": "split",
    "slideshow": {
     "slide_type": "slide"
    }
   },
   "source": [
    "## if\n",
    "\n",
    "<div style='display:flex;  align-items: center; height:400px'>\n",
    "\n",
    "\n",
    "<img src='https://github.com/slxuphys/tamu_phys_150/blob/master/gallery/flowchart_if.png?raw=true' style='height:100%' height=400>\n",
    "\n",
    "<div  style='margin-left:50px'>\n",
    "\n",
    "```python\n",
    "if condition:\n",
    "    <statement1>\n",
    "    <statement2>\n",
    "<statement3>\n",
    "```\n",
    "\n",
    "- condition is an expression evaluating to boolean (True or False)\n",
    "- Python executes statement1&2 only when condition is True\n",
    "- Note the indent in front of statement1&2.\n",
    "- Note the difference between statement1&2 and statement&3\n",
    "\n",
    "__colon__ after the condition\n",
    "\n",
    "</div>\n",
    "</div>"
   ]
  },
  {
   "cell_type": "code",
   "execution_count": 52,
   "metadata": {
    "cell_style": "split",
    "slideshow": {
     "slide_type": "skip"
    }
   },
   "outputs": [
    {
     "name": "stdout",
     "output_type": "stream",
     "text": [
      "c: False\n"
     ]
    }
   ],
   "source": [
    "a=-10 #try a=-10\n",
    "c= a>0\n",
    "print('c:',c)\n",
    "if a>0:\n",
    "    print('a is positive') #only when c is true\n",
    "print('outside if block') # does not depend on c"
   ]
  },
  {
   "cell_type": "markdown",
   "metadata": {},
   "source": [
    "\n",
    "## Indentation\n",
    "\n",
    "Indent is the only way Python determines if a statement is in a if block.\n",
    "\n",
    "- one indent by default is 4 spaces"
   ]
  },
  {
   "cell_type": "code",
   "execution_count": 53,
   "metadata": {},
   "outputs": [],
   "source": [
    "# how is this different from the previous example?\n",
    "a=-10\n",
    "if a>0: #a>0 is a boolean variable\n",
    "    print('the number is larger than 0')\n",
    "    print(a)"
   ]
  },
  {
   "cell_type": "markdown",
   "metadata": {
    "cell_style": "center",
    "slideshow": {
     "slide_type": "fragment"
    }
   },
   "source": [
    "#### Exercise\n",
    "Input a password. Print \"invalid password\" if its length is less than 10.\n",
    "\n",
    "Input a password. Print \"invalid password\"  if it does not contain capital letter."
   ]
  },
  {
   "cell_type": "code",
   "execution_count": 12,
   "metadata": {},
   "outputs": [
    {
     "name": "stdout",
     "output_type": "stream",
     "text": [
      "invalid password\n"
     ]
    }
   ],
   "source": [
    "pwd = input('input a password:')\n",
    "if len(pwd)<10:\n",
    "    print('invalid password')"
   ]
  },
  {
   "cell_type": "markdown",
   "metadata": {},
   "source": [
    "## Condition\n",
    "\n",
    "```python\n",
    "# x and y are boolean\n",
    "not x\n",
    "x and y\n",
    "x or y\n",
    "x ^ y\n",
    "```\n",
    "\n",
    "```python\n",
    "## check member, e.g., substring\n",
    "member in container\n",
    "member not in container\n",
    "```\n",
    "\n",
    "```python\n",
    "# from comparison\n",
    "x == y\n",
    "x != y\n",
    "x < y\n",
    "...\n",
    "```\n",
    "\n"
   ]
  },
  {
   "cell_type": "markdown",
   "metadata": {},
   "source": [
    "Exercise: Input a password. Print \"invalid password\" if its length is less than 10 or if it does not contain capital letter."
   ]
  },
  {
   "cell_type": "markdown",
   "metadata": {
    "slideshow": {
     "slide_type": "slide"
    }
   },
   "source": [
    "## if else\n",
    "<div style='display:flex;align-items:center;height:400px'>\n",
    "\n",
    "<img src='https://github.com/slxuphys/tamu_phys_150/blob/master/gallery/flowchart_ifelse.png?raw=true' style='height:100%' height=400>\n",
    "\n",
    "\n",
    "<div style='margin-left:50px'>\n",
    "\n",
    "```python\n",
    "if condition:\n",
    "    <if_statement1>\n",
    "    <if_statement2>\n",
    "else:\n",
    "    <else_statement1>\n",
    "    <else_statement2>\n",
    "<statement>\n",
    "```\n",
    "\n",
    "</div>\n",
    "</div>\n",
    "\n",
    "\n"
   ]
  },
  {
   "cell_type": "markdown",
   "metadata": {
    "cell_style": "split",
    "slideshow": {
     "slide_type": "fragment"
    }
   },
   "source": [
    "### Example1 \n",
    "Given two numbers, print their division if the second number is not zero, otherwise print 'division by zero'. Then print the two numbers."
   ]
  },
  {
   "cell_type": "code",
   "execution_count": 10,
   "metadata": {
    "cell_style": "split",
    "slideshow": {
     "slide_type": "skip"
    }
   },
   "outputs": [
    {
     "name": "stdout",
     "output_type": "stream",
     "text": [
      "division by zero\n",
      "a=2\n",
      "b=0\n"
     ]
    }
   ],
   "source": [
    "a=2\n",
    "b=0\n",
    "if b==0 :\n",
    "    print('division by zero')\n",
    "else :\n",
    "    print(a/b)\n",
    "print(f'a={a}')\n",
    "print(f'b={b}')"
   ]
  },
  {
   "cell_type": "markdown",
   "metadata": {
    "cell_style": "split",
    "slideshow": {
     "slide_type": "slide"
    }
   },
   "source": [
    "## if elif else\n",
    "<div style='display:flex;align-items:center;height:500px'>\n",
    "<img src='https://github.com/slxuphys/tamu_phys_150/blob/master/gallery/flowchart_elif.png?raw=true' style=\"height:100%;margin-right:50px\" height=400>\n",
    "\n",
    "```python\n",
    "if <condition0>:\n",
    "    <if_statement1>\n",
    "    <if_statement2>\n",
    "elif <condition1>:\n",
    "    <elif_statement>\n",
    "    <elif_statement>\n",
    "else:\n",
    "    <else_statement1>\n",
    "    <else_statement2>\n",
    "<statement>\n",
    "```\n",
    "\n",
    "</div>"
   ]
  },
  {
   "cell_type": "markdown",
   "metadata": {
    "cell_style": "split",
    "slideshow": {
     "slide_type": "fragment"
    }
   },
   "source": [
    "Given a number, print \"it is positive\" if it is positive, print \"it is negative\" if it is negative and print \"it is zero\" otherwise"
   ]
  },
  {
   "cell_type": "code",
   "execution_count": 12,
   "metadata": {
    "cell_style": "split",
    "slideshow": {
     "slide_type": "skip"
    }
   },
   "outputs": [
    {
     "name": "stdout",
     "output_type": "stream",
     "text": [
      "a is positive\n",
      "10\n"
     ]
    }
   ],
   "source": [
    "a=10\n",
    "if a>0 :\n",
    "    print('a is positive')\n",
    "elif a<0 :\n",
    "    print('a is negative')\n",
    "else :\n",
    "    print('a is zero')\n",
    "print(a) #outside if block"
   ]
  },
  {
   "cell_type": "markdown",
   "metadata": {
    "slideshow": {
     "slide_type": "skip"
    }
   },
   "source": [
    "#### Exercise\n",
    "For example, assigning grades (A, B, C, D) based on marks obtained by a student.\n",
    "\n",
    "if the percentage is above 90, assign grade A\n",
    "\n",
    "if the percentage is above 80, assign grade B\n",
    "\n",
    "if the percentage is above 70, assign grade C\n",
    "\n",
    "otherwise assign D"
   ]
  },
  {
   "cell_type": "code",
   "execution_count": 11,
   "metadata": {},
   "outputs": [
    {
     "name": "stdout",
     "output_type": "stream",
     "text": [
      "You grade is A\n"
     ]
    }
   ],
   "source": [
    "score=100\n",
    "if score>90:\n",
    "    grade = 'A'\n",
    "elif score>80:\n",
    "    grade = 'B'\n",
    "elif score>70:\n",
    "    grade = 'C'\n",
    "else:\n",
    "    grade = 'D'\n",
    "print(f'You grade is {grade}')"
   ]
  },
  {
   "cell_type": "markdown",
   "metadata": {
    "slideshow": {
     "slide_type": "slide"
    }
   },
   "source": [
    "##  Example, a text-based game\n",
    "\n",
    "An alien visiting solar system\n",
    "\n",
    "the game asks the alien which planet it would like to visit, and print some description message.\n",
    "\n",
    "Start with something simple, and add more details later."
   ]
  },
  {
   "cell_type": "code",
   "execution_count": 69,
   "metadata": {
    "slideshow": {
     "slide_type": "skip"
    },
    "tags": []
   },
   "outputs": [
    {
     "name": "stdout",
     "output_type": "stream",
     "text": [
      "Hello wandering traveler, welcome to the solar system\n",
      "we have 8 planets for you to visit, which one do you want to go?\n",
      "\n",
      "This is Mercury!\n",
      "This is the closest planet to the star.\n"
     ]
    }
   ],
   "source": [
    "print('Hello wandering traveler, welcome to the solar system')\n",
    "print('we have 8 planets for you to visit, which one do you want to go?')\n",
    "planet = input('choose a number, from 1 to 8: ')\n",
    "planet = int(planet)\n",
    "if planet == 1:\n",
    "    print('')\n",
    "    print('This is Mercury!')\n",
    "    print('This is the closest planet to the star.')\n",
    "elif planet == 3:\n",
    "    print('')\n",
    "    print('This is Earth, full of living creatures')\n",
    "    print('You land at a forest')\n",
    "    print('🌳'*20)\n",
    "    print('🌳'*20)\n",
    "    print('🌳'*20)\n",
    "    print('👽'+' '*5+'🎃') #alien + 20 spaces + dragon\n",
    "    print('🌳'*20)\n",
    "    print('🌳'*20)\n",
    "    print('🌳'*20)\n",
    "    \n",
    "elif planet == 5:\n",
    "    print('')\n",
    "    print('This is Jupyter, the largest planet here')\n",
    "else:\n",
    "    print('')\n",
    "    print('Nothing there yet.')"
   ]
  },
  {
   "cell_type": "markdown",
   "metadata": {},
   "source": [
    "## Fun Exercise\n",
    "simulate the pokemon game"
   ]
  },
  {
   "cell_type": "markdown",
   "metadata": {},
   "source": [
    "### V0: Basic Version (from lecture 4)"
   ]
  },
  {
   "cell_type": "code",
   "execution_count": 46,
   "metadata": {},
   "outputs": [],
   "source": [
    "grass_size=10\n",
    "nx=1;ny=2 #nx and ny determines the position of the player"
   ]
  },
  {
   "cell_type": "code",
   "execution_count": 51,
   "metadata": {},
   "outputs": [
    {
     "name": "stdout",
     "output_type": "stream",
     "text": [
      "🍀🍀🍀🍀🍀🍀🍀🍀🍀🍀\n",
      "🍀🍀🍀🍀🍀🚶🍀🍀🍀🍀\n",
      "🍀🍀🍀🍀🍀🍀🍀🍀🍀🍀\n",
      "🍀🍀🍀🍀🍀🍀🍀🍀🍀🍀\n",
      "🍀🍀🍀🍀🍀🍀🍀🍀🍀🍀\n",
      "🍀🍀🍀🍀🍀🍀🍀🍀🍀🍀\n",
      "🍀🍀🍀🍀🍀🍀🍀🍀🍀🍀\n",
      "🍀🍀🍀🍀🍀🍀🍀🍀🍀🍀\n",
      "🍀🍀🍀🍀🍀🍀🍀🍀🍀🍀\n",
      "🍀🍀🍀🍀🍀🍀🍀🍀🍀🍀\n",
      "\n"
     ]
    }
   ],
   "source": [
    "nx = nx + 1    #update nx by 1 after running the cell \n",
    "#print the graphics\n",
    "grass_line='🍀'*grass_size + '\\n'\n",
    "pokemon_line = '🍀'*(nx-1)+'🚶'+'🍀'*(grass_size-nx)+'\\n'\n",
    "pokemon = grass_line*(ny-1)+pokemon_line+grass_line*(grass_size-ny)\n",
    "print(pokemon)"
   ]
  },
  {
   "cell_type": "markdown",
   "metadata": {},
   "source": [
    "### V1: checking boundary"
   ]
  },
  {
   "cell_type": "code",
   "execution_count": 2,
   "metadata": {},
   "outputs": [],
   "source": [
    "grass_size=10\n",
    "nx=1;ny=2 #nx and ny determines the position of the player"
   ]
  },
  {
   "cell_type": "code",
   "execution_count": 3,
   "metadata": {},
   "outputs": [
    {
     "name": "stdout",
     "output_type": "stream",
     "text": [
      "🍀🍀🍀🍀🍀🍀🍀🍀🍀🍀\n",
      "🍀🚶🍀🍀🍀🍀🍀🍀🍀🍀\n",
      "🍀🍀🍀🍀🍀🍀🍀🍀🍀🍀\n",
      "🍀🍀🍀🍀🍀🍀🍀🍀🍀🍀\n",
      "🍀🍀🍀🍀🍀🍀🍀🍀🍀🍀\n",
      "🍀🍀🍀🍀🍀🍀🍀🍀🍀🍀\n",
      "🍀🍀🍀🍀🍀🍀🍀🍀🍀🍀\n",
      "🍀🍀🍀🍀🍀🍀🍀🍀🍀🍀\n",
      "🍀🍀🍀🍀🍀🍀🍀🍀🍀🍀\n",
      "🍀🍀🍀🍀🍀🍀🍀🍀🍀🍀\n",
      "\n"
     ]
    }
   ],
   "source": [
    "nx = nx + 1    #update nx by 1 after running the cell \n",
    "#nx is bigger than 10 or the size defined in the last sell, we run into a problem and we use branching to fix it.\n",
    "if nx>grass_size: # if nx goes outside the grass \n",
    "    nx = nx-grass_size # update the position so it reappears from the left\n",
    "#print the graphics\n",
    "grass_line='🍀'*grass_size + '\\n'\n",
    "pokemon_line = '🍀'*(nx-1)+'🚶'+'🍀'*(grass_size-nx)+'\\n'\n",
    "pokemon = grass_line*(ny-1)+pokemon_line+grass_line*(grass_size-ny)\n",
    "print(pokemon)"
   ]
  },
  {
   "cell_type": "markdown",
   "metadata": {},
   "source": [
    "### V2: adding user's input"
   ]
  },
  {
   "cell_type": "code",
   "execution_count": 45,
   "metadata": {},
   "outputs": [],
   "source": [
    "grass_size=10\n",
    "nx=1;ny=2 #nx and ny determines the position of the player"
   ]
  },
  {
   "cell_type": "code",
   "execution_count": 44,
   "metadata": {},
   "outputs": [
    {
     "name": "stdout",
     "output_type": "stream",
     "text": [
      "🍀🍀🍀🍀🍀🍀🍀🍀🍀🍀\n",
      "🍀🍀🍀🍀🍀🍀🍀🍀🍀🍀\n",
      "🍀🍀🍀🍀🍀🍀🍀🍀🍀🍀\n",
      "🍀🍀🍀🍀🍀🍀🍀🍀🍀🍀\n",
      "🍀🍀🍀🍀🍀🚶🍀🍀🍀🍀\n",
      "🍀🍀🍀🍀🍀🍀🍀🍀🍀🍀\n",
      "🍀🍀🍀🍀🍀🍀🍀🍀🍀🍀\n",
      "🍀🍀🍀🍀🍀🍀🍀🍀🍀🍀\n",
      "🍀🍀🍀🍀🍀🍀🍀🍀🍀🍀\n",
      "🍀🍀🍀🍀🍀🍀🍀🍀🍀🍀\n",
      "\n"
     ]
    }
   ],
   "source": [
    "# update the position based on the user's input\n",
    "move = input('left, right, up or down?')\n",
    "if move=='left':\n",
    "    nx = nx-1\n",
    "if move=='right':\n",
    "    nx = nx+1\n",
    "if move=='up':\n",
    "    ny = ny-1\n",
    "if move=='down':\n",
    "    ny = ny+1\n",
    "\n",
    "# checking if it goes out of the range    \n",
    "if nx>grass_size:\n",
    "    nx = nx-grass_size\n",
    "if nx<1:\n",
    "    nx = nx + grass_size\n",
    "if ny>grass_size:\n",
    "    ny = ny-grass_size\n",
    "if ny<1:\n",
    "    ny = ny+grass_size\n",
    "\n",
    "# print the graphics\n",
    "grass_line='🍀'*grass_size + '\\n'\n",
    "pokemon_line = '🍀'*(nx-1)+'🚶'+'🍀'*(grass_size-nx)+'\\n'\n",
    "pokemon = grass_line*(ny-1)+pokemon_line+grass_line*(grass_size-ny)\n",
    "print(pokemon)"
   ]
  }
 ],
 "metadata": {
  "celltoolbar": "Slideshow",
  "kernelspec": {
   "display_name": "base",
   "language": "python",
   "name": "python3"
  },
  "language_info": {
   "codemirror_mode": {
    "name": "ipython",
    "version": 3
   },
   "file_extension": ".py",
   "mimetype": "text/x-python",
   "name": "python",
   "nbconvert_exporter": "python",
   "pygments_lexer": "ipython3",
   "version": "3.11.5"
  },
  "latex_envs": {
   "LaTeX_envs_menu_present": true,
   "autoclose": false,
   "autocomplete": true,
   "bibliofile": "biblio.bib",
   "cite_by": "apalike",
   "current_citInitial": 1,
   "eqLabelWithNumbers": true,
   "eqNumInitial": 1,
   "hotkeys": {
    "equation": "Ctrl-E",
    "itemize": "Ctrl-I"
   },
   "labels_anchors": false,
   "latex_user_defs": false,
   "report_style_numbering": false,
   "user_envs_cfg": false
  },
  "varInspector": {
   "cols": {
    "lenName": 16,
    "lenType": 16,
    "lenVar": 40
   },
   "kernels_config": {
    "python": {
     "delete_cmd_postfix": "",
     "delete_cmd_prefix": "del ",
     "library": "var_list.py",
     "varRefreshCmd": "print(var_dic_list())"
    },
    "r": {
     "delete_cmd_postfix": ") ",
     "delete_cmd_prefix": "rm(",
     "library": "var_list.r",
     "varRefreshCmd": "cat(var_dic_list()) "
    }
   },
   "types_to_exclude": [
    "module",
    "function",
    "builtin_function_or_method",
    "instance",
    "_Feature"
   ],
   "window_display": false
  }
 },
 "nbformat": 4,
 "nbformat_minor": 4
}
