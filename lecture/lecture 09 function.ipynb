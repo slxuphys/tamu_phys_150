{
 "cells": [
  {
   "cell_type": "markdown",
   "metadata": {
    "ExecuteTime": {
     "end_time": "2020-09-29T18:36:53.947926Z",
     "start_time": "2020-09-29T18:36:52.201631Z"
    }
   },
   "source": [
    "<h1> Programming for Physics <br> Lecture 9: Function </h1>\n",
    "<a target=\"_blank\" href=\"https://colab.research.google.com/github/slxuphys/tamu_phys_150/blob/master/lecture/lecture%2009%20function.ipynb\">\n",
    "  <img src=\"https://colab.research.google.com/assets/colab-badge.svg\" alt=\"Open In Colab\"/>\n",
    "</a>\n"
   ]
  },
  {
   "cell_type": "markdown",
   "metadata": {
    "cell_style": "split",
    "slideshow": {
     "slide_type": "slide"
    }
   },
   "source": [
    "# Functions\n",
    "\n",
    "Why do we need functions? \n",
    "\n",
    "- Avoid repeating yourself. For example, if you need to calculate the area of a circle multiple times in your code, you can define a function to do this calculation once and call it whenever needed.\n",
    "- Hide complicated details and make code more readable. For example, we wrote a quite long code for checking a number is prime or not. If we put this code in a function, then the main code will be much cleaner. We can just call a function `check_prime(n)`, which returns True or False, to check if a number is prime or not. All the code details are hidden in the definition of the function."
   ]
  },
  {
   "cell_type": "markdown",
   "metadata": {},
   "source": [
    "\n",
    "\n",
    "In programming, a function is a block of code designed to perform a specific task. Functions take inputs, known as parameters or arguments, and return an output after processing those inputs. They help organize code, promote reusability, and make programs more modular and easier to maintain. Functions are called by their name, and once called, the code inside them runs.\n",
    "\n",
    "- [built-in functions](https://docs.python.org/3/library/functions.html#chr)\n",
    "    - print(), id()\n",
    "    - int(), float(), complex(),bool(),str()\n",
    "    - list(), tuple(), set(), dict()\n",
    "    - len(), range()\n",
    "    - ...\n",
    "- function written by yourself\n",
    "- function written by others (come with pakcages)\n",
    "    -matplotlib.pylot.plot()"
   ]
  },
  {
   "cell_type": "markdown",
   "metadata": {
    "cell_style": "split"
   },
   "source": [
    "![image](https://github.com/slxuphys/tamu_phys_150/blob/master/gallery/function.png?raw=true)"
   ]
  },
  {
   "cell_type": "markdown",
   "metadata": {
    "cell_style": "split",
    "slideshow": {
     "slide_type": "slide"
    }
   },
   "source": [
    "## the basic syntax:\n",
    "\n",
    "```python\n",
    "def function_name(arguments):\n",
    "    # code block\n",
    "    return result\n",
    "```\n",
    "- Function name should be meaningful.\n",
    "\n",
    "- arguments and results are optional \n",
    "\n",
    "\n"
   ]
  },
  {
   "cell_type": "code",
   "execution_count": 1,
   "metadata": {
    "ExecuteTime": {
     "end_time": "2020-09-29T19:13:19.929427Z",
     "start_time": "2020-09-29T19:13:19.893343Z"
    },
    "cell_style": "split"
   },
   "outputs": [],
   "source": [
    "def show_praise():\n",
    "    for i in range(10):\n",
    "        print(\"You're doing great!\")\n",
    "    "
   ]
  },
  {
   "cell_type": "markdown",
   "metadata": {},
   "source": [
    "- after writing a function, make sure to run the cell to define the function in the current environment. You can then call the function anywhere in the notebook.\n",
    "- calling a function means executing the block of code inside the function. \n",
    "    - If the function takes arguments, you need to provide the arguments when calling the function, `function_name(arguments)`.\n",
    "    - If the function does not take any arguments, you can call it with empty parentheses, `function_name()`.\n",
    "    - If the function returns a result, you can store the result in a variable, `result = function_name(arguments)` or `result = function_name()`.\n",
    "    - If the function does not return any result, you can just call it without storing the result, `function_name(arguments)` or `function_name()`."
   ]
  },
  {
   "cell_type": "code",
   "execution_count": 2,
   "metadata": {
    "ExecuteTime": {
     "end_time": "2020-09-29T19:14:54.192578Z",
     "start_time": "2020-09-29T19:14:54.178500Z"
    },
    "cell_style": "split"
   },
   "outputs": [
    {
     "name": "stdout",
     "output_type": "stream",
     "text": [
      "You're doing great!\n",
      "You're doing great!\n",
      "You're doing great!\n",
      "You're doing great!\n",
      "You're doing great!\n",
      "You're doing great!\n",
      "You're doing great!\n",
      "You're doing great!\n",
      "You're doing great!\n",
      "You're doing great!\n"
     ]
    }
   ],
   "source": [
    "show_praise()"
   ]
  },
  {
   "cell_type": "markdown",
   "metadata": {},
   "source": [
    "The parentheses are super important!\n",
    "\n",
    "`function_name` and `function_name(arguments)` are different.\n",
    "\n",
    "`function_name` is just the name of the function and is a variable that refers to the function object itself. It does not execute the code inside the function."
   ]
  },
  {
   "cell_type": "code",
   "execution_count": 4,
   "metadata": {},
   "outputs": [
    {
     "data": {
      "text/plain": [
       "<function __main__.show_praise()>"
      ]
     },
     "execution_count": 4,
     "metadata": {},
     "output_type": "execute_result"
    }
   ],
   "source": [
    "show_praise"
   ]
  },
  {
   "cell_type": "markdown",
   "metadata": {
    "cell_style": "split",
    "slideshow": {
     "slide_type": "slide"
    }
   },
   "source": [
    "## Including arguments\n",
    "``` python\n",
    "def function_name(arg1,arg2):\n",
    "    statement1\n",
    "    statement2\n",
    "    ...\n",
    "``` \n",
    "The statement in the function body can use these `arg1`, `arg2` as variables. The value of these variables are unassigned when defining the function. \n",
    "\n",
    "We can all the function by\n",
    "``` python\n",
    "function_name(a,b)\n",
    "```\n",
    "a, b can be any variables that you want to pass to the function. When the function is called, a is assigned to arg1 and b is assigned to arg2.\n",
    "\n",
    "Passing argument to a function lets us use the same function for different cases."
   ]
  },
  {
   "cell_type": "code",
   "execution_count": 5,
   "metadata": {
    "ExecuteTime": {
     "end_time": "2020-09-29T19:21:24.562505Z",
     "start_time": "2020-09-29T19:21:24.543411Z"
    },
    "cell_style": "split"
   },
   "outputs": [],
   "source": [
    "def show_praise(name,message,n):\n",
    "    for i in range(n):\n",
    "        print(name+', '+ message)"
   ]
  },
  {
   "cell_type": "code",
   "execution_count": 7,
   "metadata": {
    "ExecuteTime": {
     "end_time": "2020-09-29T19:21:31.633686Z",
     "start_time": "2020-09-29T19:21:31.612631Z"
    },
    "cell_style": "split"
   },
   "outputs": [
    {
     "name": "stdout",
     "output_type": "stream",
     "text": [
      "Julia, You are doing great!\n",
      "Julia, You are doing great!\n",
      "Julia, You are doing great!\n",
      "Julia, You are doing great!\n",
      "Julia, You are doing great!\n",
      "Julia, You are doing great!\n",
      "Julia, You are doing great!\n",
      "Julia, You are doing great!\n",
      "Julia, You are doing great!\n",
      "Julia, You are doing great!\n"
     ]
    }
   ],
   "source": [
    "show_praise('Julia','You are doing great!',10)"
   ]
  },
  {
   "cell_type": "code",
   "execution_count": 9,
   "metadata": {},
   "outputs": [
    {
     "name": "stdout",
     "output_type": "stream",
     "text": [
      "John, Good Job!\n",
      "John, Good Job!\n",
      "John, Good Job!\n",
      "John, Good Job!\n",
      "John, Good Job!\n",
      "John, Good Job!\n",
      "John, Good Job!\n",
      "John, Good Job!\n",
      "John, Good Job!\n",
      "John, Good Job!\n"
     ]
    }
   ],
   "source": [
    "show_praise('John','Good Job!',10)"
   ]
  },
  {
   "cell_type": "markdown",
   "metadata": {
    "cell_style": "center",
    "slideshow": {
     "slide_type": "skip"
    }
   },
   "source": [
    "- We can also call the function by using\n",
    "``` python\n",
    "function_name(arg1=a, arg2=b)\n",
    "```\n",
    "or\n",
    "``` python\n",
    "function_name(arg2=b, arg1=a)\n",
    "```\n",
    "We do not need to follow the order of the arguments when calling the function. But we need to specify the name of the arguments."
   ]
  },
  {
   "cell_type": "code",
   "execution_count": 14,
   "metadata": {},
   "outputs": [
    {
     "name": "stdout",
     "output_type": "stream",
     "text": [
      "John, Good Job!\n",
      "John, Good Job!\n",
      "John, Good Job!\n",
      "John, Good Job!\n",
      "John, Good Job!\n",
      "John, Good Job!\n",
      "John, Good Job!\n",
      "John, Good Job!\n",
      "John, Good Job!\n",
      "John, Good Job!\n"
     ]
    }
   ],
   "source": [
    "show_praise(message='Good Job!',name='John',n=10)"
   ]
  },
  {
   "cell_type": "code",
   "execution_count": 15,
   "metadata": {},
   "outputs": [
    {
     "name": "stdout",
     "output_type": "stream",
     "text": [
      "John, Good Job!\n",
      "John, Good Job!\n",
      "John, Good Job!\n",
      "John, Good Job!\n",
      "John, Good Job!\n",
      "John, Good Job!\n",
      "John, Good Job!\n",
      "John, Good Job!\n",
      "John, Good Job!\n",
      "John, Good Job!\n"
     ]
    }
   ],
   "source": [
    "show_praise(n=10, message='Good Job!',name='John')"
   ]
  },
  {
   "cell_type": "markdown",
   "metadata": {},
   "source": [
    "---"
   ]
  },
  {
   "cell_type": "markdown",
   "metadata": {
    "cell_style": "center",
    "slideshow": {
     "slide_type": "slide"
    }
   },
   "source": [
    "## Including return values\n",
    "``` python\n",
    "def function_name(arg1, arg2):\n",
    "    statement1\n",
    "    statement2\n",
    "    ...\n",
    "    return output1, output2\n",
    "``` \n",
    "- Return is like break. Statements after return statement won't be executed. \n",
    "- We can call the function and assign the output to variables by\n",
    "```python\n",
    "c, d = function_name(a, b)\n",
    "```\n",
    "- after the function is called, output1 is assigned to c and output2 is assigned to d.\n",
    "- If the function does not return any value, the return statement can be omitted or you can use `return None`."
   ]
  },
  {
   "cell_type": "code",
   "execution_count": 17,
   "metadata": {
    "ExecuteTime": {
     "end_time": "2020-09-29T19:24:35.230285Z",
     "start_time": "2020-09-29T19:24:35.210682Z"
    },
    "cell_style": "split"
   },
   "outputs": [],
   "source": [
    "def calculation(num1,num2):\n",
    "    s = num1 + num2\n",
    "    p = num1 * num2\n",
    "    diff = num1 - num2\n",
    "    return s, p, diff\n",
    "    print('Hello')"
   ]
  },
  {
   "cell_type": "code",
   "execution_count": 18,
   "metadata": {
    "ExecuteTime": {
     "end_time": "2020-09-29T19:25:43.475869Z",
     "start_time": "2020-09-29T19:25:43.468868Z"
    },
    "cell_style": "split"
   },
   "outputs": [
    {
     "name": "stdout",
     "output_type": "stream",
     "text": [
      "7 12 -1\n"
     ]
    }
   ],
   "source": [
    "a,b,c=calculation(3, 4)\n",
    "print(a,b,c)"
   ]
  },
  {
   "cell_type": "markdown",
   "metadata": {
    "slideshow": {
     "slide_type": "fragment"
    }
   },
   "source": [
    "## Exercise\n",
    "\n",
    "- write a function to calculate the factorial of a number."
   ]
  },
  {
   "cell_type": "code",
   "execution_count": 43,
   "metadata": {},
   "outputs": [],
   "source": [
    "def factorial(n):\n",
    "    if type(n)!=int:\n",
    "        print('not an integer')\n",
    "        return\n",
    "    if n<0:\n",
    "        print('not positive')\n",
    "        return\n",
    "    f=1\n",
    "    for i in range(1,n+1):\n",
    "        f = f * i\n",
    "    return f"
   ]
  },
  {
   "cell_type": "code",
   "execution_count": 44,
   "metadata": {},
   "outputs": [
    {
     "data": {
      "text/plain": [
       "120"
      ]
     },
     "execution_count": 44,
     "metadata": {},
     "output_type": "execute_result"
    }
   ],
   "source": [
    "factorial(5)"
   ]
  },
  {
   "cell_type": "code",
   "execution_count": 45,
   "metadata": {},
   "outputs": [
    {
     "name": "stdout",
     "output_type": "stream",
     "text": [
      "not an integer\n"
     ]
    }
   ],
   "source": [
    "factorial('so')"
   ]
  },
  {
   "cell_type": "code",
   "execution_count": 46,
   "metadata": {},
   "outputs": [
    {
     "name": "stdout",
     "output_type": "stream",
     "text": [
      "not positive\n"
     ]
    }
   ],
   "source": [
    "factorial(-1)"
   ]
  },
  {
   "cell_type": "markdown",
   "metadata": {
    "slideshow": {
     "slide_type": "skip"
    }
   },
   "source": [
    "- write a function to check whether a number is a prime number "
   ]
  },
  {
   "cell_type": "code",
   "execution_count": 47,
   "metadata": {},
   "outputs": [],
   "source": [
    "def check_prime(n):\n",
    "    is_prime=True\n",
    "    for factor in range(2,n):\n",
    "        if n%factor==0:#dividable\n",
    "            is_prime=False\n",
    "            return is_prime #if the factor is dividable, the function stops here and returns false\n",
    "    return is_prime #if non of the factors are dividable, the function returns true"
   ]
  },
  {
   "cell_type": "code",
   "execution_count": 48,
   "metadata": {},
   "outputs": [
    {
     "data": {
      "text/plain": [
       "False"
      ]
     },
     "execution_count": 48,
     "metadata": {},
     "output_type": "execute_result"
    }
   ],
   "source": [
    "check_prime(10)"
   ]
  },
  {
   "cell_type": "code",
   "execution_count": 49,
   "metadata": {},
   "outputs": [
    {
     "data": {
      "text/plain": [
       "True"
      ]
     },
     "execution_count": 49,
     "metadata": {},
     "output_type": "execute_result"
    }
   ],
   "source": [
    "check_prime(11)"
   ]
  },
  {
   "cell_type": "code",
   "execution_count": 50,
   "metadata": {},
   "outputs": [
    {
     "name": "stdout",
     "output_type": "stream",
     "text": [
      "[2, 3, 5, 7, 11, 13, 17, 19, 23, 29]\n"
     ]
    }
   ],
   "source": [
    "#find the first 10 prime numbers\n",
    "\n",
    "prime_list=[]\n",
    "num=2\n",
    "while len(prime_list)<10:\n",
    "    if check_prime(num):\n",
    "        prime_list.append(num)\n",
    "    num=num+1 #update number\n",
    "print(prime_list)"
   ]
  },
  {
   "cell_type": "markdown",
   "metadata": {
    "slideshow": {
     "slide_type": "fragment"
    }
   },
   "source": [
    "- write a function to simulate the motion of constant acceleration\n",
    "\n",
    "Think about what is the input and what is the output\n",
    "\n",
    "The iteration rule\n",
    "$$\n",
    "v = v + a dt\\\\\n",
    "x = x + v dt\n",
    "$$"
   ]
  },
  {
   "cell_type": "code",
   "execution_count": 51,
   "metadata": {},
   "outputs": [],
   "source": [
    "import matplotlib.pyplot as plt"
   ]
  },
  {
   "cell_type": "code",
   "execution_count": 52,
   "metadata": {},
   "outputs": [],
   "source": [
    "def motion(t_max, num_step, x, v, a):\n",
    "    t=0\n",
    "    pos_list=[x]\n",
    "    time_list=[t]\n",
    "    dt = t_max/num_step\n",
    "    \n",
    "    for i_step in range(num_step):\n",
    "        t =t + dt\n",
    "        v =v + a*dt\n",
    "        x =x + v*dt\n",
    "        pos_list.append(x)\n",
    "        time_list.append(t)\n",
    "    return time_list, pos_list"
   ]
  },
  {
   "cell_type": "code",
   "execution_count": 54,
   "metadata": {
    "ExecuteTime": {
     "end_time": "2020-09-29T19:43:42.516042Z",
     "start_time": "2020-09-29T19:43:42.496457Z"
    },
    "slideshow": {
     "slide_type": "fragment"
    }
   },
   "outputs": [
    {
     "data": {
      "text/plain": [
       "Text(0, 0.5, 'position')"
      ]
     },
     "execution_count": 54,
     "metadata": {},
     "output_type": "execute_result"
    },
    {
     "data": {
      "image/png": "[encoded data removed]",
      "text/plain": [
       "<Figure size 640x480 with 1 Axes>"
      ]
     },
     "metadata": {},
     "output_type": "display_data"
    }
   ],
   "source": [
    "# motion of constant acceleratoin.\n",
    "time, pos = motion(t_max=10, num_step=100, x=0, v=5, a=2) \n",
    "#the order of input variables does not matter\n",
    "plt.plot(time,pos)\n",
    "plt.xlabel('time')\n",
    "plt.ylabel('position')"
   ]
  },
  {
   "cell_type": "code",
   "execution_count": 55,
   "metadata": {},
   "outputs": [
    {
     "data": {
      "text/plain": [
       "Text(0, 0.5, 'position')"
      ]
     },
     "execution_count": 55,
     "metadata": {},
     "output_type": "execute_result"
    },
    {
     "data": {
      "image/png": "[encoded data removed]",
      "text/plain": [
       "<Figure size 640x480 with 1 Axes>"
      ]
     },
     "metadata": {},
     "output_type": "display_data"
    }
   ],
   "source": [
    "#motion of free fall with initial velocity;set a=-g\n",
    "time_list, pos_list = motion(t_max=1, num_step=100, x=0, v=5, a=-10)\n",
    "plt.plot(time_list, pos_list)\n",
    "plt.xlabel('time')\n",
    "plt.ylabel('position')"
   ]
  },
  {
   "cell_type": "code",
   "execution_count": 56,
   "metadata": {
    "ExecuteTime": {
     "end_time": "2020-09-29T19:43:44.321054Z",
     "start_time": "2020-09-29T19:43:43.944834Z"
    },
    "slideshow": {
     "slide_type": "fragment"
    }
   },
   "outputs": [
    {
     "data": {
      "text/plain": [
       "Text(0, 0.5, 'position')"
      ]
     },
     "execution_count": 56,
     "metadata": {},
     "output_type": "execute_result"
    },
    {
     "data": {
      "image/png": "[encoded data removed]",
      "text/plain": [
       "<Figure size 640x480 with 1 Axes>"
      ]
     },
     "metadata": {},
     "output_type": "display_data"
    }
   ],
   "source": [
    "# we can use the same function to simulate motion of constant velocity but set a to 0\n",
    "time, pos = motion(t_max=10, num_step=1000, x=0, v=5, a=0)\n",
    "plt.plot(time,pos)\n",
    "plt.xlabel('time')\n",
    "plt.ylabel('position')"
   ]
  },
  {
   "cell_type": "markdown",
   "metadata": {
    "slideshow": {
     "slide_type": "slide"
    }
   },
   "source": [
    "__We can use one function with different arguments value simulating different scenarios. The reusability of code!__"
   ]
  },
  {
   "cell_type": "markdown",
   "metadata": {},
   "source": [
    "---"
   ]
  },
  {
   "cell_type": "markdown",
   "metadata": {
    "slideshow": {
     "slide_type": "slide"
    }
   },
   "source": [
    "## Default values of the arguments\n",
    "In some cases, some inputs have standard default values. We can include the default values when defining a function so we don't have to input them explicitly when calling the function. \n",
    "\n",
    "```python\n",
    "def function_name(arg1, arg2, arg3=42):\n",
    "    '''This is where you describe the function'''\n",
    "    statement1\n",
    "    statement2\n",
    "    ...\n",
    "    return output1, output2\n",
    "```\n",
    "- Input assigned default values are called __default arguments__\n",
    "\n",
    "\n",
    "- make calling a function with a lot of arguments easier\n",
    "\n",
    "- We can call the function by:\n",
    "```python\n",
    "o1, o2 = myfun(a,b)\n",
    "#input1 is set a, input2 is set to b, input 3 is 42\n",
    "```\n",
    "- We can change the default value by inputting input3 explicitly\n",
    "```python\n",
    "o1, o2 = myfun(a,b,c)\n",
    "#input1 is set a, input2 is set to b, input 3 is c (not 42)\n",
    "```"
   ]
  },
  {
   "cell_type": "code",
   "execution_count": 20,
   "metadata": {},
   "outputs": [],
   "source": [
    "def add(arg1, arg2=42):\n",
    "    s = arg1 + arg2\n",
    "    return s"
   ]
  },
  {
   "cell_type": "code",
   "execution_count": 22,
   "metadata": {},
   "outputs": [
    {
     "name": "stdout",
     "output_type": "stream",
     "text": [
      "43\n"
     ]
    }
   ],
   "source": [
    "a = add(1) #input1 is set to 1, and input2 takes the default value\n",
    "print(a)"
   ]
  },
  {
   "cell_type": "code",
   "execution_count": 24,
   "metadata": {},
   "outputs": [
    {
     "data": {
      "text/plain": [
       "3"
      ]
     },
     "execution_count": 24,
     "metadata": {},
     "output_type": "execute_result"
    }
   ],
   "source": [
    "a = add(1,2) #input1 is set to 1 and input2 is set to 2.\n",
    "a"
   ]
  },
  {
   "cell_type": "markdown",
   "metadata": {},
   "source": [
    "-  The default arguments must appear after usual non default arguments.\n"
   ]
  },
  {
   "cell_type": "code",
   "execution_count": 25,
   "metadata": {},
   "outputs": [
    {
     "ename": "SyntaxError",
     "evalue": "non-default argument follows default argument (149293471.py, line 1)",
     "output_type": "error",
     "traceback": [
      "\u001b[1;36m  Cell \u001b[1;32mIn[25], line 1\u001b[1;36m\u001b[0m\n\u001b[1;33m    def add(arg1=42, arg2):\u001b[0m\n\u001b[1;37m                     ^\u001b[0m\n\u001b[1;31mSyntaxError\u001b[0m\u001b[1;31m:\u001b[0m non-default argument follows default argument\n"
     ]
    }
   ],
   "source": [
    "def add(arg1=42, arg2):\n",
    "    s = arg1 + arg2\n",
    "    return s"
   ]
  },
  {
   "cell_type": "markdown",
   "metadata": {},
   "source": [
    "Now let's simply the motion function using default arguments.\n",
    "\n",
    "By default, the initial position, velocity, and acceleration are all set to zero."
   ]
  },
  {
   "cell_type": "code",
   "execution_count": 83,
   "metadata": {},
   "outputs": [],
   "source": [
    "def motion(t_max, num_step, x=0, v=0, a=0):\n",
    "    t=0\n",
    "    time_list=[t]\n",
    "    pos_list=[x]\n",
    "    dt=t_max/num_step\n",
    "    for i_step in range(num_step):\n",
    "        t = t + dt\n",
    "        v = v + a*dt\n",
    "        x = x + v*dt\n",
    "        time_list.append(t)\n",
    "        pos_list.append(x)\n",
    "    return time_list, pos_list"
   ]
  },
  {
   "cell_type": "code",
   "execution_count": 84,
   "metadata": {
    "tags": []
   },
   "outputs": [
    {
     "data": {
      "text/plain": [
       "Text(0, 0.5, 'position')"
      ]
     },
     "execution_count": 84,
     "metadata": {},
     "output_type": "execute_result"
    },
    {
     "data": {
      "image/png": "[encoded data removed]",
      "text/plain": [
       "<Figure size 640x480 with 1 Axes>"
      ]
     },
     "metadata": {},
     "output_type": "display_data"
    }
   ],
   "source": [
    "time_list, pos_list = motion(t_max=1,num_step=100, a=-10)\n",
    "plt.plot(time_list,pos_list)\n",
    "plt.xlabel('time')\n",
    "plt.ylabel('position')"
   ]
  },
  {
   "cell_type": "code",
   "execution_count": 85,
   "metadata": {},
   "outputs": [
    {
     "data": {
      "text/plain": [
       "Text(0, 0.5, 'position')"
      ]
     },
     "execution_count": 85,
     "metadata": {},
     "output_type": "execute_result"
    },
    {
     "data": {
      "image/png": "[encoded data removed]",
      "text/plain": [
       "<Figure size 640x480 with 1 Axes>"
      ]
     },
     "metadata": {},
     "output_type": "display_data"
    }
   ],
   "source": [
    "# motion with constant velocity\n",
    "time_list, pos_list = motion(t_max=1,num_step=100, v=2.0)\n",
    "plt.plot(time_list,pos_list)\n",
    "plt.xlabel('time')\n",
    "plt.ylabel('position')"
   ]
  },
  {
   "cell_type": "code",
   "execution_count": 86,
   "metadata": {},
   "outputs": [
    {
     "data": {
      "text/plain": [
       "Text(0, 0.5, 'position')"
      ]
     },
     "execution_count": 86,
     "metadata": {},
     "output_type": "execute_result"
    },
    {
     "data": {
      "image/png": "[encoded data removed]",
      "text/plain": [
       "<Figure size 640x480 with 1 Axes>"
      ]
     },
     "metadata": {},
     "output_type": "display_data"
    }
   ],
   "source": [
    "# free fall with upward initial velocity\n",
    "time_list, pos_list = motion(t_max=1, num_step=100, v=5, a=-10)\n",
    "plt.plot(time_list, pos_list)\n",
    "plt.xlabel('time')\n",
    "plt.ylabel('position')"
   ]
  },
  {
   "cell_type": "markdown",
   "metadata": {},
   "source": [
    "### Exercise\n",
    "How do we modify the function to also simulate a ball bouncing between two walls or off the ground?"
   ]
  },
  {
   "cell_type": "code",
   "execution_count": 87,
   "metadata": {},
   "outputs": [],
   "source": [
    "# a newer version that includes boundary\n",
    "def motion(t_max, num_step,x=0, v=0, a=0, bd=(None,None)):\n",
    "    t=0\n",
    "    time_list=[t]\n",
    "    pos_list=[x]\n",
    "    dt = t_max/num_step\n",
    "    for i_step in range(num_step):\n",
    "        # update the position, velocity, and time\n",
    "        t = t + dt\n",
    "        v = v + a*dt\n",
    "        x = x + v*dt\n",
    "\n",
    "        # check if x is within the boundries\n",
    "        if bd[0]!=None and x < bd[0]: # x goes out the left boundary\n",
    "            x = 2*bd[0]-x #put x back\n",
    "            v = -v #invert the velocity\n",
    "        if bd[1]!=None and x > bd[1]: # x goes out of the right boundary\n",
    "            x = 2*bd[1]-x #put x back\n",
    "            v = -v #invert the velocity\n",
    "        #store the new values to the lists\n",
    "        time_list.append(t)\n",
    "        pos_list.append(x)\n",
    "    return time_list, pos_list"
   ]
  },
  {
   "cell_type": "code",
   "execution_count": 88,
   "metadata": {},
   "outputs": [
    {
     "data": {
      "text/plain": [
       "Text(0, 0.5, 'position')"
      ]
     },
     "execution_count": 88,
     "metadata": {},
     "output_type": "execute_result"
    },
    {
     "data": {
      "image/png": "[encoded data removed]",
      "text/plain": [
       "<Figure size 640x480 with 1 Axes>"
      ]
     },
     "metadata": {},
     "output_type": "display_data"
    }
   ],
   "source": [
    "# free fall of a tennis ball with inital upward velocity; when it hit the ground, it bounces back\n",
    "time_list, pos_list = motion(t_max=10, num_step=50000, v=5, a=-10, bd=(0,None)) #set the lower boundary to 0, which is the ground\n",
    "plt.plot(time_list,pos_list)\n",
    "plt.xlabel('time')\n",
    "plt.ylabel('position')"
   ]
  },
  {
   "cell_type": "markdown",
   "metadata": {
    "cell_style": "center",
    "slideshow": {
     "slide_type": "slide"
    }
   },
   "source": [
    "## Including a help document\n",
    "It is useful to include a few sentence to describe what the function does. __docstring__\n",
    "``` python\n",
    "def function_name(input1, input2):\n",
    "    '''This is where you describe the function'''\n",
    "    statement1\n",
    "    statement2\n",
    "    ...\n",
    "    return output1, output2\n",
    "``` \n"
   ]
  },
  {
   "cell_type": "code",
   "execution_count": 26,
   "metadata": {
    "cell_style": "center"
   },
   "outputs": [],
   "source": [
    "#semi final form of the motion function\n",
    "def motion(t_max,num_step,x=0,v=0,a=0, bd=(None,None)):\n",
    "    '''This function simulates motion of constant acceleration.\n",
    "       t_max is the final time\n",
    "       num_step is the number of step of the iteration\n",
    "       x is the initial position. The default value is 0.\n",
    "       v is the initial velocity. The default value is 0.\n",
    "       a is the acceleration that remains constant during the motion. The default value is 0.\n",
    "       bd is a tuple that contains two boundaries of the motion. The default values are (None, None).\n",
    "    '''\n",
    "    \n",
    "    t=0\n",
    "    time_list=[t]\n",
    "    pos_list=[x]\n",
    "    dt = t_max/num_step\n",
    "    for i_step in range(num_step):\n",
    "        # update the position, velocity, and time\n",
    "        t = t + dt\n",
    "        v = v + a*dt\n",
    "        x = x + v*dt\n",
    "\n",
    "        # check if x is within the boundries\n",
    "        if bd[0]!=None and x < bd[0]: # x goes out the left boundary\n",
    "            x = 2*bd[0]-x #put x back\n",
    "            v = -v #invert the velocity\n",
    "        if bd[1]!=None and x > bd[1]: # x goes out of the right boundary\n",
    "            x = 2*bd[1]-x #put x back\n",
    "            v = -v #invert the velocity\n",
    "        #store the new values to the lists\n",
    "        time_list.append(t)\n",
    "        pos_list.append(x)\n",
    "    return time_list, pos_list"
   ]
  },
  {
   "cell_type": "markdown",
   "metadata": {},
   "source": [
    "We can access the docstring by\n",
    "- `help(function_name)`  \n",
    "- `function_name?`\n"
   ]
  },
  {
   "cell_type": "code",
   "execution_count": 30,
   "metadata": {},
   "outputs": [
    {
     "name": "stdout",
     "output_type": "stream",
     "text": [
      "\u001b[1;31mSignature:\u001b[0m \u001b[0mmotion\u001b[0m\u001b[1;33m(\u001b[0m\u001b[0mt_max\u001b[0m\u001b[1;33m,\u001b[0m \u001b[0mnum_step\u001b[0m\u001b[1;33m,\u001b[0m \u001b[0mx\u001b[0m\u001b[1;33m=\u001b[0m\u001b[1;36m0\u001b[0m\u001b[1;33m,\u001b[0m \u001b[0mv\u001b[0m\u001b[1;33m=\u001b[0m\u001b[1;36m0\u001b[0m\u001b[1;33m,\u001b[0m \u001b[0ma\u001b[0m\u001b[1;33m=\u001b[0m\u001b[1;36m0\u001b[0m\u001b[1;33m,\u001b[0m \u001b[0mbd\u001b[0m\u001b[1;33m=\u001b[0m\u001b[1;33m(\u001b[0m\u001b[1;32mNone\u001b[0m\u001b[1;33m,\u001b[0m \u001b[1;32mNone\u001b[0m\u001b[1;33m)\u001b[0m\u001b[1;33m)\u001b[0m\u001b[1;33m\u001b[0m\u001b[1;33m\u001b[0m\u001b[0m\n",
      "\u001b[1;31mDocstring:\u001b[0m\n",
      "This function simulates motion of constant acceleration.\n",
      "t_max is the final time\n",
      "num_step is the number of step of the iteration\n",
      "x is the initial position. The default value is 0.\n",
      "v is the initial velocity. The default value is 0.\n",
      "a is the acceleration that remains constant during the motion. The default value is 0.\n",
      "bd is a tuple that contains two boundaries of the motion. The default values are (None, None).\n",
      "\u001b[1;31mFile:\u001b[0m      c:\\users\\slxu\\appdata\\local\\temp\\ipykernel_25908\\1484051041.py\n",
      "\u001b[1;31mType:\u001b[0m      function"
     ]
    }
   ],
   "source": [
    "motion?"
   ]
  },
  {
   "cell_type": "code",
   "execution_count": 31,
   "metadata": {},
   "outputs": [
    {
     "name": "stdout",
     "output_type": "stream",
     "text": [
      "Help on function motion in module __main__:\n",
      "\n",
      "motion(t_max, num_step, x=0, v=0, a=0, bd=(None, None))\n",
      "    This function simulates motion of constant acceleration.\n",
      "    t_max is the final time\n",
      "    num_step is the number of step of the iteration\n",
      "    x is the initial position. The default value is 0.\n",
      "    v is the initial velocity. The default value is 0.\n",
      "    a is the acceleration that remains constant during the motion. The default value is 0.\n",
      "    bd is a tuple that contains two boundaries of the motion. The default values are (None, None).\n",
      "\n"
     ]
    }
   ],
   "source": [
    "help(motion)"
   ]
  },
  {
   "cell_type": "markdown",
   "metadata": {},
   "source": [
    "---"
   ]
  },
  {
   "cell_type": "markdown",
   "metadata": {
    "slideshow": {
     "slide_type": "slide"
    }
   },
   "source": [
    "## Scope of Variables\n",
    "- Function knows about variable created outside the function __Global Scope__\n",
    "- Variables created within the function is deleted after after calling the function __Local Scope__. These variables cannot be accessed outside the function. To access a variable created inside a function, you need to return it and assign it to a variable outside the function."
   ]
  },
  {
   "cell_type": "code",
   "execution_count": 32,
   "metadata": {},
   "outputs": [
    {
     "name": "stdout",
     "output_type": "stream",
     "text": [
      "3.1415926\n"
     ]
    }
   ],
   "source": [
    "pi = 3.1415926 #global\n",
    "def area(r):\n",
    "    ss = pi * r**2 #calculating the area, s is a local variable\n",
    "    return ss\n",
    "# function ends\n",
    "# call the function\n",
    "print(area(1)) # function knows about the the global variable pi"
   ]
  },
  {
   "cell_type": "code",
   "execution_count": 33,
   "metadata": {},
   "outputs": [
    {
     "ename": "NameError",
     "evalue": "name 'ss' is not defined",
     "output_type": "error",
     "traceback": [
      "\u001b[1;31m---------------------------------------------------------------------------\u001b[0m",
      "\u001b[1;31mNameError\u001b[0m                                 Traceback (most recent call last)",
      "Cell \u001b[1;32mIn[33], line 1\u001b[0m\n\u001b[1;32m----> 1\u001b[0m \u001b[38;5;28mprint\u001b[39m(ss)\n",
      "\u001b[1;31mNameError\u001b[0m: name 'ss' is not defined"
     ]
    }
   ],
   "source": [
    "print(ss) # raise an error; s is created within the function. After the function finishes running, it is gone."
   ]
  },
  {
   "cell_type": "markdown",
   "metadata": {},
   "source": [
    "- Global variable and local variable can have the same name (not recommended)"
   ]
  },
  {
   "cell_type": "code",
   "execution_count": 1,
   "metadata": {},
   "outputs": [
    {
     "name": "stdout",
     "output_type": "stream",
     "text": [
      "3.14\n",
      "3.1415926\n"
     ]
    }
   ],
   "source": [
    "pi = 3.1415926 #global pi\n",
    "def area(r):\n",
    "    pi = 3.14 # local variable;DIFFERENT from the global pi; this statement does not affect the global pi\n",
    "    s = pi * r**2 #calculating the area using the local variable, s is a local variable, \n",
    "    return s\n",
    "# function definition ends\n",
    "# call the function\n",
    "print(area(1)) # if the glabal variable and the local variable have the same name, the function uses local one.\n",
    "print(pi)"
   ]
  },
  {
   "cell_type": "markdown",
   "metadata": {},
   "source": [
    "This behavior is by design to avoid accidental changes to global variables.\n",
    "\n",
    "To modify a global variable within a function (uncommon), we can use the global statement."
   ]
  },
  {
   "cell_type": "code",
   "execution_count": 96,
   "metadata": {},
   "outputs": [
    {
     "name": "stdout",
     "output_type": "stream",
     "text": [
      "3.14\n",
      "3.14\n"
     ]
    }
   ],
   "source": [
    "def area(r):\n",
    "    global pi # now pi is the global value\n",
    "    pi = 3.14 # changes the value of global pi\n",
    "    s = pi * r**2 #calcuating the area, s is a local variable, \n",
    "    return s\n",
    "# function definition ends\n",
    "# call the function\n",
    "print(area(1))\n",
    "print(pi) #the global value changes"
   ]
  },
  {
   "cell_type": "markdown",
   "metadata": {
    "slideshow": {
     "slide_type": "slide"
    }
   },
   "source": [
    " ## Lambda\n",
    " \n",
    "function in one line\n",
    "``` python\n",
    "lambda input1, input2 : output1, output2\n",
    "```\n",
    "It is useful to be used as an argument for another function"
   ]
  },
  {
   "cell_type": "code",
   "execution_count": 97,
   "metadata": {
    "slideshow": {
     "slide_type": "-"
    }
   },
   "outputs": [],
   "source": [
    "f=lambda x : x**2"
   ]
  },
  {
   "cell_type": "code",
   "execution_count": 98,
   "metadata": {},
   "outputs": [
    {
     "data": {
      "text/plain": [
       "4"
      ]
     },
     "execution_count": 98,
     "metadata": {},
     "output_type": "execute_result"
    }
   ],
   "source": [
    "f(2)"
   ]
  },
  {
   "cell_type": "markdown",
   "metadata": {},
   "source": [
    "This is the same as the following definition:"
   ]
  },
  {
   "cell_type": "code",
   "execution_count": 99,
   "metadata": {},
   "outputs": [],
   "source": [
    "def f(x):\n",
    "    return x**2"
   ]
  },
  {
   "cell_type": "markdown",
   "metadata": {},
   "source": [
    "---"
   ]
  },
  {
   "cell_type": "markdown",
   "metadata": {
    "slideshow": {
     "slide_type": "slide"
    }
   },
   "source": [
    "## Function as a variable\n",
    "We can view function as a special variable (object). It has an id number, has a type and can be copied."
   ]
  },
  {
   "cell_type": "code",
   "execution_count": 60,
   "metadata": {
    "slideshow": {
     "slide_type": "skip"
    }
   },
   "outputs": [
    {
     "name": "stdout",
     "output_type": "stream",
     "text": [
      "3028283263152\n",
      "<class 'function'>\n",
      "3028283263152\n"
     ]
    }
   ],
   "source": [
    "print(id(motion))\n",
    "print(type(motion))\n",
    "motion1D = motion\n",
    "print(id(motion1D))"
   ]
  },
  {
   "cell_type": "markdown",
   "metadata": {
    "slideshow": {
     "slide_type": "slide"
    }
   },
   "source": [
    "## Exercise\n",
    "\n",
    "### series summation\n",
    "\n",
    "1. write a function to calculate $1 + 2 + ... + n$\n",
    "2. write a function to calculate $1 + 1/4 + ... + 1/n^2$\n",
    "3. write a function to calculate $s(1)+s(2)+s(3)+...+s(n)$"
   ]
  },
  {
   "cell_type": "code",
   "execution_count": 31,
   "metadata": {
    "slideshow": {
     "slide_type": "-"
    }
   },
   "outputs": [
    {
     "name": "stdout",
     "output_type": "stream",
     "text": [
      "55\n",
      "1.5497677311665408\n"
     ]
    }
   ],
   "source": [
    "def sum_series(num,s):\n",
    "    f=0 #stores the sum\n",
    "    for x in range(1,num+1):\n",
    "        f=f+s(x)\n",
    "        \n",
    "    return(f)\n",
    "\n",
    "sum1 = sum_series(10, s=lambda x:x)\n",
    "sum2 = sum_series(10, s=lambda x:1/x**2)\n",
    "print(sum1)\n",
    "print(sum2)"
   ]
  },
  {
   "cell_type": "markdown",
   "metadata": {},
   "source": [
    "### Motion with varying acceleration\n",
    "\n",
    "Motion with varying acceleration. In general, the acceleration is a function of the position, velocity and time, for instance, in simple harmonic motion, the acceleration is proportional to the negative of the position, $a = -\\frac{k}{m} x$."
   ]
  },
  {
   "cell_type": "code",
   "execution_count": 3,
   "metadata": {
    "slideshow": {
     "slide_type": "fragment"
    }
   },
   "outputs": [],
   "source": [
    "#final form of the 1D motion function\n",
    "def motion(t_max, num_step, x=0, v=0, f_a=lambda x,v,t:0, bd=(None,None)):\n",
    "    '''This function simulates motion of constant acceleration.\n",
    "       x is the initial position, the default value 0\n",
    "       v is the initial velocity, the default value 0\n",
    "       f_a is a function that returns the acceleration based on the position, velocity and time\n",
    "       t_max is the final time\n",
    "       num_step is the number of steps of the simulation\n",
    "       the position of motion is constrained between bd[0] and bd[1]\n",
    "\n",
    "    '''\n",
    "    t=0\n",
    "    time_list=[t]\n",
    "    pos_list=[x]\n",
    "    dt = t_max/num_step\n",
    "    for i_step in range(num_step):\n",
    "        # update the position, velocity, and time\n",
    "        a=f_a(x,v,t) #f_a() is a function that input by users\n",
    "        t = t + dt\n",
    "        v = v + a*dt\n",
    "        x = x + v*dt\n",
    "        # check if x is within the boundaries\n",
    "        if bd[0]!=None and x < bd[0]: # x goes out the left boundary\n",
    "            x = bd[0] + (bd[0]-x) #put x back\n",
    "            v = -v #invert the velocity\n",
    "        if bd[1]!=None and x > bd[1]: # x goes out of the right boundary\n",
    "            x = bd[1] - (x-bd[1]) #put x back\n",
    "            v = -v #invert the velocity\n",
    "        #store the new values to the lists\n",
    "        time_list.append(t)\n",
    "        pos_list.append(x)\n",
    "    return time_list, pos_list"
   ]
  },
  {
   "cell_type": "code",
   "execution_count": 34,
   "metadata": {
    "slideshow": {
     "slide_type": "skip"
    }
   },
   "outputs": [
    {
     "data": {
      "text/plain": [
       "[<matplotlib.lines.Line2D at 0x2784a3136d0>]"
      ]
     },
     "execution_count": 34,
     "metadata": {},
     "output_type": "execute_result"
    },
    {
     "data": {
      "image/png": "[encoded data removed]",
      "text/plain": [
       "<Figure size 640x480 with 1 Axes>"
      ]
     },
     "metadata": {},
     "output_type": "display_data"
    }
   ],
   "source": [
    "time, pos = motion(t_max=10, num_step=1000, x=2, f_a=lambda x,v,t:-x )\n",
    "plt.plot(time,pos)"
   ]
  },
  {
   "cell_type": "markdown",
   "metadata": {},
   "source": [
    "How to use the same function to simulate the pool table?"
   ]
  },
  {
   "cell_type": "code",
   "execution_count": 10,
   "metadata": {},
   "outputs": [
    {
     "data": {
      "text/plain": [
       "[<matplotlib.lines.Line2D at 0x258c4e525d0>]"
      ]
     },
     "execution_count": 10,
     "metadata": {},
     "output_type": "execute_result"
    },
    {
     "data": {
      "image/png": "[encoded data removed]",
      "text/plain": [
       "<Figure size 640x480 with 1 Axes>"
      ]
     },
     "metadata": {},
     "output_type": "display_data"
    }
   ],
   "source": [
    "width = 10\n",
    "length = 10\n",
    "t_max = 40\n",
    "num_step = 1000\n",
    "time, pos_x = motion(t_max, num_step=1000, x=length/2, v=1, bd=(0,length))\n",
    "time, pos_y = motion(t_max, num_step=1000, x=width/2, v=2, bd=(0,width))\n",
    "plt.plot(pos_x,pos_y)\n",
    "plt.plot([0,length,length,0,0],[0,0,width,width,0],'red')"
   ]
  },
  {
   "cell_type": "code",
   "execution_count": null,
   "metadata": {},
   "outputs": [],
   "source": []
  }
 ],
 "metadata": {
  "celltoolbar": "Slideshow",
  "kernelspec": {
   "display_name": "base",
   "language": "python",
   "name": "python3"
  },
  "language_info": {
   "codemirror_mode": {
    "name": "ipython",
    "version": 3
   },
   "file_extension": ".py",
   "mimetype": "text/x-python",
   "name": "python",
   "nbconvert_exporter": "python",
   "pygments_lexer": "ipython3",
   "version": "3.12.7"
  },
  "varInspector": {
   "cols": {
    "lenName": 16,
    "lenType": 16,
    "lenVar": 40
   },
   "kernels_config": {
    "python": {
     "delete_cmd_postfix": "",
     "delete_cmd_prefix": "del ",
     "library": "var_list.py",
     "varRefreshCmd": "print(var_dic_list())"
    },
    "r": {
     "delete_cmd_postfix": ") ",
     "delete_cmd_prefix": "rm(",
     "library": "var_list.r",
     "varRefreshCmd": "cat(var_dic_list()) "
    }
   },
   "oldHeight": 122.72736400000001,
   "position": {
    "height": "144.716px",
    "left": "1375.45px",
    "right": "20px",
    "top": "120px",
    "width": "350px"
   },
   "types_to_exclude": [
    "module",
    "function",
    "builtin_function_or_method",
    "instance",
    "_Feature"
   ],
   "varInspector_section_display": "block",
   "window_display": false
  }
 },
 "nbformat": 4,
 "nbformat_minor": 4
}
