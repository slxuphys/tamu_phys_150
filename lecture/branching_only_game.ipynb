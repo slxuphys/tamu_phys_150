{
 "cells": [
  {
   "cell_type": "code",
   "execution_count": 75,
   "id": "39b79652-dea5-401d-9a2e-ec8f067d4b1c",
   "metadata": {},
   "outputs": [],
   "source": [
    "pos_pokemon=[3,6] #the legendary pumpkin pokemon's secret position\n",
    "pos_player=[1,2] #user's starting position"
   ]
  },
  {
   "cell_type": "code",
   "execution_count": 74,
   "id": "a39b72ab-551f-4ea9-852a-be86e2c620e9",
   "metadata": {
    "tags": []
   },
   "outputs": [
    {
     "name": "stdout",
     "output_type": "stream",
     "text": [
      "🌼🌼🌼🌼🌼🌼🌼🌼🌼🌼\n",
      "🌼🌼🌼🌼🌼🌼🌼🌼🌼🌼\n",
      "🌼🌼😜🌼🌼🌼🌼🌼🌼🌼\n",
      "🌼🌼🌼🌼🌼🌼🌼🌼🌼🌼\n",
      "🌼🌼🌼🌼🌼🌼🌼🌼🌼🌼\n",
      "🌼🌼🌼🌼🌼🌼🌼🌼🌼🌼\n",
      "🌼🌼🌼🌼🌼🌼🌼🌼🌼🌼\n",
      "🌼🌼🌼🌼🌼🌼🌼🌼🌼🌼\n",
      "🌼🌼🌼🌼🌼🌼🌼🌼🌼🌼\n",
      "🌼🌼🌼🌼🌼🌼🌼🌼🌼🌼\n"
     ]
    },
    {
     "name": "stdin",
     "output_type": "stream",
     "text": [
      "choose a direction: up, down, left, right: right\n"
     ]
    }
   ],
   "source": [
    "# draw the map\n",
    "size = 10\n",
    "forest = ['🌼'*size]*size\n",
    "s= list(forest[pos_player[1]])\n",
    "s[pos_player[0]]='😜'\n",
    "s= ''.join(s)\n",
    "forest[pos_player[1]]=s\n",
    "\n",
    "print('\\n'.join(forest))\n",
    "\n",
    "s = input('choose a direction: up, down, left, right:')\n",
    "\n",
    "#based on user's input, update player's position\n",
    "if s=='up':\n",
    "    pos_player[1] = pos_player[1] - 1\n",
    "if s=='down':\n",
    "    pos_player[1] = pos_player[1] + 1\n",
    "if s=='left':\n",
    "    pos_player[0] = pos_player[0] - 1\n",
    "if s=='right':\n",
    "    pos_player[0] = pos_player[0] + 1\n",
    "\n",
    "#if the player walked out the boundary, put it back on the other side    \n",
    "if pos_player[1]==size:\n",
    "    pos_player[1]==0\n",
    "if pos_player[1]==-1:\n",
    "    pos_player[1]==size-1\n",
    "if pos_player[0]==size:\n",
    "    pos_player[0]==0\n",
    "if pos_player[0]==-1:\n",
    "    pos_player[0]==size-1\n",
    "    \n",
    "\n",
    "#if the player encouters the pokemon, reveal it    \n",
    "if pos_player == pos_pokemon:\n",
    "    print('a wild pokemon appears')\n",
    "    s= list(forest[pos_pokemon[1]])\n",
    "    s[pos_pokemon[0]]='🎃'\n",
    "    s= ''.join(s)\n",
    "    forest[pos_pokemon[1]]=s\n",
    "    print('\\n'.join(forest))\n",
    "    print('do you wanna fight with it')\n",
    "    \n",
    "\n",
    "    "
   ]
  }
 ],
 "metadata": {
  "kernelspec": {
   "display_name": "Python 3 (ipykernel)",
   "language": "python",
   "name": "python3"
  },
  "language_info": {
   "codemirror_mode": {
    "name": "ipython",
    "version": 3
   },
   "file_extension": ".py",
   "mimetype": "text/x-python",
   "name": "python",
   "nbconvert_exporter": "python",
   "pygments_lexer": "ipython3",
   "version": "3.10.9"
  }
 },
 "nbformat": 4,
 "nbformat_minor": 5
}
