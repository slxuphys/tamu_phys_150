{
 "cells": [
  {
   "cell_type": "code",
   "execution_count": 9,
   "metadata": {
    "ExecuteTime": {
     "end_time": "2020-10-09T00:40:51.853982Z",
     "start_time": "2020-10-09T00:40:50.581992Z"
    }
   },
   "outputs": [],
   "source": [
    "import matplotlib.pyplot as plt"
   ]
  },
  {
   "cell_type": "markdown",
   "metadata": {
    "slideshow": {
     "slide_type": "slide"
    }
   },
   "source": [
    "<h1> Programming for Physics <br> Lecture 11: Modules </h1>\n",
    "<a target=\"_blank\" href=\"https://colab.research.google.com/github/slxuphys/tamu_phys_150/blob/master/lecture/lecture%2011%20Module.ipynb\">\n",
    "  <img src=\"https://colab.research.google.com/assets/colab-badge.svg\" alt=\"Open In Colab\"/>\n",
    "</a>\n"
   ]
  },
  {
   "cell_type": "markdown",
   "metadata": {
    "cell_style": "center",
    "slideshow": {
     "slide_type": "slide"
    }
   },
   "source": [
    "# Modules\n",
    "\n",
    "A wrapper of functions, constants and classes\n",
    "\n",
    "\n",
    "__The reusability of the code__\n",
    "\n",
    "Never repeat yourself!"
   ]
  },
  {
   "cell_type": "markdown",
   "metadata": {
    "cell_style": "center",
    "slideshow": {
     "slide_type": "slide"
    }
   },
   "source": [
    "## Import module\n",
    "- import the module\n",
    "\n",
    "    ```python\n",
    "    import module_name\n",
    "    ```\n",
    "\n",
    "- access the module content by \n",
    "\n",
    "    ```python\n",
    "    module_name.variable_name\n",
    "    module_name.function_name\n",
    "    module_name.class_name\n",
    "    ```\n"
   ]
  },
  {
   "cell_type": "code",
   "execution_count": 2,
   "metadata": {},
   "outputs": [
    {
     "data": {
      "text/plain": [
       "<module 'numpy' from 'c:\\\\Users\\\\Public\\\\anaconda\\\\Lib\\\\site-packages\\\\numpy\\\\__init__.py'>"
      ]
     },
     "execution_count": 2,
     "metadata": {},
     "output_type": "execute_result"
    }
   ],
   "source": [
    "import numpy ##numpy is the module name\n",
    "numpy"
   ]
  },
  {
   "cell_type": "code",
   "execution_count": 11,
   "metadata": {},
   "outputs": [
    {
     "data": {
      "text/plain": [
       "3.141592653589793"
      ]
     },
     "execution_count": 11,
     "metadata": {},
     "output_type": "execute_result"
    }
   ],
   "source": [
    "numpy.pi #variable"
   ]
  },
  {
   "cell_type": "code",
   "execution_count": 3,
   "metadata": {},
   "outputs": [
    {
     "data": {
      "text/plain": [
       "<ufunc 'sin'>"
      ]
     },
     "execution_count": 3,
     "metadata": {},
     "output_type": "execute_result"
    }
   ],
   "source": [
    "numpy.sin #function"
   ]
  },
  {
   "cell_type": "code",
   "execution_count": 13,
   "metadata": {},
   "outputs": [
    {
     "data": {
      "text/plain": [
       "numpy.ndarray"
      ]
     },
     "execution_count": 13,
     "metadata": {},
     "output_type": "execute_result"
    }
   ],
   "source": [
    "numpy.ndarray  #class"
   ]
  },
  {
   "cell_type": "markdown",
   "metadata": {},
   "source": [
    "- give the module an alias if the module name is too long.\n",
    "    ```python\n",
    "    import module_name as nickname\n",
    "    ```\n"
   ]
  },
  {
   "cell_type": "code",
   "execution_count": 15,
   "metadata": {},
   "outputs": [
    {
     "data": {
      "text/plain": [
       "3.141592653589793"
      ]
     },
     "execution_count": 15,
     "metadata": {},
     "output_type": "execute_result"
    }
   ],
   "source": [
    "import numpy as np\n",
    "np.pi"
   ]
  },
  {
   "cell_type": "code",
   "execution_count": 18,
   "metadata": {},
   "outputs": [
    {
     "data": {
      "text/plain": [
       "<function numpy.array>"
      ]
     },
     "execution_count": 18,
     "metadata": {},
     "output_type": "execute_result"
    }
   ],
   "source": [
    "np.array"
   ]
  },
  {
   "cell_type": "markdown",
   "metadata": {},
   "source": [
    "## Import specific content from a module\n",
    "Sometimes we do not need everything from the module but only a specific function or a specific variable.\n",
    "\n",
    "```python\n",
    "from module_name import function_name \n",
    "from module_name import variable_name\n",
    "```\n",
    "Then you can use the function or variable by their names without the module name."
   ]
  },
  {
   "cell_type": "code",
   "execution_count": 19,
   "metadata": {},
   "outputs": [
    {
     "name": "stdout",
     "output_type": "stream",
     "text": [
      "3.141592653589793\n"
     ]
    }
   ],
   "source": [
    "from numpy import pi\n",
    "print(pi)"
   ]
  },
  {
   "cell_type": "markdown",
   "metadata": {},
   "source": [
    "## Installing modules\n",
    "Some modules are not included in the standard library of Python. You need to install them first.\n",
    "\n",
    "First open the terminal (Anaconda Prompt), then type the following command to install the module.\n",
    "\n",
    "```bash\n",
    "conda install module_name\n",
    "```\n",
    "It will install the module and all its dependencies. Sometimes you may need to wait for a while for the installation to finish."
   ]
  },
  {
   "cell_type": "markdown",
   "metadata": {
    "slideshow": {
     "slide_type": "slide"
    }
   },
   "source": [
    "## Custom module \n",
    "\n",
    "We can also make a module ourselves and put useful functions and variables there.\n",
    "\n",
    "A module is essentially a Python file (with a .py extension) that contains Python code (functions, classes, variables, etc.). The file name becomes the module name when importing it.\n",
    "\n",
    "Two kinds of python files:\n",
    "- .ipynb   (interactive python notebook)\n",
    "- .py (python) not interactive and not a notebook\n",
    "\n",
    ".py file contains functions, constants and classes that can be imported and used in .ipynb file (and other .py file)\n",
    "\n",
    "You don't have to define the function in every notebook where the function is used.\n",
    "\n",
    "\n",
    "![image](https://github.com/slxuphys/tamu_phys_150/blob/master/gallery/module.png?raw=true)\n",
    "\n",
    "---"
   ]
  },
  {
   "cell_type": "markdown",
   "metadata": {},
   "source": [
    "\n",
    "\n",
    "Let us make a physics module together that contains our favorite class Ball() and function motion() \n",
    "- step 1. make a file named physics.py \n",
    "- step 2. copy the motion function and ball class into the file\n",
    "\n",
    "\n",
    "```python\n",
    "class Ball:\n",
    "    def __init__(self,x=0,v=0,a=0, t=0):\n",
    "        self.x=np.array(x) #make sure x is a numpy array\n",
    "        self.v=np.array(v) #make sure v is a numpy array\n",
    "        self.a=np.array(a) #make sure a is a numpy array\n",
    "        self.t=t\n",
    "        self.time_list=[]\n",
    "        self.pos_list=[]\n",
    "    def move(self,dt):\n",
    "        self.t=self.t+dt\n",
    "        self.v=self.v+self.a*dt\n",
    "        self.x=self.x+self.v*dt\n",
    "    def record(self): #record the current position and time to the lists\n",
    "        self.time_list.append(self.t)\n",
    "        self.pos_list.append(self.x)\n",
    "    def clear(self): #clear the history\n",
    "        self.time_list=[]\n",
    "        self.pos_list=[]\n",
    "\n",
    "\n",
    "def motion(t_max,num_step,ball,f_a=lambda x,v:0):\n",
    "    '''\n",
    "    a function that takes a ball object as an input\n",
    "    it simulates the motion\n",
    "    the acceleration is given by lambda function fa\n",
    "    '''\n",
    "    dt = t_max/num_step\n",
    "    for i_step in range(num_step):\n",
    "        ball.a=np.array(f_a(ball.x,ball.v)) #make sure a is a numpy array\n",
    "        ball.move(dt)\n",
    "        ball.record()\n",
    "```\n",
    "\n",
    "- step 4. in the module file, import other required modules (numpy, matplotlib) by the functions and classes.\n",
    "- step 5. add some useful constants G, c, h, etc.\n",
    "- step 6. save the file."
   ]
  },
  {
   "cell_type": "code",
   "execution_count": 5,
   "metadata": {},
   "outputs": [
    {
     "name": "stdout",
     "output_type": "stream",
     "text": [
      "Help on module physics:\n",
      "\n",
      "NAME\n",
      "    physics\n",
      "\n",
      "CLASSES\n",
      "    builtins.object\n",
      "        Ball\n",
      "\n",
      "    class Ball(builtins.object)\n",
      "     |  Ball(x=0, v=0, a=0, t=0)\n",
      "     |\n",
      "     |  Methods defined here:\n",
      "     |\n",
      "     |  __init__(self, x=0, v=0, a=0, t=0)\n",
      "     |      Initialize self.  See help(type(self)) for accurate signature.\n",
      "     |\n",
      "     |  clear(self)\n",
      "     |\n",
      "     |  move(self, dt)\n",
      "     |\n",
      "     |  record(self)\n",
      "     |\n",
      "     |  ----------------------------------------------------------------------\n",
      "     |  Data descriptors defined here:\n",
      "     |\n",
      "     |  __dict__\n",
      "     |      dictionary for instance variables\n",
      "     |\n",
      "     |  __weakref__\n",
      "     |      list of weak references to the object\n",
      "\n",
      "FUNCTIONS\n",
      "    motion(t_max, num_step, ball, f_a=<function <lambda> at 0x000001ADA1B71120>)\n",
      "        a function that takes a ball object as an input\n",
      "        it simulates the motion\n",
      "        the acceleration is given by lambda function fa\n",
      "\n",
      "FILE\n",
      "    c:\\users\\slxu\\research_library\\tamu_phys_150\\lecture\\physics.py\n",
      "\n",
      "\n"
     ]
    }
   ],
   "source": [
    "import physics as phy\n",
    "help(phy)"
   ]
  },
  {
   "cell_type": "markdown",
   "metadata": {},
   "source": [
    "__A module is self-contained__.\n",
    "\n",
    "Functions in a module do not recognize variables and functions outside the module. If the functions in the module requires other packages/modules, one need import those packages in the module."
   ]
  },
  {
   "cell_type": "code",
   "execution_count": 11,
   "metadata": {},
   "outputs": [
    {
     "data": {
      "text/plain": [
       "[<matplotlib.lines.Line2D at 0x1ada2170bf0>]"
      ]
     },
     "execution_count": 11,
     "metadata": {},
     "output_type": "execute_result"
    },
    {
     "data": {
      "image/png": "[encoded data removed]",
      "text/plain": [
       "<Figure size 640x480 with 1 Axes>"
      ]
     },
     "metadata": {},
     "output_type": "display_data"
    }
   ],
   "source": [
    "ball1 = phy.Ball(v=5)\n",
    "phy.motion(t_max=10,num_step=1000,ball=ball1, f_a=lambda x,v:-x)\n",
    "plt.plot(ball1.time_list, ball1.pos_list)"
   ]
  },
  {
   "cell_type": "markdown",
   "metadata": {
    "cell_style": "center",
    "slideshow": {
     "slide_type": "slide"
    }
   },
   "source": [
    "## reload package after making changes\n",
    "- import again does not include the changes\n",
    "- two methods\n",
    "    1. restart the kernel \n",
    "    2. use the %reload_ext magic command in jupyter notebook"
   ]
  },
  {
   "cell_type": "code",
   "execution_count": 13,
   "metadata": {},
   "outputs": [],
   "source": [
    "%reload_ext autoreload\n",
    "%autoreload 2"
   ]
  },
  {
   "cell_type": "markdown",
   "metadata": {
    "cell_style": "center",
    "slideshow": {
     "slide_type": "slide"
    }
   },
   "source": [
    "## useful modules/packages\n",
    "- math (contains common functions and constant)\n",
    "- random\n",
    "- numpy (array manipulation, linear algebra, also covers math and random)\n",
    "- scipy (scientific computation)\n",
    "- sympy (symbolic calculation)\n",
    "- pandas (data processing)\n",
    "- tensorflow, pytorch (machine learning)\n",
    "- matplotlib (visualization)\n",
    "- ...\n",
    "- pygame (making games)"
   ]
  },
  {
   "cell_type": "code",
   "execution_count": 16,
   "metadata": {},
   "outputs": [
    {
     "name": "stdout",
     "output_type": "stream",
     "text": [
      "^C\n"
     ]
    }
   ],
   "source": [
    "!conda install ffmpeg"
   ]
  }
 ],
 "metadata": {
  "celltoolbar": "Slideshow",
  "kernelspec": {
   "display_name": "base",
   "language": "python",
   "name": "python3"
  },
  "language_info": {
   "codemirror_mode": {
    "name": "ipython",
    "version": 3
   },
   "file_extension": ".py",
   "mimetype": "text/x-python",
   "name": "python",
   "nbconvert_exporter": "python",
   "pygments_lexer": "ipython3",
   "version": "3.12.7"
  },
  "varInspector": {
   "cols": {
    "lenName": 16,
    "lenType": 16,
    "lenVar": 40
   },
   "kernels_config": {
    "python": {
     "delete_cmd_postfix": "",
     "delete_cmd_prefix": "del ",
     "library": "var_list.py",
     "varRefreshCmd": "print(var_dic_list())"
    },
    "r": {
     "delete_cmd_postfix": ") ",
     "delete_cmd_prefix": "rm(",
     "library": "var_list.r",
     "varRefreshCmd": "cat(var_dic_list()) "
    }
   },
   "oldHeight": 122.72736400000001,
   "position": {
    "height": "144.716px",
    "left": "1375.45px",
    "right": "20px",
    "top": "120px",
    "width": "350px"
   },
   "types_to_exclude": [
    "module",
    "function",
    "builtin_function_or_method",
    "instance",
    "_Feature"
   ],
   "varInspector_section_display": "block",
   "window_display": false
  }
 },
 "nbformat": 4,
 "nbformat_minor": 4
}
