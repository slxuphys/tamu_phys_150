{
  "nbformat": 4,
  "nbformat_minor": 5,
  "metadata": {
    "kernelspec": {
      "display_name": "Python 3",
      "language": "python",
      "name": "python3"
    },
    "language_info": {
      "codemirror_mode": {
        "name": "ipython",
        "version": 3
      },
      "file_extension": ".py",
      "mimetype": "text/x-python",
      "name": "python",
      "nbconvert_exporter": "python",
      "pygments_lexer": "ipython3",
      "version": "3.8.8"
    },
    "colab": {
      "provenance": []
    }
  },
  "cells": [
    {
      "cell_type": "code",
      "metadata": {
        "id": "fbe1c71b"
      },
      "source": [
        "from IPython.display import clear_output\n",
        "import time"
      ],
      "id": "fbe1c71b",
      "execution_count": null,
      "outputs": []
    },
    {
      "cell_type": "code",
      "metadata": {
        "colab": {
          "base_uri": "https://localhost:8080/"
        },
        "id": "dbba6670",
        "outputId": "5628cd1f-c1aa-4a96-e93e-9b266282e0c9"
      },
      "source": [
        "grass=\"🍀\"\n",
        "alien=\"👾\"\n",
        "dragon =\"🍀\"\n",
        "pos=0\n",
        "dis=10\n",
        "print(grass*20)\n",
        "print(grass*20)\n",
        "print(grass*20)\n",
        "print(grass*pos + alien + grass*dis+ dragon + grass*8)\n",
        "print(grass*20)\n",
        "print(grass*20)\n",
        "print(grass*20)"
      ],
      "id": "dbba6670",
      "execution_count": null,
      "outputs": [
        {
          "output_type": "stream",
          "name": "stdout",
          "text": [
            "🍀🍀🍀🍀🍀🍀🍀🍀🍀🍀🍀🍀🍀🍀🍀🍀🍀🍀🍀🍀\n",
            "🍀🍀🍀🍀🍀🍀🍀🍀🍀🍀🍀🍀🍀🍀🍀🍀🍀🍀🍀🍀\n",
            "🍀🍀🍀🍀🍀🍀🍀🍀🍀🍀🍀🍀🍀🍀🍀🍀🍀🍀🍀🍀\n",
            "👾🍀🍀🍀🍀🍀🍀🍀🍀🍀🍀🍀🍀🍀🍀🍀🍀🍀🍀🍀\n",
            "🍀🍀🍀🍀🍀🍀🍀🍀🍀🍀🍀🍀🍀🍀🍀🍀🍀🍀🍀🍀\n",
            "🍀🍀🍀🍀🍀🍀🍀🍀🍀🍀🍀🍀🍀🍀🍀🍀🍀🍀🍀🍀\n",
            "🍀🍀🍀🍀🍀🍀🍀🍀🍀🍀🍀🍀🍀🍀🍀🍀🍀🍀🍀🍀\n"
          ]
        }
      ]
    },
    {
      "cell_type": "code",
      "metadata": {
        "colab": {
          "base_uri": "https://localhost:8080/"
        },
        "id": "764fa050",
        "outputId": "d36b1297-4ae4-4a58-f9ed-62fc6af42773"
      },
      "source": [
        "while True:\n",
        "    drc = input('left or right:')\n",
        "    if drc=='left':\n",
        "        pos = pos-1\n",
        "        dis = dis+1\n",
        "    elif drc=='right':\n",
        "        pos = pos+1\n",
        "        dis = dis-1\n",
        "    elif drc=='stop':\n",
        "        print('game over')\n",
        "        break\n",
        "    if dis==0: #if the alien meets the dragon, reveal the dragn\n",
        "        dragon=\"🐲\"\n",
        "        print('a wild dragon pokemon has appeared')\n",
        "    print(grass*20)\n",
        "    print(grass*20)\n",
        "    print(grass*20)\n",
        "    print(grass*pos + alien + grass*dis+ dragon + grass*8)\n",
        "    print(grass*20)\n",
        "    print(grass*20)\n",
        "    print(grass*20)\n",
        "    clear_output(wait=True)\n",
        "\n",
        "    "
      ],
      "id": "764fa050",
      "execution_count": null,
      "outputs": [
        {
          "output_type": "stream",
          "name": "stdout",
          "text": [
            "left or right:stop\n",
            "game over\n"
          ]
        }
      ]
    },
    {
      "cell_type": "code",
      "metadata": {
        "colab": {
          "base_uri": "https://localhost:8080/"
        },
        "id": "rH28eUNATPaB",
        "outputId": "8cbc87b9-299c-4b6d-eec9-defee6a89714"
      },
      "source": [
        "pos=0 #initialize the position of the ball\n",
        "field =\"🍀\"*20 #make a string variable of the field\n",
        "fb=list(field) #change it to list so that we can put a ball in it\n",
        "fb[pos]='⚽' # put the ball in the right position\n",
        "fb=''.join(fb) #convert the list back to a string for printing\n",
        "v=2 #the inital velocity\n",
        "num_step=100 #maximum number of iteration\n",
        "for i_step in range(num_step):\n",
        "    print('position of the ball',pos)\n",
        "    print('number of iteration',i_step+1,'/',num_step)\n",
        "    pos=pos+v # update the position of the ball\n",
        "    if pos>19: #if position reaches the right boundary\n",
        "        v=-v #change velocity to -1, implementing bouncing back\n",
        "        pos= 19 - (pos-19) #bring the ball back\n",
        "    if pos<0: #if the position reaches the left boundary\n",
        "        v=-v #change the velocity to 1\n",
        "        pos=-pos # bring the ball back\n",
        "   \n",
        "    #printing the ball\n",
        "    fb=list(field)\n",
        "    fb[pos]='⚽'\n",
        "    fb=''.join(fb)\n",
        "    print('🧱'+fb+'🧱')\n",
        "    clear_output(wait=True)\n",
        "    time.sleep(0.25)\n"
      ],
      "id": "rH28eUNATPaB",
      "execution_count": null,
      "outputs": [
        {
          "output_type": "stream",
          "name": "stdout",
          "text": [
            "position of the ball 8\n",
            "number of iteration 100 / 100\n",
            "🧱🍀🍀🍀🍀🍀🍀🍀🍀🍀🍀⚽🍀🍀🍀🍀🍀🍀🍀🍀🍀🧱\n"
          ]
        }
      ]
    }
  ]
}