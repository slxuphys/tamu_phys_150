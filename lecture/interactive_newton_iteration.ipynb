{
 "cells": [
  {
   "cell_type": "code",
   "execution_count": 1,
   "metadata": {},
   "outputs": [],
   "source": [
    "%matplotlib tk"
   ]
  },
  {
   "cell_type": "code",
   "execution_count": 49,
   "metadata": {},
   "outputs": [],
   "source": [
    "import numpy as np\n",
    "def Newton_method(f,df, x0): \n",
    "    x_list=[x0]\n",
    "    x= x0\n",
    "    num_step =100\n",
    "\n",
    "    for i in range(num_step):\n",
    "        x_new = x - f(x)/df(x)\n",
    "        x_list.append(x_new)\n",
    "        if abs(x_new -x )<1e-5:\n",
    "            return x_list\n",
    "        x = x_new\n",
    "        \n",
    "    x_list.append(None) #if the loop is finished, it means that no solution is found and we append the none value to the list\n",
    "    return x_list\n",
    "\n",
    "def on_click(event):\n",
    "    if  event.inaxes != ax:\n",
    "        return\n",
    "    x_list = Newton_method(f = lambda x:x**3-1, df = lambda x: 3*x**2, x0 = event.xdata + 1j*event.ydata)\n",
    "    line.set_data(np.real(x_list), np.imag(x_list))\n",
    "    if abs(x_list[-1]-1)<1e-4:\n",
    "        line.set_color('tab:blue')\n",
    "    if abs(x_list[-1]-(-1/2-3**0.5/2j))<1e-4:\n",
    "        line.set_color('tab:orange')\n",
    "    if abs(x_list[-1]-(-1/2+3**0.5/2j))<1e-4:\n",
    "        line.set_color('tab:green')\n",
    "    fig.canvas.draw()"
   ]
  },
  {
   "cell_type": "code",
   "execution_count": 52,
   "metadata": {},
   "outputs": [
    {
     "data": {
      "text/plain": [
       "14"
      ]
     },
     "execution_count": 52,
     "metadata": {},
     "output_type": "execute_result"
    }
   ],
   "source": [
    "import matplotlib.pyplot as plt\n",
    "\n",
    "fig, ax = plt.subplots()\n",
    "\n",
    "\n",
    "plt.plot(1, 0 , '.', markersize=10)\n",
    "plt.plot(-1/2, 3**0.5/2 , '.', markersize=10)\n",
    "plt.plot(-1/2, -3**0.5/2 , '.', markersize=10)\n",
    "ax. set_aspect('equal')\n",
    "plt.xlim(-2,2)\n",
    "plt.ylim(-2,2)\n",
    "line, = ax.plot(0, 0,'-')\n",
    "\n",
    "\n",
    "fig.canvas.mpl_connect('button_press_event', on_click)\n"
   ]
  },
  {
   "cell_type": "code",
   "execution_count": null,
   "metadata": {},
   "outputs": [],
   "source": [
    "ax"
   ]
  }
 ],
 "metadata": {
  "kernelspec": {
   "display_name": "base",
   "language": "python",
   "name": "python3"
  },
  "language_info": {
   "codemirror_mode": {
    "name": "ipython",
    "version": 3
   },
   "file_extension": ".py",
   "mimetype": "text/x-python",
   "name": "python",
   "nbconvert_exporter": "python",
   "pygments_lexer": "ipython3",
   "version": "3.12.4"
  }
 },
 "nbformat": 4,
 "nbformat_minor": 2
}
