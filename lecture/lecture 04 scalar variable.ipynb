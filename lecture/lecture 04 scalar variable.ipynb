{
 "cells": [
  {
   "cell_type": "markdown",
   "metadata": {
    "cell_style": "center",
    "code_folding": [],
    "slideshow": {
     "slide_type": "slide"
    },
    "tags": []
   },
   "source": [
    "# Lecture 4: Code Cell and Scaler Variables\n",
    "\n",
    "<a target=\"_blank\" href=\"https://colab.research.google.com/github/slxuphys/tamu_phys_150/blob/master/lecture/lecture%2004%20scalar%20variable.ipynb\">\n",
    "  <img src=\"https://colab.research.google.com/assets/colab-badge.svg\" alt=\"Open In Colab\"/>\n",
    "</a>"
   ]
  },
  {
   "cell_type": "markdown",
   "metadata": {},
   "source": [
    "## Python Overview\n",
    "\n",
    "![python logo](https://www.python.org/static/community_logos/python-logo-master-v3-TM.png)\n",
    "\n",
    "Why are we using Python?\n",
    "- Relatively easy to learn and use; simple and readable syntax\n",
    "- Free and open-source\n",
    "- Large community and resources\n",
    "- Widely used in scientific computing and data analysis\n",
    "\n",
    "First release of Python: 1991 by Guido van Rossum\n",
    "> _In December 1989, Van Rossum had been looking for a \"'hobby' programming project that would keep him occupied during the week around Christmas\" as his office was closed._\n",
    "\n",
    "- Python 2.x: 2000 - 2020 (no longer supported)\n",
    "- Python 3.x: 2008 - present (actively developed)\n",
    "\n",
    "\n"
   ]
  },
  {
   "cell_type": "markdown",
   "metadata": {},
   "source": [
    "### Open Source and a Large Community\n",
    "\n",
    "- A large and active community of developers and users\n",
    "- Extensive package ecosystem (e.g., NumPy, Pandas, Matplotlib, SciPy, etc.) in addition to the standard library.\n",
    "- Anaconda installation comes with many useful packages pre-installed. I will show you how to install extra packages later."
   ]
  },
  {
   "cell_type": "markdown",
   "metadata": {},
   "source": [
    "## basic structure of programming in Python\n",
    "\n",
    "<img src=\"../gallery/coding_structure.png\" alt=\"coding structure\" style=\"width: 800px;\"/>"
   ]
  },
  {
   "cell_type": "markdown",
   "metadata": {
    "cell_style": "split",
    "slideshow": {
     "slide_type": "slide"
    },
    "tags": []
   },
   "source": [
    "## Jupyter Notebook\n",
    "\n",
    "### Markdown Cell \n",
    "See lecture 03 for markdown cell examples.\n",
    "\n",
    "### Code Cell\n",
    "\n",
    "A code cell is a cell in a Jupyter notebook that allows you to write and execute code.\n",
    "\n",
    "You can run the code cell by clicking the \"Run\" button (the triangle icon) or by pressing `Shift + Enter` which selects the next cell automatically or `Ctrl + Enter` which stays on the current cell.\n",
    "\n",
    "If you run the code cell for the first time, VS Code will prompt you to install Python and Jupyter extensions if you haven't done so. VS Code will also prompt you to select a Python interpreter which will appear in the top right corner of the window. Please select the Python interpreter from your Anaconda installation."
   ]
  },
  {
   "cell_type": "code",
   "execution_count": 1,
   "metadata": {},
   "outputs": [
    {
     "name": "stdout",
     "output_type": "stream",
     "text": [
      "hello world!\n"
     ]
    }
   ],
   "source": [
    "print('hello world!')"
   ]
  },
  {
   "cell_type": "markdown",
   "metadata": {},
   "source": [
    "### Statements in Python\n",
    "A statement is a line of code that performs a specific action.\n",
    "\n",
    "Some basic rules of writing statements in Python:\n",
    "- Python is case-sensitive\n",
    "- Unless necessary (inside a if/while/function/class block), do not indent; indentation is meaningful in python\n",
    "- \\# for comments\n",
    "- one statement per line\n",
    "    - if necessary, use \\ to split the statement in two lines\n",
    "    - if necessary, use ; to put two statements in one line\n",
    "- if there is an error in the code, an error message will be shown in the output area. __Don't panic!__ Read the error message carefully and try to fix the error."
   ]
  },
  {
   "cell_type": "code",
   "execution_count": 5,
   "metadata": {
    "cell_style": "split",
    "slideshow": {
     "slide_type": "fragment"
    }
   },
   "outputs": [
    {
     "name": "stdout",
     "output_type": "stream",
     "text": [
      "hello\n"
     ]
    }
   ],
   "source": [
    "print('hello') #this a statement"
   ]
  },
  {
   "cell_type": "code",
   "execution_count": 2,
   "metadata": {
    "cell_style": "split",
    "slideshow": {
     "slide_type": "fragment"
    }
   },
   "outputs": [
    {
     "ename": "SyntaxError",
     "evalue": "invalid syntax (1022883301.py, line 1)",
     "output_type": "error",
     "traceback": [
      "\u001b[0;36m  File \u001b[0;32m\"/tmp/ipykernel_81/1022883301.py\"\u001b[0;36m, line \u001b[0;32m1\u001b[0m\n\u001b[0;31m    print('hello') print('hello') #two statements in a line will lead to syntax error\u001b[0m\n\u001b[0m                       ^\u001b[0m\n\u001b[0;31mSyntaxError\u001b[0m\u001b[0;31m:\u001b[0m invalid syntax\n"
     ]
    }
   ],
   "source": [
    "print('hello') print('hello') #two statements in a line will lead to syntax error"
   ]
  },
  {
   "cell_type": "markdown",
   "metadata": {
    "cell_style": "split",
    "slideshow": {
     "slide_type": "slide"
    },
    "tags": []
   },
   "source": [
    "## Variables\n",
    "Variables has two parts: the name and the value\n",
    "\n",
    "The code below creates a variable named `a` and assigns it the value of 5. You can check its value by using the `print()` function. You should refer to the variable by its name `a` (without the \"\") in the rest of your code."
   ]
  },
  {
   "cell_type": "code",
   "execution_count": 7,
   "metadata": {},
   "outputs": [
    {
     "name": "stdout",
     "output_type": "stream",
     "text": [
      "5\n"
     ]
    }
   ],
   "source": [
    "a = 5\n",
    "print(a)"
   ]
  },
  {
   "cell_type": "markdown",
   "metadata": {},
   "source": [
    "The name cannot start with a number, or contains special characters like \\, \\*, \\+, etc. But underscore _ is allowed"
   ]
  },
  {
   "cell_type": "code",
   "execution_count": 8,
   "metadata": {},
   "outputs": [
    {
     "ename": "SyntaxError",
     "evalue": "invalid decimal literal (1979183462.py, line 1)",
     "output_type": "error",
     "traceback": [
      "\u001b[1;36m  Cell \u001b[1;32mIn[8], line 1\u001b[1;36m\u001b[0m\n\u001b[1;33m    2a = 5 #variable name cannot start with a number\u001b[0m\n\u001b[1;37m    ^\u001b[0m\n\u001b[1;31mSyntaxError\u001b[0m\u001b[1;31m:\u001b[0m invalid decimal literal\n"
     ]
    }
   ],
   "source": [
    "2a = 5 #variable name cannot start with a number"
   ]
  },
  {
   "cell_type": "code",
   "execution_count": 9,
   "metadata": {},
   "outputs": [
    {
     "ename": "SyntaxError",
     "evalue": "cannot assign to expression here. Maybe you meant '==' instead of '='? (356042514.py, line 1)",
     "output_type": "error",
     "traceback": [
      "\u001b[1;36m  Cell \u001b[1;32mIn[9], line 1\u001b[1;36m\u001b[0m\n\u001b[1;33m    a*b = 5 #variable name cannot contain special characters like *\u001b[0m\n\u001b[1;37m    ^\u001b[0m\n\u001b[1;31mSyntaxError\u001b[0m\u001b[1;31m:\u001b[0m cannot assign to expression here. Maybe you meant '==' instead of '='?\n"
     ]
    }
   ],
   "source": [
    "a*b = 5 #variable name cannot contain special characters like *"
   ]
  },
  {
   "cell_type": "markdown",
   "metadata": {},
   "source": [
    "The name cannot be reserved words in python. Most modern code editors (including VS Code) will highlight reserved words in a different color.\n",
    "\n",
    "Using reserved words as variable names will lead to error messages. Here are some reserved words in Python:\n",
    "\n",
    "```python\n",
    "False   def\tif\traise\n",
    "None\tdel\timport\treturn\n",
    "True\telif\tin\ttry\n",
    "and\telse\tis\twhile\n",
    "as\texcept\tlambda\twith\n",
    "assert\tfinally\tnonlocal\tyield\n",
    "break\tfor\tnot\t\n",
    "class\tfrom\tor\t\n",
    "continue\tglobal\tpass\n",
    "```\n",
    "The following code will lead to error messages:"
   ]
  },
  {
   "cell_type": "code",
   "execution_count": 10,
   "metadata": {},
   "outputs": [
    {
     "ename": "SyntaxError",
     "evalue": "cannot assign to True (1201780786.py, line 1)",
     "output_type": "error",
     "traceback": [
      "\u001b[1;36m  Cell \u001b[1;32mIn[10], line 1\u001b[1;36m\u001b[0m\n\u001b[1;33m    True = 5 #variable name cannot be a reserved word in python\u001b[0m\n\u001b[1;37m    ^\u001b[0m\n\u001b[1;31mSyntaxError\u001b[0m\u001b[1;31m:\u001b[0m cannot assign to True\n"
     ]
    }
   ],
   "source": [
    "True = 5 #variable name cannot be a reserved word in python"
   ]
  },
  {
   "cell_type": "markdown",
   "metadata": {},
   "source": [
    "Do __not__ use function name for variable name, e.g., abs, print, input, etc. Here are some built-in functions in Python:\n",
    "\n",
    "```python\n",
    "abs()   delattr()   hash()   memoryview()  set()  all()\n",
    "\n",
    "dict()  help()   min()  setattr()  any()  dir()  hex()\n",
    "\n",
    "```\n",
    "This is not a complete list. You can find the full list in the [official documentation](https://docs.python.org/3/library/functions.html).\n",
    "\n",
    "Using built-in function names as variable names will not lead to error messages, but it will lead to unexpected behaviors.\n",
    "\n",
    "```python\n",
    "## Try with care!\n",
    "print = 5\n",
    "print('hello')  # this will lead to an error because print is no longer a function\n",
    "```\n",
    "To restore the built-in function, you can use the `del` statement to delete the variable.\n",
    "\n",
    "```python\n",
    "del print\n",
    "print('hello')  # this will work again\n",
    "```"
   ]
  },
  {
   "cell_type": "code",
   "execution_count": 11,
   "metadata": {},
   "outputs": [
    {
     "ename": "TypeError",
     "evalue": "'int' object is not callable",
     "output_type": "error",
     "traceback": [
      "\u001b[1;31m---------------------------------------------------------------------------\u001b[0m",
      "\u001b[1;31mTypeError\u001b[0m                                 Traceback (most recent call last)",
      "Cell \u001b[1;32mIn[11], line 2\u001b[0m\n\u001b[0;32m      1\u001b[0m \u001b[38;5;28mprint\u001b[39m \u001b[38;5;241m=\u001b[39m \u001b[38;5;241m5\u001b[39m\n\u001b[1;32m----> 2\u001b[0m \u001b[38;5;28mprint\u001b[39m(\u001b[38;5;124m'\u001b[39m\u001b[38;5;124mhello\u001b[39m\u001b[38;5;124m'\u001b[39m)\n",
      "\u001b[1;31mTypeError\u001b[0m: 'int' object is not callable"
     ]
    }
   ],
   "source": [
    "print = 5\n",
    "print('hello')  # this will lead to an error because print is no longer a function"
   ]
  },
  {
   "cell_type": "code",
   "execution_count": 12,
   "metadata": {},
   "outputs": [
    {
     "name": "stdout",
     "output_type": "stream",
     "text": [
      "hello\n"
     ]
    }
   ],
   "source": [
    "del print\n",
    "print('hello')  # this will work again"
   ]
  },
  {
   "cell_type": "markdown",
   "metadata": {},
   "source": [
    "- use print() to check variable's value\n",
    "\n",
    "- use del to delete a variable"
   ]
  },
  {
   "cell_type": "code",
   "execution_count": 68,
   "metadata": {
    "cell_style": "split",
    "slideshow": {
     "slide_type": "fragment"
    }
   },
   "outputs": [
    {
     "name": "stdout",
     "output_type": "stream",
     "text": [
      "hello\n"
     ]
    }
   ],
   "source": [
    "a=\"hello\" #a is the variable name; \"hello\" is the value\n",
    "print(a) #print the value of a"
   ]
  },
  {
   "cell_type": "code",
   "execution_count": 69,
   "metadata": {
    "cell_style": "split",
    "slideshow": {
     "slide_type": "fragment"
    }
   },
   "outputs": [
    {
     "ename": "NameError",
     "evalue": "name 'a' is not defined",
     "output_type": "error",
     "traceback": [
      "\u001b[1;31m---------------------------------------------------------------------------\u001b[0m",
      "\u001b[1;31mNameError\u001b[0m                                 Traceback (most recent call last)",
      "\u001b[1;32m<ipython-input-69-bf0c8a21f539>\u001b[0m in \u001b[0;36m<module>\u001b[1;34m\u001b[0m\n\u001b[0;32m      1\u001b[0m \u001b[1;32mdel\u001b[0m \u001b[0ma\u001b[0m \u001b[1;31m# a is deleted\u001b[0m\u001b[1;33m\u001b[0m\u001b[1;33m\u001b[0m\u001b[0m\n\u001b[1;32m----> 2\u001b[1;33m \u001b[0mprint\u001b[0m\u001b[1;33m(\u001b[0m\u001b[0ma\u001b[0m\u001b[1;33m)\u001b[0m \u001b[1;31m#will lead to an error\u001b[0m\u001b[1;33m\u001b[0m\u001b[1;33m\u001b[0m\u001b[0m\n\u001b[0m",
      "\u001b[1;31mNameError\u001b[0m: name 'a' is not defined"
     ]
    }
   ],
   "source": [
    "del a # a is deleted\n",
    "print(a) #will lead to an error because a is deleted"
   ]
  },
  {
   "cell_type": "markdown",
   "metadata": {},
   "source": [
    "- use input() to get value from keyboard. When using input(), the program will pause and wait for user input, indicated by an input box. A square or an asterisk will appear in the left margin of the cell to indicate that the cell is running. After you enter the input and press Enter, the program will resume and the input value will be assigned to the variable."
   ]
  },
  {
   "cell_type": "code",
   "execution_count": 14,
   "metadata": {
    "cell_style": "split",
    "slideshow": {
     "slide_type": "fragment"
    }
   },
   "outputs": [
    {
     "name": "stdout",
     "output_type": "stream",
     "text": [
      "\n"
     ]
    }
   ],
   "source": [
    "# input from keyboard\n",
    "a = input(\"input something: \")\n",
    "print(a)"
   ]
  },
  {
   "cell_type": "markdown",
   "metadata": {
    "cell_style": "center",
    "slideshow": {
     "slide_type": "slide"
    }
   },
   "source": [
    "## Operators\n",
    "Operators are the syntax used to manipulate variables. \n",
    "\n",
    "For example, +, -, \\*, / , \\*\\*, =, == are all operators, which may work differently depending on the type of the variable. For instance, + means addition for numbers, but means concatenation for strings.\n"
   ]
  },
  {
   "cell_type": "markdown",
   "metadata": {
    "cell_style": "split",
    "slideshow": {
     "slide_type": "slide"
    }
   },
   "source": [
    "## Types of variables\n",
    "Variables have types.\n",
    "\n",
    "- use type() function to check the type of variables\n",
    "\n",
    "- input() always return a string\n",
    "\n",
    "### scalar types\n",
    "- numerical types\n",
    "    - integer\n",
    "    - float\n",
    "    - complex\n",
    "- boolean (true or false)\n",
    "- string\n",
    "- none (no value)\n",
    "\n",
    "### container types (later)\n",
    "- list\n",
    "- tuple\n",
    "- set\n",
    "- dictionary\n",
    "- numpy.array from numpy package\n",
    "\n"
   ]
  },
  {
   "cell_type": "code",
   "execution_count": 6,
   "metadata": {
    "cell_style": "split",
    "slideshow": {
     "slide_type": "fragment"
    },
    "tags": []
   },
   "outputs": [
    {
     "name": "stdout",
     "output_type": "stream",
     "text": [
      "<class 'int'> <class 'float'> <class 'complex'> <class 'bool'> <class 'str'> <class 'NoneType'>\n"
     ]
    }
   ],
   "source": [
    "# types of variables\n",
    "a1=2\n",
    "a2=2.3\n",
    "a3=3 + 2j\n",
    "a4=True\n",
    "a5='Apple'\n",
    "a6=None\n",
    "# check the results using type function\n",
    "print(type(a1),type(a2),type(a3),type(a4),type(a5),type(a6))"
   ]
  },
  {
   "cell_type": "code",
   "execution_count": 7,
   "metadata": {
    "slideshow": {
     "slide_type": "skip"
    },
    "tags": []
   },
   "outputs": [
    {
     "data": {
      "text/plain": [
       "2"
      ]
     },
     "execution_count": 7,
     "metadata": {},
     "output_type": "execute_result"
    }
   ],
   "source": [
    "a1"
   ]
  },
  {
   "cell_type": "markdown",
   "metadata": {
    "cell_style": "split",
    "slideshow": {
     "slide_type": "slide"
    }
   },
   "source": [
    "## Numerical variables\n",
    "### types\n",
    "  - integer\n",
    "  - float \n",
    "  - complex\n"
   ]
  },
  {
   "cell_type": "code",
   "execution_count": 11,
   "metadata": {
    "cell_style": "split",
    "slideshow": {
     "slide_type": "fragment"
    }
   },
   "outputs": [],
   "source": [
    "# types\n",
    "a=3 #integer\n",
    "b=3.4 #float\n",
    "c=3+3.4j #complex, j stands for the unit imaginary number"
   ]
  },
  {
   "cell_type": "markdown",
   "metadata": {
    "cell_style": "split",
    "slideshow": {
     "slide_type": "slide"
    }
   },
   "source": [
    "### common operators\n",
    "- arithmetics\n",
    "\n",
    "|sum|diff.|prod.|div.|power|reminder|floor div.|\n",
    "| :---: | :-----: | :---: | :---: | :---: | :---: | :---: |\n",
    "|+|-|* |/|\\*\\*|%|//| \n",
    "    \n",
    "- comparision\n",
    "\n",
    "|equal|not eq.|greater|smaller|...|\n",
    "| :----: | :----: | :---: | :----: | :-----: |\n",
    "|==|!=|>|<|>=, <=, ...|\n",
    "\n",
    "- accessing methods & attributes: a.\n",
    "\n",
    "\n",
    "\n",
    "\n",
    "\n",
    "\n",
    "\n"
   ]
  },
  {
   "cell_type": "code",
   "execution_count": 74,
   "metadata": {
    "cell_style": "split",
    "slideshow": {
     "slide_type": "fragment"
    }
   },
   "outputs": [
    {
     "name": "stdout",
     "output_type": "stream",
     "text": [
      "14 4 2744 3.5 3 2\n"
     ]
    }
   ],
   "source": [
    "# arithmetics\n",
    "a=14;b=4  #use ; if you wanna write the next line of code in the same line\n",
    "c=a**3 #power \n",
    "d=a/b #floor division is the integer part of division; 14/4=3.5; c is 3;\n",
    "e=a//b\n",
    "f=a%b # % returns the reminder of the division\n",
    "# c and d are both integer; in contrast, a/b returns a float (decimal number)\n",
    "print(a,b,c,d,e,f)"
   ]
  },
  {
   "cell_type": "code",
   "execution_count": null,
   "metadata": {},
   "outputs": [
    {
     "name": "stdout",
     "output_type": "stream",
     "text": [
      "-6\n"
     ]
    }
   ],
   "source": [
    "# you can also combine operators like in a calculator\n",
    "a = 1+1*3-10\n",
    "print(a)"
   ]
  },
  {
   "cell_type": "code",
   "execution_count": 73,
   "metadata": {
    "cell_style": "split",
    "slideshow": {
     "slide_type": "fragment"
    }
   },
   "outputs": [
    {
     "name": "stdout",
     "output_type": "stream",
     "text": [
      "False\n"
     ]
    }
   ],
   "source": [
    "# comparison\n",
    "a=14\n",
    "b=4\n",
    "c= a<b\n",
    "print(c)"
   ]
  },
  {
   "cell_type": "markdown",
   "metadata": {
    "cell_style": "split",
    "slideshow": {
     "slide_type": "slide"
    }
   },
   "source": [
    "### attributes\n",
    "\n",
    "attributes are additional variables and functions associated with a variable type\n",
    "\n",
    "- using dot variable_name. to access\n",
    "- when you type the dot (followed by pressing the tab key in native Jupyter notebook), a list of attributes will appear\n",
    "- press the tab key twice to show a list of attributes\n",
    "    \n",
    "_we will learn more when we talk about class_"
   ]
  },
  {
   "cell_type": "code",
   "execution_count": 31,
   "metadata": {
    "cell_style": "split",
    "slideshow": {
     "slide_type": "fragment"
    }
   },
   "outputs": [
    {
     "name": "stdout",
     "output_type": "stream",
     "text": [
      "4.0\n",
      "3.0\n",
      "(4-3j)\n"
     ]
    }
   ],
   "source": [
    "# attributes \n",
    "a=4 + 3j\n",
    "print(a.real)\n",
    "print(a.imag)\n",
    "print(a.conjugate())"
   ]
  },
  {
   "cell_type": "markdown",
   "metadata": {
    "cell_style": "split",
    "slideshow": {
     "slide_type": "slide"
    }
   },
   "source": [
    "__Everything input from keyboard is interpreted as a string by default.__"
   ]
  },
  {
   "cell_type": "code",
   "execution_count": 75,
   "metadata": {
    "cell_style": "split",
    "scrolled": true,
    "slideshow": {
     "slide_type": "fragment"
    }
   },
   "outputs": [
    {
     "name": "stdout",
     "output_type": "stream",
     "text": [
      "input a number： 3.4\n",
      "<class 'str'>\n",
      "<class 'float'>\n",
      "6.8\n"
     ]
    }
   ],
   "source": [
    "a=input(\"input a number： \")\n",
    "print(type(a))  # now a is a string\n",
    "a=float(a) # convert it to float\n",
    "print(type(a))\n",
    "b=2*a # a is recognized as a number\n",
    "print(b)"
   ]
  },
  {
   "cell_type": "markdown",
   "metadata": {
    "cell_style": "split",
    "slideshow": {
     "slide_type": "slide"
    }
   },
   "source": [
    "## Boolean Type\n",
    "\n",
    "Only two values: True or False\n",
    "\n",
    "- from direct assignment\n",
    "- from comparison\n",
    "- from operators"
   ]
  },
  {
   "cell_type": "code",
   "execution_count": 8,
   "metadata": {
    "cell_style": "split",
    "slideshow": {
     "slide_type": "fragment"
    }
   },
   "outputs": [
    {
     "name": "stdout",
     "output_type": "stream",
     "text": [
      "False\n"
     ]
    }
   ],
   "source": [
    "#assignment\n",
    "a=True\n",
    "b=False\n"
   ]
  },
  {
   "cell_type": "code",
   "execution_count": null,
   "metadata": {},
   "outputs": [],
   "source": [
    "#from comparison\n",
    "a= 3==4 #try other comparison, like <, >, >=, <=, !=\n",
    "print(a)"
   ]
  },
  {
   "cell_type": "markdown",
   "metadata": {},
   "source": [
    "\n",
    "### Commonly used operators\n",
    "not, and, or, xor (^)\n",
    "\n",
    "- ```python\n",
    "  not \n",
    "  ``` \n",
    "  invert true to false and vice versa\n",
    "  \n",
    "\n",
    "- ```python \n",
    "  a and b\n",
    "  ```\n",
    "  returns true if both a and b are true\n",
    "\n",
    "- ```python \n",
    "  a or b\n",
    "  ``` \n",
    "  returns true if a or b are true\n",
    "\n",
    "\n",
    "- ```python \n",
    "  a ^ b\n",
    "  ``` \n",
    "  returns true if a and b are not the same"
   ]
  },
  {
   "cell_type": "code",
   "execution_count": 1,
   "metadata": {
    "cell_style": "split",
    "slideshow": {
     "slide_type": "fragment"
    }
   },
   "outputs": [
    {
     "name": "stdout",
     "output_type": "stream",
     "text": [
      "True\n",
      "False\n",
      "True\n",
      "True\n",
      "True\n"
     ]
    }
   ],
   "source": [
    "#operator\n",
    "a=True;b=False\n",
    "print(a)\n",
    "print(not a) #not\n",
    "print(a and a) # and\n",
    "print( a or b) # or\n",
    "print(a ^ b) # xor"
   ]
  },
  {
   "cell_type": "markdown",
   "metadata": {
    "cell_style": "split",
    "slideshow": {
     "slide_type": "slide"
    }
   },
   "source": [
    "## None Type\n",
    "\n",
    "- Only one values\n",
    "\n",
    "- Sometime used as place holder"
   ]
  },
  {
   "cell_type": "code",
   "execution_count": 2,
   "metadata": {},
   "outputs": [
    {
     "name": "stdout",
     "output_type": "stream",
     "text": [
      "None\n"
     ]
    }
   ],
   "source": [
    "a=None\n",
    "print(a)"
   ]
  },
  {
   "cell_type": "markdown",
   "metadata": {
    "cell_style": "split",
    "slideshow": {
     "slide_type": "slide"
    }
   },
   "source": [
    "## String Type\n",
    "- Anything that appears in red in the code cell\n",
    "\n",
    "- between two quotes ('or \")\n",
    "\n",
    "- Using \\ to type special characters (',\",\\)\n",
    "\n",
    "- Using raw string to escape any special characters. Raw string start with `r` before the quotes.\n",
    "  ```python\n",
    "  r'apple\\norange\"dda\"'\n",
    "  ```\n",
    "\n",
    "- Using \\n to change line.\n",
    "\n",
    "- Using function len to get the length of string.\n",
    "  ```python\n",
    "  len('apple')\n",
    "  ```\n",
    "\n",
    "- Using triple quotes for multi-line strings.\n",
    "\n",
    "- string index starts at __0__"
   ]
  },
  {
   "cell_type": "code",
   "execution_count": 8,
   "metadata": {
    "cell_style": "split",
    "slideshow": {
     "slide_type": "skip"
    }
   },
   "outputs": [
    {
     "name": "stdout",
     "output_type": "stream",
     "text": [
      "apple\n",
      "apple\\\n"
     ]
    }
   ],
   "source": [
    "# assignment\n",
    "a='apple'\n",
    "print(a)\n",
    "b='apple\\\\' #using \\ to escape special characters such as '\\' itself,or ',\"\n",
    "print(b)\n"
   ]
  },
  {
   "cell_type": "code",
   "execution_count": 11,
   "metadata": {},
   "outputs": [
    {
     "ename": "SyntaxError",
     "evalue": "unterminated string literal (detected at line 2) (1384268458.py, line 2)",
     "output_type": "error",
     "traceback": [
      "\u001b[1;36m  Cell \u001b[1;32mIn[11], line 2\u001b[1;36m\u001b[0m\n\u001b[1;33m    c='apple\\'\u001b[0m\n\u001b[1;37m      ^\u001b[0m\n\u001b[1;31mSyntaxError\u001b[0m\u001b[1;31m:\u001b[0m unterminated string literal (detected at line 2)\n"
     ]
    }
   ],
   "source": [
    "#this does not work, as \\ is a special symbol\n",
    "c='apple\\'\n",
    "print(c)"
   ]
  },
  {
   "cell_type": "code",
   "execution_count": 13,
   "metadata": {},
   "outputs": [
    {
     "name": "stdout",
     "output_type": "stream",
     "text": [
      "appple\n",
      " orange\n"
     ]
    }
   ],
   "source": [
    "#string does not have to be in a single line. use \\n to change line\n",
    "a='appple\\n orange' \n",
    "print(a)"
   ]
  },
  {
   "cell_type": "code",
   "execution_count": 14,
   "metadata": {},
   "outputs": [
    {
     "name": "stdout",
     "output_type": "stream",
     "text": [
      "the length of a is 5\n"
     ]
    }
   ],
   "source": [
    "# use len function to get the length of string\n",
    "a='12345'\n",
    "print('the length of a is',len(a))"
   ]
  },
  {
   "cell_type": "code",
   "execution_count": 15,
   "metadata": {},
   "outputs": [
    {
     "name": "stdout",
     "output_type": "stream",
     "text": [
      "this is a raw \\n string\n"
     ]
    }
   ],
   "source": [
    "#raw string\n",
    "a=r'this is a raw \\n string'\n",
    "print(a)"
   ]
  },
  {
   "cell_type": "code",
   "execution_count": 17,
   "metadata": {},
   "outputs": [
    {
     "name": "stdout",
     "output_type": "stream",
     "text": [
      "Hello,\n",
      "have a great weekend!\n",
      "\n"
     ]
    }
   ],
   "source": [
    "# put a string in triple quotes for multi-lines without using \\n\n",
    "a=\"\"\"Hello,\n",
    "have a great weekend!\n",
    "\"\"\"  #used for writing help documents for functions\n",
    "print(a)"
   ]
  },
  {
   "cell_type": "markdown",
   "metadata": {
    "slideshow": {
     "slide_type": "skip"
    }
   },
   "source": [
    "### format string\n",
    "\n",
    "combine string with variables\n",
    "\n",
    "- start the string by 'f'\n",
    "\n",
    "- directly put the variable in the string using \n",
    "  ```python\n",
    "  {variable_name}\n",
    "  ```\n",
    "  Then python will replace the name by its value in the string.\n",
    "\n"
   ]
  },
  {
   "cell_type": "code",
   "execution_count": 18,
   "metadata": {},
   "outputs": [
    {
     "name": "stdout",
     "output_type": "stream",
     "text": [
      "the number input is 1\n"
     ]
    }
   ],
   "source": [
    "# ask the user input a number and display a message 'the number input is [ ]'\n",
    "inp = input('input a number:')\n",
    "s = f'the number input is {inp}'\n",
    "print(s)"
   ]
  },
  {
   "cell_type": "markdown",
   "metadata": {},
   "source": [
    "\n",
    "###  Excerise:  Caculating the gravity force between two objects\n",
    "\n",
    "\\begin{equation}\n",
    "F = G \\frac{m_1 m_2}{r^2}\n",
    "\\end{equation}\n",
    "\n",
    "$G=6.67\\times 10^{-11} \\frac{N kg^2}{m^2}$"
   ]
  },
  {
   "cell_type": "code",
   "execution_count": 19,
   "metadata": {},
   "outputs": [
    {
     "name": "stdout",
     "output_type": "stream",
     "text": [
      "OUTPUT:The force between 1 and 1 is 6.67e-11 N\n"
     ]
    }
   ],
   "source": [
    "G=6.67e-11 #newton's constant in SI unit\n",
    "n1=input('the name of the first object:')\n",
    "m1=input('the mass of the first object in kg:')\n",
    "n2=input('the name of the second object:')\n",
    "m2=input('the mass of the second object in kg :')\n",
    "r =input('the distance between them in m:')\n",
    "m1=float(m1) # convert to a number\n",
    "m2=float(m2) # convert to a number\n",
    "r =float(r)  # convert to a number\n",
    "f = G * m1 * m2/(r**2)\n",
    "s = f'OUTPUT:The force between {n1} and {n2} is {f} N'\n",
    "print(s)"
   ]
  },
  {
   "cell_type": "markdown",
   "metadata": {
    "cell_style": "split",
    "slideshow": {
     "slide_type": "slide"
    }
   },
   "source": [
    "\n",
    "### Operators on String\n",
    "- String concatenation: \\*, \\+\n",
    "- Checking substring: \n",
    "  ```python \n",
    "  in\n",
    "  ```\n",
    "  returns a bool variable"
   ]
  },
  {
   "cell_type": "code",
   "execution_count": 33,
   "metadata": {
    "cell_style": "split",
    "slideshow": {
     "slide_type": "skip"
    }
   },
   "outputs": [
    {
     "name": "stdout",
     "output_type": "stream",
     "text": [
      "appleorange\n",
      "appleappleappleappleapple\n",
      "True\n",
      "False\n"
     ]
    }
   ],
   "source": [
    "# operators on string\n",
    "a='apple'\n",
    "b='orange'\n",
    "c=a+b\n",
    "# put two strings together \n",
    "print(a+b)\n",
    "# multiple copies of a string\n",
    "c=a*5  \n",
    "print(c)\n"
   ]
  },
  {
   "cell_type": "code",
   "execution_count": 21,
   "metadata": {},
   "outputs": [
    {
     "name": "stdout",
     "output_type": "stream",
     "text": [
      "True\n",
      "False\n"
     ]
    }
   ],
   "source": [
    "# check if a substring appears in the string\n",
    "a = 'orange'\n",
    "print('an' in a) # 'an' is in the string 'orange'\n",
    "print('am' in a) # 'am' is not"
   ]
  },
  {
   "cell_type": "code",
   "execution_count": 1,
   "metadata": {
    "tags": []
   },
   "outputs": [
    {
     "name": "stdout",
     "output_type": "stream",
     "text": [
      "I have a 🐶\n"
     ]
    }
   ],
   "source": [
    "#you can use emoji as a normal character in string\n",
    "print('I have a 🐶')"
   ]
  },
  {
   "cell_type": "code",
   "execution_count": 16,
   "metadata": {
    "tags": []
   },
   "outputs": [
    {
     "name": "stdout",
     "output_type": "stream",
     "text": [
      "🌴🌴🌴🌴🌴🌴🌴🌴🌴🌴\n",
      "🌴🌴🌴🌴🌴🌴🌴🌴🌴🌴\n",
      "🌴🌴🌴🌴🌴🌴🌴🌴🌴🌴\n",
      "🌴🌴🌴🌴🌴🌴🌴🌴🌴🌴\n",
      "🌴🐉🌴🌴🌴🌴🌴🌴🌴🌴\n",
      "🌴🌴🌴🌴🌴🌴🌴🌴🌴🌴\n",
      "🌴🌴🌴🌴🌴🌴🌴🌴🌴🌴\n",
      "🌴🌴🌴🌴🌴🌴🌴🌴🌴🌴\n",
      "🌴🌴🌴🌴🌴🌴🌴🌴🌴🌴\n",
      "\n"
     ]
    }
   ],
   "source": [
    "#guess what the string should appear as\n",
    "forest = ('🌴'*10+'\\n')*4\n",
    "pokemon=forest+'🌴'*1+'🐉'+'🌴'*8 + '\\n' +forest\n",
    "print(pokemon)\n"
   ]
  },
  {
   "cell_type": "code",
   "execution_count": null,
   "metadata": {},
   "outputs": [],
   "source": [
    "dog = pokemon.replace('🐉','🐶')\n",
    "print(dog)"
   ]
  },
  {
   "cell_type": "markdown",
   "metadata": {
    "cell_style": "split",
    "slideshow": {
     "slide_type": "slide"
    }
   },
   "source": [
    "### String attributes\n",
    "\n",
    "string has many attributes, which can be accessed using variable_name.\n",
    "\n",
    "#### useful string methods \n",
    "- a.find()  _returns the index of a substring_\n",
    "- a.replace() _replaces a substring with a new one_\n",
    "- a.count() _counts the number of substring that appears_"
   ]
  },
  {
   "cell_type": "code",
   "execution_count": 7,
   "metadata": {
    "cell_style": "split",
    "slideshow": {
     "slide_type": "skip"
    }
   },
   "outputs": [
    {
     "name": "stdout",
     "output_type": "stream",
     "text": [
      "2\n",
      "abCdefg\n",
      "3\n"
     ]
    }
   ],
   "source": [
    "a='abcdefg'\n",
    "print(a.find('cde')) #c is the third character, the index of which is 2\n",
    "print(a.replace('c','C')) #replace a substring with a new substring\n",
    "a='aaaccd' \n",
    "print(a.count('a')) # counts the number of substrings in a string"
   ]
  },
  {
   "cell_type": "markdown",
   "metadata": {
    "cell_style": "split",
    "slideshow": {
     "slide_type": "slide"
    }
   },
   "source": [
    "\n",
    "### string index & slicing\n",
    "- single character: s[indx]\n",
    "\n",
    "- substring \n",
    "  ```python\n",
    "  s[start:end:step]\n",
    "  ```\n",
    "  \n",
    "  `start`: starting index for the substring\n",
    "\n",
    "  `end`: end index for the substring __+1__\n",
    "\n",
    "  `step`: can be positive or negative\n",
    "- negative index means length + negative index\n",
    "\n",
    "- can be confusing at first; try and error."
   ]
  },
  {
   "cell_type": "code",
   "execution_count": 24,
   "metadata": {
    "cell_style": "split",
    "slideshow": {
     "slide_type": "skip"
    }
   },
   "outputs": [
    {
     "name": "stdout",
     "output_type": "stream",
     "text": [
      "B\n"
     ]
    }
   ],
   "source": [
    "s='ABCDEF' #the length of the string is 10\n",
    "print(s[1]) # single number to access a single character;\n",
    "#the index starts at 0"
   ]
  },
  {
   "cell_type": "code",
   "execution_count": 27,
   "metadata": {
    "cell_style": "center",
    "slideshow": {
     "slide_type": "skip"
    },
    "tags": []
   },
   "outputs": [
    {
     "name": "stdout",
     "output_type": "stream",
     "text": [
      "1234\n",
      "13\n"
     ]
    }
   ],
   "source": [
    "# access a substring\n",
    "# two colons;three numbers\n",
    "s='0123456789'\n",
    "print(s[1:5:1]) #index from 1 to 4 (not 5) with step 1\n",
    "print(s[1:5:2]) #every other number from index 1 to 4\n"
   ]
  },
  {
   "cell_type": "markdown",
   "metadata": {},
   "source": [
    "#### Exercise:\n",
    "Extract year, month and day from the user's input `mm/dd/yyyy`.\n",
    " "
   ]
  },
  {
   "cell_type": "markdown",
   "metadata": {},
   "source": [
    "#### Simplified Notation\n",
    "- you can omit index (start or end) if it is the beginning or the end of the string\n",
    "- you can omit step if it is 1"
   ]
  },
  {
   "cell_type": "code",
   "execution_count": null,
   "metadata": {},
   "outputs": [],
   "source": [
    "print(s[1:5]) #if the step is one, the last column and number can be omitted\n",
    "print(s[:5]) #if starting from the beginning, the first number can be omitted\n",
    "print(s[1:]) #if going all the way to end, the second number can be omitted\n",
    "\n",
    "\n",
    "# step can be -negative\n",
    "print(s[5:0:-1]) #index frm 5 to 1(!), not 0\n",
    "print(s[5::-1]) #index from 5 to 0; the second number is omitted\n",
    "print(s[::-1]) #the whole string to reverse order\n",
    "\n",
    "# negative index should be interpreted as length + negative index\n",
    "# useful if we do not know the length\n",
    "print(s[10-5:10:1]) #last 5 characters; most formal method\n",
    "print(s[-5:]) #the length '10' is omitted because -5 is a negative index\n",
    "# the end index is omitted because it goes only the way to the end\n",
    "# the step is omitted because the step is 1.\n"
   ]
  },
  {
   "cell_type": "markdown",
   "metadata": {
    "cell_style": "center",
    "slideshow": {
     "slide_type": "slide"
    }
   },
   "source": [
    "#### Fun Exercise: Pokemon String\n",
    "Put a emoji in the middle of grass at a given location.\n",
    "\n",
    "To type emojis, you can use the keyboard shortcut Windows key + . (period) on windows or Control + Command + Space on mac."
   ]
  },
  {
   "cell_type": "code",
   "execution_count": 29,
   "metadata": {},
   "outputs": [],
   "source": [
    "grass_len=10;nx = 5;ny = 5 # the code should work for any values"
   ]
  },
  {
   "cell_type": "code",
   "execution_count": 30,
   "metadata": {},
   "outputs": [
    {
     "name": "stdout",
     "output_type": "stream",
     "text": [
      "🍀🍀🍀🍀🍀🍀🍀🍀🍀🍀\n",
      "🍀🍀🍀🍀🍀🍀🍀🍀🍀🍀\n",
      "🍀🍀🍀🍀🍀🍀🍀🍀🍀🍀\n",
      "🍀🍀🍀🍀🍀🍀🍀🍀🍀🍀\n",
      "🍀🍀🍀🍀🐶🍀🍀🍀🍀🍀\n",
      "🍀🍀🍀🍀🍀🍀🍀🍀🍀🍀\n",
      "🍀🍀🍀🍀🍀🍀🍀🍀🍀🍀\n",
      "🍀🍀🍀🍀🍀🍀🍀🍀🍀🍀\n",
      "🍀🍀🍀🍀🍀🍀🍀🍀🍀🍀\n",
      "🍀🍀🍀🍀🍀🍀🍀🍀🍀🍀\n",
      "\n"
     ]
    }
   ],
   "source": [
    "grass_line = '🍀'*grass_len + '\\n' ##a line of grass\n",
    "pokemon_line = '🍀'*(nx-1) + '🐶' + '🍀'*(grass_len-nx)+'\\n' ## a line of grass with the pokemon in it\n",
    "pokemon = grass_line*(ny-1) + pokemon_line + grass_line*(grass_len-ny)  ## put everything together\n",
    "print(pokemon)"
   ]
  },
  {
   "cell_type": "markdown",
   "metadata": {},
   "source": [
    "Now try run the cell multiple times to see what happens."
   ]
  },
  {
   "cell_type": "code",
   "execution_count": 32,
   "metadata": {},
   "outputs": [
    {
     "name": "stdout",
     "output_type": "stream",
     "text": [
      "🍀🍀🍀🍀🍀🍀🍀🍀🍀🍀\n",
      "🍀🍀🍀🍀🍀🍀🍀🍀🍀🍀\n",
      "🍀🍀🍀🍀🍀🍀🍀🍀🍀🍀\n",
      "🍀🍀🍀🍀🍀🍀🍀🍀🍀🍀\n",
      "🍀🍀🍀🍀🍀🍀🐶🍀🍀🍀\n",
      "🍀🍀🍀🍀🍀🍀🍀🍀🍀🍀\n",
      "🍀🍀🍀🍀🍀🍀🍀🍀🍀🍀\n",
      "🍀🍀🍀🍀🍀🍀🍀🍀🍀🍀\n",
      "🍀🍀🍀🍀🍀🍀🍀🍀🍀🍀\n",
      "🍀🍀🍀🍀🍀🍀🍀🍀🍀🍀\n",
      "\n"
     ]
    }
   ],
   "source": [
    "nx = nx + 1\n",
    "grass_line = '🍀'*grass_len + '\\n' ##a line of grass\n",
    "pokemon_line = '🍀'*(nx-1) + '🐶' + '🍀'*(grass_len-nx)+'\\n' ## a line of grass with the pokemon in it\n",
    "pokemon = grass_line*(ny-1) + pokemon_line + grass_line*(grass_len-ny)  ## put everything together\n",
    "print(pokemon)"
   ]
  },
  {
   "cell_type": "markdown",
   "metadata": {},
   "source": [
    "Question:\n",
    "\n",
    "1. What to do when the pokemon hits the boundary?\n",
    "2. How to change direction based on user's input.\n",
    "3. How to avoid running the cell repeatedly?\n",
    "4. how to implement the 'a wild pokemon appears' feature?\n",
    "    When the player reach certain position, a new emoji appears.\n"
   ]
  }
 ],
 "metadata": {
  "celltoolbar": "Slideshow",
  "kernelspec": {
   "display_name": "base",
   "language": "python",
   "name": "python3"
  },
  "language_info": {
   "codemirror_mode": {
    "name": "ipython",
    "version": 3
   },
   "file_extension": ".py",
   "mimetype": "text/x-python",
   "name": "python",
   "nbconvert_exporter": "python",
   "pygments_lexer": "ipython3",
   "version": "3.12.7"
  },
  "latex_envs": {
   "LaTeX_envs_menu_present": true,
   "autoclose": false,
   "autocomplete": true,
   "bibliofile": "biblio.bib",
   "cite_by": "apalike",
   "current_citInitial": 1,
   "eqLabelWithNumbers": true,
   "eqNumInitial": 1,
   "hotkeys": {
    "equation": "Ctrl-E",
    "itemize": "Ctrl-I"
   },
   "labels_anchors": false,
   "latex_user_defs": false,
   "report_style_numbering": false,
   "user_envs_cfg": false
  },
  "rise": {
   "scroll": true,
   "theme": "moon"
  },
  "toc": {
   "base_numbering": 1,
   "nav_menu": {},
   "number_sections": true,
   "sideBar": true,
   "skip_h1_title": false,
   "title_cell": "Table of Contents",
   "title_sidebar": "Contents",
   "toc_cell": false,
   "toc_position": {},
   "toc_section_display": true,
   "toc_window_display": false
  },
  "toc-autonumbering": true,
  "toc-showcode": false,
  "toc-showmarkdowntxt": false,
  "toc-showtags": false,
  "varInspector": {
   "cols": {
    "lenName": 16,
    "lenType": 16,
    "lenVar": 40
   },
   "kernels_config": {
    "python": {
     "delete_cmd_postfix": "",
     "delete_cmd_prefix": "del ",
     "library": "var_list.py",
     "varRefreshCmd": "print(var_dic_list())"
    },
    "r": {
     "delete_cmd_postfix": ") ",
     "delete_cmd_prefix": "rm(",
     "library": "var_list.r",
     "varRefreshCmd": "cat(var_dic_list()) "
    }
   },
   "types_to_exclude": [
    "module",
    "function",
    "builtin_function_or_method",
    "instance",
    "_Feature"
   ],
   "window_display": false
  }
 },
 "nbformat": 4,
 "nbformat_minor": 4
}
