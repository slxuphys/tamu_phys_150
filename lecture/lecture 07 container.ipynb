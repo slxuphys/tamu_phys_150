{
 "cells": [
  {
   "cell_type": "markdown",
   "metadata": {
    "slideshow": {
     "slide_type": "slide"
    }
   },
   "source": [
    "<h1> Programming for Physics <br> Lecture 7: Container </h1>\n",
    "<a target=\"_blank\" href=\"https://colab.research.google.com/github/slxuphys/tamu_phys_150/blob/master/lecture/lecture%2007%20container.ipynb\">\n",
    "  <img src=\"https://colab.research.google.com/assets/colab-badge.svg\" alt=\"Open In Colab\"/>\n",
    "</a>\n"
   ]
  },
  {
   "cell_type": "markdown",
   "metadata": {
    "slideshow": {
     "slide_type": "slide"
    },
    "tags": []
   },
   "source": [
    "## Types of variables\n",
    "Variables have types.\n",
    "<details>\n",
    "<summary><b>scaler types</b> (before) </summary>\n",
    "<p>\n",
    "\n",
    "- Numerical types\n",
    "    - integer\n",
    "    - float\n",
    "    - complex\n",
    "- Boolean (True or False)\n",
    "- String\n",
    "- None (no value)\n",
    "\n",
    "</p>\n",
    "</details>  \n",
    "\n",
    "<details>\n",
    "<summary><b>container types </b>  </summary>\n",
    "<p>\n",
    "    \n",
    "- list\n",
    "- tuple\n",
    "- array (numpy)\n",
    "- set\n",
    "- dictionary\n",
    "\n",
    "</p>\n",
    "</details> \n",
    "\n"
   ]
  },
  {
   "cell_type": "markdown",
   "metadata": {
    "cell_style": "split",
    "slideshow": {
     "slide_type": "slide"
    }
   },
   "source": [
    "__Example from last lecture__\n",
    "\n",
    "Calculating the gravity force between Earth and Sun\n",
    "\n",
    "\\begin{equation}\n",
    "F = G \\frac{m_1 m_2}{r^2}\n",
    "\\end{equation}\n"
   ]
  },
  {
   "cell_type": "code",
   "execution_count": 2,
   "metadata": {
    "cell_style": "center",
    "scrolled": true,
    "slideshow": {
     "slide_type": "fragment"
    }
   },
   "outputs": [
    {
     "name": "stdout",
     "output_type": "stream",
     "text": [
      "OUTPUT:The force between Earth and Sun is 3.568682237737039e+22 N\n"
     ]
    }
   ],
   "source": [
    "G=6.67e-11 #newton's constant in SI unit\n",
    "n1=input('the name of the first object:')\n",
    "m1=input('the mass of the first object in kg:')\n",
    "n2=input('the name of the second object:')\n",
    "m2=input('the mass of the second object in kg :')\n",
    "r =input('the distance between them in m:')\n",
    "m1=float(m1) # convert to a number\n",
    "m2=float(m2) # convert to a number\n",
    "r =float(r)  # convert to a number\n",
    "f = G * m1 * m2/(r**2)\n",
    "s = f'OUTPUT:The force between {n1} and {n2} is {f} N';\n",
    "print(s)"
   ]
  },
  {
   "cell_type": "markdown",
   "metadata": {},
   "source": [
    "This boring universe only has one star and one planet and they also do not move.\n",
    "\n",
    "<img src='https://github.com/slxuphys/tamu_phys_150/blob/master/gallery/solar1.png?raw=true' height=200 style='height:200px'>"
   ]
  },
  {
   "cell_type": "markdown",
   "metadata": {
    "cell_style": "center",
    "slideshow": {
     "slide_type": "slide"
    }
   },
   "source": [
    "<div style='display:flex;align-items:center'>\n",
    "\n",
    "\n",
    "\n",
    "<img src='https://github.com/slxuphys/tamu_phys_150/blob/master/gallery/solar2.png?raw=true' height=300 style='height:300px'>\n",
    "\n",
    "<div style='margin-left:20px'>\n",
    "\n",
    "<p>a slightly more interesting universe</p>\n",
    "\n",
    "How to describe this universe? \n",
    "\n",
    "What variables do we need?\n",
    "\n",
    "How to describe the motion of each planet?\n",
    "</div>\n",
    "</div>"
   ]
  },
  {
   "cell_type": "markdown",
   "metadata": {},
   "source": [
    "---"
   ]
  },
  {
   "cell_type": "markdown",
   "metadata": {
    "cell_style": "split",
    "slideshow": {
     "slide_type": "slide"
    }
   },
   "source": [
    "## container types \n",
    "built-in containers:\n",
    "\n",
    "- list\n",
    "- tuple\n",
    "- set\n",
    "- dictionary\n",
    "\n",
    "container types from packages:\n",
    "\n",
    "- array (from NumPy) like a vector\n",
    "- dataframe (from Pandas)  like a spreadsheet\n",
    "\n",
    "    ...\n",
    "\n",
    "\n"
   ]
  },
  {
   "cell_type": "code",
   "execution_count": 31,
   "metadata": {
    "cell_style": "split",
    "slideshow": {
     "slide_type": "skip"
    }
   },
   "outputs": [
    {
     "name": "stdout",
     "output_type": "stream",
     "text": [
      "a: [1, 2, 3, 4, 5, 'Hello', True, False, [1, 2]] <class 'list'>\n",
      "b: (1, 2, 3, 4, 5) <class 'tuple'>\n",
      "c: {1, 2, 3, 4, 5} <class 'set'>\n",
      "d: {'fruit1': 'apple', 'fruit2': 'orange'} <class 'dict'>\n"
     ]
    }
   ],
   "source": [
    "# a list\n",
    "a= [1,2,3,4,5,'Hello',True, False,[1,2]]\n",
    "print('a:',a, type(a))\n",
    "# a tuple\n",
    "b=(1,2,3,4,5)\n",
    "print('b:',b, type(b))\n",
    "# a set\n",
    "c={1,2,3,4,5}\n",
    "print('c:',c, type(c))\n",
    "# a dictionary pairs of key and value\n",
    "d={'fruit1':'apple','fruit2':'orange'}\n",
    "print('d:',d,type(d))"
   ]
  },
  {
   "cell_type": "code",
   "execution_count": 2,
   "metadata": {
    "slideshow": {
     "slide_type": "skip"
    }
   },
   "outputs": [
    {
     "name": "stdout",
     "output_type": "stream",
     "text": [
      "[1 2] <class 'numpy.ndarray'>\n"
     ]
    }
   ],
   "source": [
    "import numpy as np\n",
    "a = np.array([1,2])\n",
    "print(a,type(a))"
   ]
  },
  {
   "cell_type": "code",
   "execution_count": 2,
   "metadata": {},
   "outputs": [
    {
     "data": {
      "text/html": [
       "<div>\n",
       "<style scoped>\n",
       "    .dataframe tbody tr th:only-of-type {\n",
       "        vertical-align: middle;\n",
       "    }\n",
       "\n",
       "    .dataframe tbody tr th {\n",
       "        vertical-align: top;\n",
       "    }\n",
       "\n",
       "    .dataframe thead th {\n",
       "        text-align: right;\n",
       "    }\n",
       "</style>\n",
       "<table border=\"1\" class=\"dataframe\">\n",
       "  <thead>\n",
       "    <tr style=\"text-align: right;\">\n",
       "      <th></th>\n",
       "      <th>name</th>\n",
       "      <th>score</th>\n",
       "    </tr>\n",
       "  </thead>\n",
       "  <tbody>\n",
       "    <tr>\n",
       "      <th>0</th>\n",
       "      <td>A</td>\n",
       "      <td>94</td>\n",
       "    </tr>\n",
       "    <tr>\n",
       "      <th>1</th>\n",
       "      <td>B</td>\n",
       "      <td>84</td>\n",
       "    </tr>\n",
       "    <tr>\n",
       "      <th>2</th>\n",
       "      <td>C</td>\n",
       "      <td>88</td>\n",
       "    </tr>\n",
       "  </tbody>\n",
       "</table>\n",
       "</div>"
      ],
      "text/plain": [
       "  name  score\n",
       "0    A     94\n",
       "1    B     84\n",
       "2    C     88"
      ]
     },
     "execution_count": 2,
     "metadata": {},
     "output_type": "execute_result"
    }
   ],
   "source": [
    "import pandas as pd\n",
    "a = pd.DataFrame({'name':('A','B','C'), 'score':(94,84,88)})\n",
    "a"
   ]
  },
  {
   "cell_type": "markdown",
   "metadata": {},
   "source": [
    "---"
   ]
  },
  {
   "cell_type": "markdown",
   "metadata": {
    "slideshow": {
     "slide_type": "slide"
    }
   },
   "source": [
    "## Immutability vs Mutability\n",
    "\n",
    "Let's first compare string and list\n",
    "\n",
    "```python\n",
    "a = 'apple'\n",
    "a[0] = 'A'  # this will give error  \n",
    "```\n",
    "\n",
    "```python\n",
    "b = ['a', 'p', 'p', 'l', 'e']\n",
    "b[0] = 'A'  # this will work\n",
    "print(b)  # ['A', 'p', 'p', 'l', 'e']\n",
    "```\n"
   ]
  },
  {
   "cell_type": "code",
   "execution_count": 44,
   "metadata": {
    "cell_style": "split",
    "slideshow": {
     "slide_type": "skip"
    }
   },
   "outputs": [
    {
     "ename": "TypeError",
     "evalue": "'str' object does not support item assignment",
     "output_type": "error",
     "traceback": [
      "\u001b[1;31m---------------------------------------------------------------------------\u001b[0m",
      "\u001b[1;31mTypeError\u001b[0m                                 Traceback (most recent call last)",
      "Cell \u001b[1;32mIn[44], line 3\u001b[0m\n\u001b[0;32m      1\u001b[0m \u001b[38;5;66;03m# a string cannot be changed in place\u001b[39;00m\n\u001b[0;32m      2\u001b[0m a\u001b[38;5;241m=\u001b[39m\u001b[38;5;124m'\u001b[39m\u001b[38;5;124mapple\u001b[39m\u001b[38;5;124m'\u001b[39m\n\u001b[1;32m----> 3\u001b[0m a[\u001b[38;5;241m0\u001b[39m]\u001b[38;5;241m=\u001b[39m\u001b[38;5;124m'\u001b[39m\u001b[38;5;124mA\u001b[39m\u001b[38;5;124m'\u001b[39m\n",
      "\u001b[1;31mTypeError\u001b[0m: 'str' object does not support item assignment"
     ]
    }
   ],
   "source": [
    "# a string cannot be changed in place\n",
    "a='apple'\n",
    "a[0]='A' # will produce an error, not allowed\n",
    "# a list can be changed in place\n"
   ]
  },
  {
   "cell_type": "code",
   "execution_count": null,
   "metadata": {
    "cell_style": "split",
    "slideshow": {
     "slide_type": "skip"
    }
   },
   "outputs": [
    {
     "name": "stdout",
     "output_type": "stream",
     "text": [
      "['A', 'p', 'p', 'l', 'e']\n"
     ]
    }
   ],
   "source": [
    "a=['a','p','p','l','e']\n",
    "a[0]='A' # allowed\n",
    "print(a)"
   ]
  },
  {
   "cell_type": "markdown",
   "metadata": {},
   "source": [
    "### Scalar variable is immutable \n",
    "\n",
    "Every variable in Python is assigned an id number, which tells where the value of variable is stored in memory and can be checked by the built-in function `id()`. \n",
    "\n",
    "For scaler types the value associated to an id cannot be changed.\n",
    "\n",
    "Each unique value has a unique id and is stored in memory only once. \n",
    "    \n",
    "Immutability!\n",
    "\n",
    "```python\n",
    "a='hello'\n",
    "b=a\n",
    "print('id a',id(a),'id b',id(b))\n",
    "```\n",
    "\n",
    "<img src='https://github.com/slxuphys/tamu_phys_150/blob/master/gallery/immutable1.png?raw=true' height=150 style='height:150px'>\n",
    "\n",
    "In this case, `a` and `b` both refer to the same spot in memory. Since they share that memory location, they also hold the same value, and this value is linked to the same unique ID number.\n"
   ]
  },
  {
   "cell_type": "code",
   "execution_count": 36,
   "metadata": {
    "cell_style": "center",
    "slideshow": {
     "slide_type": "fragment"
    }
   },
   "outputs": [
    {
     "name": "stdout",
     "output_type": "stream",
     "text": [
      "id a 2638217171440 id b 2638217171440\n"
     ]
    }
   ],
   "source": [
    "a='hello'\n",
    "b=a\n",
    "print('id a',id(a),'id b',id(b))\n",
    "# a and b have the same id\n",
    "#two different names of the same object"
   ]
  },
  {
   "cell_type": "markdown",
   "metadata": {},
   "source": [
    "When we assign a new value to `a`, Python creates a new string object 'physics' in memory and makes `a` point to this new object. The variable `b` still points to the original string 'hello'. Therefore, `a` and `b` now have different values and different ID numbers.\n",
    "\n",
    "\n",
    "```python\n",
    "a='physics'# a is no long pointed to 'hello' but is assigned a new value\n",
    "print('a:',a,id(a))\n",
    "print('b:',b,id(b))\n",
    "```\n",
    "\n",
    "\n",
    "<img src='https://github.com/slxuphys/tamu_phys_150/blob/master/gallery/immutable2.png?raw=true' height=150 style='height:150px'>\n"
   ]
  },
  {
   "cell_type": "code",
   "execution_count": 37,
   "metadata": {
    "cell_style": "split",
    "slideshow": {
     "slide_type": "fragment"
    }
   },
   "outputs": [
    {
     "name": "stdout",
     "output_type": "stream",
     "text": [
      "a: physics 2638293187440\n",
      "b: hello 2638217171440\n"
     ]
    }
   ],
   "source": [
    "a='physics'# a is no long pointed to 'hello' but is assigned a new value\n",
    "print('a:',a,id(a))\n",
    "print('b:',b,id(b))"
   ]
  },
  {
   "cell_type": "markdown",
   "metadata": {
    "slideshow": {
     "slide_type": "fragment"
    }
   },
   "source": [
    "It is impossible to change a scalar variable's value without changing its id. This is call __immutability__. \n",
    "\n",
    "---"
   ]
  },
  {
   "cell_type": "markdown",
   "metadata": {
    "slideshow": {
     "slide_type": "slide"
    },
    "tags": []
   },
   "source": [
    "### List is mutable \n",
    "List can be updated __in place__.\n",
    "\n",
    "List is similar to a folder, and its elements are similar to files. One can modify the files without creating an entirely new folder.\n",
    "\n",
    "```python\n",
    "a=[1,'323',True] #a list\n",
    "print('a',a,id(a))\n",
    "b=a #a, b point to the same object and have same id\n",
    "c=[1,'323',True]\n",
    "#c has the same elements, but is a different list\n",
    "print('b',b,id(b))\n",
    "print('c', c, id(c))\n",
    "```\n",
    "\n",
    "\n",
    "<img src='https://github.com/slxuphys/tamu_phys_150/blob/master/gallery/mutable1.png?raw=true' height=150 style='height:150px'>\n",
    "\n",
    "Here `a` and `b` point to the same list object in memory, so they share the same ID number. The variable `c`, although it contains the same elements as `a` and `b`, is a separate list object in memory, resulting in a different ID number.\n",
    "\n"
   ]
  },
  {
   "cell_type": "code",
   "execution_count": 113,
   "metadata": {
    "cell_style": "split",
    "slideshow": {
     "slide_type": "fragment"
    }
   },
   "outputs": [
    {
     "name": "stdout",
     "output_type": "stream",
     "text": [
      "a [1, '323', True] 2638293438720\n",
      "b [1, '323', True] 2638293438720\n",
      "c [1, '323', True] 2638294142080\n"
     ]
    }
   ],
   "source": [
    "a=[1,'323',True] #a list\n",
    "print('a',a,id(a))\n",
    "b=a #a, b point to the same object and have same id\n",
    "c=[1,'323',True]\n",
    "#c has the same elements, but is a different list\n",
    "print('b',b,id(b))\n",
    "print('c', c, id(c))\n"
   ]
  },
  {
   "cell_type": "markdown",
   "metadata": {},
   "source": [
    "List can be updated in place. \n",
    "\n",
    "```python\n",
    "a[0]=3 #update the first element of a\n",
    "```\n",
    "After we update the first element of `a`, what happens to `b` and `c`? This question is the key to understand mutability."
   ]
  },
  {
   "cell_type": "code",
   "execution_count": 114,
   "metadata": {
    "slideshow": {
     "slide_type": "skip"
    }
   },
   "outputs": [
    {
     "name": "stdout",
     "output_type": "stream",
     "text": [
      "a: [3, '323', True]\n",
      "b: [3, '323', True]\n",
      "c: [1, '323', True]\n"
     ]
    }
   ],
   "source": [
    "a[0]=3 #This updates a INPLACE\n",
    "print('a:',a)\n",
    "print('b:',b) #it also updates b, because a and b point to the SAME object\n",
    "print('c:',c) #c remains unchanged because it points to a different object"
   ]
  },
  {
   "cell_type": "markdown",
   "metadata": {},
   "source": [
    "When we change the first element of `a`, we are modifying the contents of the list object that both `a` and `b` reference. Therefore, `b` will also reflect this change because it points to the same list object. However, `c` remains unchanged because it is a separate list object in memory.\n",
    "\n",
    "From \n",
    "\n",
    "<img src='https://github.com/slxuphys/tamu_phys_150/blob/master/gallery/mutable1.png?raw=true' height=150 style='height:150px'>\n",
    "\n",
    "to\n",
    "\n",
    "<img src='https://github.com/slxuphys/tamu_phys_150/blob/master/gallery/mutable2.png?raw=true' height=150 style='height:150px'>\n"
   ]
  },
  {
   "cell_type": "markdown",
   "metadata": {},
   "source": [
    "What happens if we assign a new list to `a`?\n",
    "\n",
    "```python\n",
    "a = ['apple','pear']\n",
    "```"
   ]
  },
  {
   "cell_type": "code",
   "execution_count": null,
   "metadata": {},
   "outputs": [
    {
     "name": "stdout",
     "output_type": "stream",
     "text": [
      "a: ['apple', 'pear']\n",
      "b: [3, '323', True]\n",
      "c: [1, '323', True]\n"
     ]
    }
   ],
   "source": [
    "a = ['apple','pear'] # a is assigned a new list\n",
    "print('a:',a) # a now points to a new object\n",
    "print('b:',b) # b still points to the old object\n",
    "print('c:',c) "
   ]
  },
  {
   "cell_type": "markdown",
   "metadata": {},
   "source": [
    "When we assign a new list to `a`, Python creates a new list object in memory and makes `a` point to this new object. The variable `b` still points to the original list, which has been modified earlier, and `c` continues to point to its own separate list. As a result, `a`, `b`, and `c` now reference three different list objects in memory.         \n",
    "\n",
    "<img src='https://github.com/slxuphys/tamu_phys_150/blob/master/gallery/mutable3.png?raw=true' height=150 style='height:150px'>\n"
   ]
  },
  {
   "cell_type": "markdown",
   "metadata": {},
   "source": [
    "---"
   ]
  },
  {
   "cell_type": "markdown",
   "metadata": {
    "cell_style": "split",
    "slideshow": {
     "slide_type": "slide"
    }
   },
   "source": [
    "## List\n",
    "\n",
    "https://www.w3schools.com/python/python_lists.asp\n",
    "\n",
    "\n",
    "\n",
    "- Grouping multiple variables together using brackets [ ]."
   ]
  },
  {
   "cell_type": "code",
   "execution_count": 75,
   "metadata": {},
   "outputs": [
    {
     "name": "stdout",
     "output_type": "stream",
     "text": [
      "['apple', 'orange', 'strawberry'] <class 'list'>\n"
     ]
    }
   ],
   "source": [
    "a=['apple','orange','strawberry']\n",
    "print(a, type(a))"
   ]
  },
  {
   "cell_type": "markdown",
   "metadata": {},
   "source": [
    "- Operator on list is similar to strings\n",
    "\n",
    "     `*` replication, `+` concatenation"
   ]
  },
  {
   "cell_type": "code",
   "execution_count": 76,
   "metadata": {},
   "outputs": [
    {
     "name": "stdout",
     "output_type": "stream",
     "text": [
      "['apple', 'orange', 'strawberry', 'apple', 'orange', 'strawberry']\n"
     ]
    }
   ],
   "source": [
    "b=a*2\n",
    "print(b)"
   ]
  },
  {
   "cell_type": "code",
   "execution_count": 77,
   "metadata": {},
   "outputs": [
    {
     "name": "stdout",
     "output_type": "stream",
     "text": [
      "['apple', 'orange', 'strawberry', 'pear', 'banana']\n"
     ]
    }
   ],
   "source": [
    "b = a + ['pear', 'banana']\n",
    "print(b)"
   ]
  },
  {
   "cell_type": "markdown",
   "metadata": {},
   "source": [
    "- Indexing of list is the same as that of strings\n",
    "- Using len() to check the length\n",
    "- slicing returns a new list\n",
    "\n"
   ]
  },
  {
   "cell_type": "code",
   "execution_count": 78,
   "metadata": {
    "cell_style": "split",
    "slideshow": {
     "slide_type": "skip"
    }
   },
   "outputs": [
    {
     "name": "stdout",
     "output_type": "stream",
     "text": [
      "['apple', 'orange', 'strawberry', 'pear', 'banana'] <class 'list'>\n",
      "length: 5\n"
     ]
    }
   ],
   "source": [
    "print(b, type(b))\n",
    "print('length:', len(b))"
   ]
  },
  {
   "cell_type": "code",
   "execution_count": 79,
   "metadata": {},
   "outputs": [
    {
     "name": "stdout",
     "output_type": "stream",
     "text": [
      "strawberry\n"
     ]
    }
   ],
   "source": [
    "print(b[2])"
   ]
  },
  {
   "cell_type": "code",
   "execution_count": 80,
   "metadata": {},
   "outputs": [
    {
     "name": "stdout",
     "output_type": "stream",
     "text": [
      "['banana', 'pear', 'strawberry', 'orange', 'apple'] <class 'list'>\n"
     ]
    }
   ],
   "source": [
    "c = b[::-1]\n",
    "print(c, type(c))"
   ]
  },
  {
   "cell_type": "code",
   "execution_count": 81,
   "metadata": {},
   "outputs": [
    {
     "name": "stdout",
     "output_type": "stream",
     "text": [
      "b: ['apple', 'orange', 'strawberry', 'pear', 'banana']\n",
      "d: ['apple', 'strawberry', 'banana']\n"
     ]
    }
   ],
   "source": [
    "d = b[::2] #skip every other element\n",
    "print('b:',b)\n",
    "print('d:',d)"
   ]
  },
  {
   "cell_type": "markdown",
   "metadata": {},
   "source": [
    "- Important! The content of list can be changed in place. List is mutable!"
   ]
  },
  {
   "cell_type": "code",
   "execution_count": 83,
   "metadata": {},
   "outputs": [
    {
     "name": "stdout",
     "output_type": "stream",
     "text": [
      "['kiwi', 'orange', 'strawberry', 'pear', 'banana']\n"
     ]
    }
   ],
   "source": [
    "b[0] = 'kiwi' #id does not change\n",
    "print(b)"
   ]
  },
  {
   "cell_type": "markdown",
   "metadata": {
    "cell_style": "split",
    "slideshow": {
     "slide_type": "slide"
    }
   },
   "source": [
    "### List attributes and methods\n",
    "\n",
    "<table class=\"ws-table-all notranslate\">\n",
    "<tbody><tr>\n",
    "<th>Method</th>\n",
    "<th>Description</th>\n",
    "</tr>\n",
    "<tr><td><a href=\"https://www.w3schools.com/python/ref_list_append.asp\">append()</a></td><td>Adds an element at \n",
    "  the end of the list</td></tr>\n",
    "<tr><td><a href=\"https://www.w3schools.com/python/ref_list_clear.asp\">clear()</a></td><td>Removes all the \n",
    "  elements from the list</td></tr>\n",
    "<tr><td><a href=\"https://www.w3schools.com/python/ref_list_copy.asp\">copy()</a></td><td>Returns a copy of the \n",
    "  list</td></tr>\n",
    "<tr><td><a href=\"https://www.w3schools.com/python/ref_list_count.asp\">count()</a></td><td>Returns the number of \n",
    "  elements with the specified value</td></tr>\n",
    "<tr><td><a href=\"https://www.w3schools.com/python/ref_list_extend.asp\">extend()</a></td><td>Add the elements of a \n",
    "  list (or any iterable), to the end of the current list</td></tr>\n",
    "<tr><td><a href=\"https://www.w3schools.com/python/ref_list_index.asp\">index()</a></td><td>Returns the index of \n",
    "  the first element with the specified value</td></tr>\n",
    "<tr><td><a href=\"https://www.w3schools.com/python/ref_list_insert.asp\">insert()</a></td><td>Adds an element at \n",
    "  the specified position</td></tr>\n",
    "<tr><td><a href=\"https://www.w3schools.com/python/ref_list_pop.asp\">pop()</a></td><td>Removes the element at the \n",
    "  specified position</td></tr>\n",
    "<tr><td><a href=\"https://www.w3schools.com/python/ref_list_remove.asp\">remove()</a></td><td>Removes the first \n",
    "  item with the specified value</td></tr>\n",
    "<tr><td><a href=\"https://www.w3schools.com/python/ref_list_reverse.asp\">reverse()</a></td><td>Reverses the order \n",
    "  of the list</td></tr>\n",
    "<tr><td><a href=\"https://www.w3schools.com/python/ref_list_sort.asp\">sort()</a></td><td>Sorts the list</td></tr>\n",
    "</tbody></table>\n",
    "\n",
    "- __copy__ (makes a same list but different id)"
   ]
  },
  {
   "cell_type": "code",
   "execution_count": 7,
   "metadata": {
    "cell_style": "split",
    "slideshow": {
     "slide_type": "skip"
    }
   },
   "outputs": [
    {
     "name": "stdout",
     "output_type": "stream",
     "text": [
      "[1, 1, 2, 3, 'apple'] 2555670891264\n",
      "[1, 1, 2, 3, 'apple'] 2555670891648\n",
      "[1, 1, 2, 3, 'apple'] 2555670891264\n"
     ]
    }
   ],
   "source": [
    "a=[1,1,2,3,'apple']\n",
    "b1=a.copy()\n",
    "b2=a\n",
    "#b2 is the same object as a, b1 is a different object\n",
    "print(a,id(a))\n",
    "print(b1,id(b1))\n",
    "print(b2,id(b2))"
   ]
  },
  {
   "cell_type": "markdown",
   "metadata": {},
   "source": [
    " - mutable method (update the list in place)\n",
    "    \n",
    "     ```python \n",
    "     append, extend, insert, pop, remove, clear, reverse, sort\n",
    "     ```\n",
    "    \n",
    "    Mutable methods update the list  __in place__, and the id does not change. It is just like adding or removing files in a folder on your computer. Even though the content is changed, the folder is the still the same folder."
   ]
  },
  {
   "cell_type": "code",
   "execution_count": 4,
   "metadata": {
    "cell_style": "split",
    "scrolled": true,
    "slideshow": {
     "slide_type": "skip"
    }
   },
   "outputs": [
    {
     "name": "stdout",
     "output_type": "stream",
     "text": [
      "[True, False, 3, 4] 2627093785600\n",
      "[True, False, 3, 4, 'orange'] 2627093785600\n",
      "[True, False, 3, 4, 'orange', 1, 2] 2627093785600\n"
     ]
    }
   ],
   "source": [
    "a=[True,False,3,4]\n",
    "print(a,id(a))\n",
    "a.append('orange') #add a new element in a\n",
    "print(a,id(a))\n",
    "a.extend([1,2]) #extend a with another list, IN PLACE\n",
    "print(a,id(a))\n"
   ]
  },
  {
   "cell_type": "code",
   "execution_count": 6,
   "metadata": {},
   "outputs": [
    {
     "name": "stdout",
     "output_type": "stream",
     "text": [
      "[2, 4, 3.0, 10]\n"
     ]
    }
   ],
   "source": [
    "list_num=[10,3.0,4,2]\n",
    "list_num.reverse() #reverse order IN PLACE\n",
    "print(list_num)"
   ]
  },
  {
   "cell_type": "code",
   "execution_count": null,
   "metadata": {},
   "outputs": [
    {
     "name": "stdout",
     "output_type": "stream",
     "text": [
      "[2, 4, 3.0, 10]\n",
      "[10, 3.0, 4, 2]\n"
     ]
    }
   ],
   "source": [
    "list_num=[10,3.0,4,2]\n",
    "l1 = list_num[::-1] #create a new list that is the reverse of list_num\n",
    "print(l1)\n",
    "print(list_num)"
   ]
  },
  {
   "cell_type": "code",
   "execution_count": null,
   "metadata": {
    "slideshow": {
     "slide_type": "skip"
    }
   },
   "outputs": [
    {
     "name": "stdout",
     "output_type": "stream",
     "text": [
      "[1.1, 10, 32, 112]\n"
     ]
    }
   ],
   "source": [
    "list_num=[32,112,1.1,10]\n",
    "list_num.sort() #sort IN PLACE\n",
    "print(list_num)"
   ]
  },
  {
   "cell_type": "markdown",
   "metadata": {},
   "source": [
    "---"
   ]
  },
  {
   "cell_type": "markdown",
   "metadata": {},
   "source": [
    "__Exercise__: find all factors of an integer and store them in a list."
   ]
  },
  {
   "cell_type": "code",
   "execution_count": 12,
   "metadata": {},
   "outputs": [
    {
     "name": "stdout",
     "output_type": "stream",
     "text": [
      "[1, 2, 4, 5, 10, 20, 25, 50]\n"
     ]
    }
   ],
   "source": [
    "num = 100\n",
    "factor_list=[]\n",
    "for factor in range(1,num):\n",
    "    if num%factor == 0:\n",
    "        factor_list.append(factor)\n",
    "print(factor_list)"
   ]
  },
  {
   "cell_type": "code",
   "execution_count": 14,
   "metadata": {},
   "outputs": [
    {
     "data": {
      "text/plain": [
       "5"
      ]
     },
     "execution_count": 14,
     "metadata": {},
     "output_type": "execute_result"
    }
   ],
   "source": [
    "factor_list[3]"
   ]
  },
  {
   "cell_type": "markdown",
   "metadata": {
    "slideshow": {
     "slide_type": "slide"
    }
   },
   "source": [
    "### How to convert a string to a list\n",
    "-  ```list(string1)```\n",
    " \n",
    "returns a list containing each characters in the string variable\n"
   ]
  },
  {
   "cell_type": "code",
   "execution_count": 2,
   "metadata": {},
   "outputs": [
    {
     "name": "stdout",
     "output_type": "stream",
     "text": [
      "['a', 'p', 'p', 'l', 'e', ',', 'o', 'r', 'a', 'n', 'g', 'e', ',', 'p', 'e', 'a', 'r'] <class 'list'>\n"
     ]
    }
   ],
   "source": [
    "a = list('apple,orange,pear')\n",
    "print(a, type(a))"
   ]
  },
  {
   "cell_type": "markdown",
   "metadata": {},
   "source": [
    "- split a string based on a delimiter"
   ]
  },
  {
   "cell_type": "code",
   "execution_count": 17,
   "metadata": {},
   "outputs": [
    {
     "name": "stdout",
     "output_type": "stream",
     "text": [
      "['apple', 'orange', 'pear']\n"
     ]
    }
   ],
   "source": [
    "a = 'apple,orange,pear'\n",
    "a_list=a.split(',') #split the string at ',' and make a list of the substrings\n",
    "print(a_list)"
   ]
  },
  {
   "cell_type": "markdown",
   "metadata": {
    "slideshow": {
     "slide_type": "slide"
    }
   },
   "source": [
    "__Exercise__\n",
    "\n",
    "- Input from keyboard the name of each planet in the solar system to a list\n",
    "\n",
    "- Input from keyboard the mass of each planet in the solar system to a list\n",
    "\n",
    "| |Mercury|Venus|Earth|Mars|Jupiter|Saturn|Uranus|Neptune|\n",
    "|-|-|-|-|-|-|-|-|-|\n",
    "|mass (in the unit of earth)| 0.056 | 0.815| 1| 0.107| 318 | 95| 14 |17|"
   ]
  },
  {
   "cell_type": "code",
   "execution_count": null,
   "metadata": {},
   "outputs": [],
   "source": [
    "planet_name=input('input the names separated by ,: ')\n",
    "print(planet_name,type(planet_name))\n",
    "list_name=planet_name.split(',')\n",
    "print(list_name)"
   ]
  },
  {
   "cell_type": "code",
   "execution_count": null,
   "metadata": {
    "slideshow": {
     "slide_type": "fragment"
    }
   },
   "outputs": [],
   "source": [
    "mass=input('mass:') #mass is a string\n",
    "list_mass=mass.split(',')# mass_planet is a list of strings\n",
    "print(list_mass)"
   ]
  },
  {
   "cell_type": "markdown",
   "metadata": {},
   "source": [
    "Now each element in `list_mass` is a string. How to convert them to numbers?"
   ]
  },
  {
   "cell_type": "code",
   "execution_count": null,
   "metadata": {},
   "outputs": [
    {
     "name": "stdout",
     "output_type": "stream",
     "text": [
      "[0.056, 0.815, 1.0]\n"
     ]
    }
   ],
   "source": [
    "list_mass_num = []\n",
    "for x in list_mass: ## here list_mass is used as the sequence in the for loop\n",
    "    list_mass_num.append(float(x))\n",
    "print(list_mass_num)"
   ]
  },
  {
   "cell_type": "markdown",
   "metadata": {},
   "source": [
    "### List Comprehension\n",
    "A Python list comprehension consists of brackets containing the expression, which is executed for each element along with the for loop to iterate over each element in the Python list. \n",
    "\n",
    "A shorthand syntax for a for loop"
   ]
  },
  {
   "cell_type": "code",
   "execution_count": 25,
   "metadata": {},
   "outputs": [
    {
     "name": "stdout",
     "output_type": "stream",
     "text": [
      "[1, 4, 9]\n"
     ]
    }
   ],
   "source": [
    "x_list = [1, 2, 3]\n",
    "y_list = [ i**2 for i in x_list ]\n",
    "print(y_list)"
   ]
  },
  {
   "cell_type": "markdown",
   "metadata": {},
   "source": [
    "How to convert all the element in a list to a number?"
   ]
  },
  {
   "cell_type": "code",
   "execution_count": 26,
   "metadata": {},
   "outputs": [
    {
     "name": "stdout",
     "output_type": "stream",
     "text": [
      "[0.056, 0.815, 1.0]\n"
     ]
    }
   ],
   "source": [
    "list_mass_num = [float(x) for x in list_mass]\n",
    "print(list_mass_num)"
   ]
  },
  {
   "cell_type": "markdown",
   "metadata": {},
   "source": [
    "---"
   ]
  },
  {
   "cell_type": "markdown",
   "metadata": {
    "cell_style": "split",
    "slideshow": {
     "slide_type": "slide"
    }
   },
   "source": [
    "## Tuple (an immutable version of a list)\n",
    "\n",
    "https://www.w3schools.com/python/python_tuples.asp\n",
    "\n",
    "- Group multiple variables together using parenthesis ()\n",
    "- Indexing of tuples is the same to strings.\n",
    "- It is the same to list except the content cannot be changed in place, similar to a readonly folder. Immutable!"
   ]
  },
  {
   "cell_type": "code",
   "execution_count": 27,
   "metadata": {
    "cell_style": "split",
    "slideshow": {
     "slide_type": "skip"
    }
   },
   "outputs": [
    {
     "name": "stdout",
     "output_type": "stream",
     "text": [
      "(1, 2, 3, 'apple') <class 'tuple'>\n",
      "('pear', 'banana') <class 'tuple'>\n"
     ]
    }
   ],
   "source": [
    "a=(1,2,3,'apple')\n",
    "b=('pear','banana')\n",
    "print(a, type(a))\n",
    "print(b, type(b))"
   ]
  },
  {
   "cell_type": "code",
   "execution_count": 89,
   "metadata": {},
   "outputs": [
    {
     "name": "stdout",
     "output_type": "stream",
     "text": [
      "(1, 2, 3, 'apple', 1, 2, 3, 'apple', 1, 2, 3, 'apple')\n",
      "(1, 2, 3, 'apple', 'pear', 'banana')\n"
     ]
    }
   ],
   "source": [
    "print(a*3)\n",
    "print(a+b)"
   ]
  },
  {
   "cell_type": "markdown",
   "metadata": {},
   "source": [
    "- A tuple cannot be updated in place."
   ]
  },
  {
   "cell_type": "code",
   "execution_count": 28,
   "metadata": {},
   "outputs": [
    {
     "ename": "TypeError",
     "evalue": "'tuple' object does not support item assignment",
     "output_type": "error",
     "traceback": [
      "\u001b[1;31m---------------------------------------------------------------------------\u001b[0m",
      "\u001b[1;31mTypeError\u001b[0m                                 Traceback (most recent call last)",
      "Cell \u001b[1;32mIn[28], line 1\u001b[0m\n\u001b[1;32m----> 1\u001b[0m a[\u001b[38;5;241m0\u001b[39m]\u001b[38;5;241m=\u001b[39m\u001b[38;5;241m10\u001b[39m\n",
      "\u001b[1;31mTypeError\u001b[0m: 'tuple' object does not support item assignment"
     ]
    }
   ],
   "source": [
    "a[0]=10"
   ]
  },
  {
   "cell_type": "markdown",
   "metadata": {},
   "source": [
    "-  the tuple type only has two methods\n",
    "\n",
    "https://www.w3schools.com/python/python_tuples_methods.asp\n",
    "\n",
    "<table class=\"ws-table-all notranslate\">\n",
    "<tbody><tr>\n",
    "<th style=\"width:20%\">Method</th>\n",
    "<th>Description</th>\n",
    "</tr>\n",
    "<tr><td><a href=\"https://www.w3schools.com/python/ref_tuple_count.asp\">count()</a></td><td>Returns the number of times a specified value occurs in a tuple</td></tr>\n",
    "<tr><td><a href=\"https://www.w3schools.com/python/ref_tuple_index.asp\">index()</a></td><td>Searches the tuple for a specified value and returns the position of where it was found</td></tr>\n",
    "</tbody></table>"
   ]
  },
  {
   "cell_type": "code",
   "execution_count": 102,
   "metadata": {},
   "outputs": [
    {
     "name": "stdout",
     "output_type": "stream",
     "text": [
      "2\n"
     ]
    }
   ],
   "source": [
    "a = (1,1,'apple','apple',2,'orange',2)\n",
    "print(a.count('apple'))"
   ]
  },
  {
   "cell_type": "code",
   "execution_count": 103,
   "metadata": {},
   "outputs": [
    {
     "name": "stdout",
     "output_type": "stream",
     "text": [
      "4\n"
     ]
    }
   ],
   "source": [
    "print(a.index(2))"
   ]
  },
  {
   "cell_type": "markdown",
   "metadata": {},
   "source": [
    "- a list can be converted to a tuple using the `tuple()` function\n",
    "- a tuple can be converted to a list using the `list()` function"
   ]
  },
  {
   "cell_type": "code",
   "execution_count": 91,
   "metadata": {
    "cell_style": "split",
    "slideshow": {
     "slide_type": "skip"
    }
   },
   "outputs": [
    {
     "name": "stdout",
     "output_type": "stream",
     "text": [
      "(1, 2, 3) <class 'tuple'>\n"
     ]
    }
   ],
   "source": [
    "a = [1,2,3]\n",
    "b = tuple(a)\n",
    "print(b, type(b))"
   ]
  },
  {
   "cell_type": "code",
   "execution_count": 92,
   "metadata": {
    "ExecuteTime": {
     "end_time": "2020-09-11T00:09:10.929069Z",
     "start_time": "2020-09-11T00:09:10.924045Z"
    },
    "slideshow": {
     "slide_type": "skip"
    }
   },
   "outputs": [
    {
     "name": "stdout",
     "output_type": "stream",
     "text": [
      "[1, 2, 3] <class 'tuple'>\n"
     ]
    }
   ],
   "source": [
    "a =(1,2,3)\n",
    "print(list(a),type(a))"
   ]
  },
  {
   "cell_type": "markdown",
   "metadata": {},
   "source": [
    "---"
   ]
  },
  {
   "cell_type": "markdown",
   "metadata": {},
   "source": [
    "## NumPy Array\n",
    "\n",
    "Numpy is a python package that includes types and a lot of functions for manipulating vectors/matrix and vector calculations, e.g. linear algebra. It is one of the most popular python package. \n",
    "It includes a new container type: array. (__different from a list__)\n",
    "\n",
    "To use a package, we need first to install it and import it to the notebook. Because NumPy is very popular, anaconda automatically installs it for you. \n",
    "\n",
    "\n",
    "- Array behaves like a vector. \n",
    "\n",
    "    `*`: element wise multiplication\n",
    "\n",
    "    `+`: element wise sum\n",
    "    \n",
    "More details on packages in lecture 11."
   ]
  },
  {
   "cell_type": "code",
   "execution_count": 95,
   "metadata": {},
   "outputs": [
    {
     "name": "stdout",
     "output_type": "stream",
     "text": [
      "v1: [2 4] <class 'numpy.ndarray'>\n",
      "v2: [1 3] <class 'numpy.ndarray'>\n"
     ]
    }
   ],
   "source": [
    "import numpy as np\n",
    "v1 = np.array([2,4])\n",
    "v2 = np.array([1,3])\n",
    "print('v1:',v1, type(v1))\n",
    "print('v2:',v2, type(v2))"
   ]
  },
  {
   "cell_type": "code",
   "execution_count": 97,
   "metadata": {},
   "outputs": [
    {
     "name": "stdout",
     "output_type": "stream",
     "text": [
      "v1 [2 4]\n",
      "v3: [4 8] <class 'numpy.ndarray'>\n"
     ]
    }
   ],
   "source": [
    "v3 = v1*2\n",
    "print('v1',v1)\n",
    "print('v3:',v3, type(v3))"
   ]
  },
  {
   "cell_type": "code",
   "execution_count": 98,
   "metadata": {},
   "outputs": [
    {
     "name": "stdout",
     "output_type": "stream",
     "text": [
      "v1 [2 4]\n",
      "v2 [1 3]\n",
      "v3 [3 7]\n"
     ]
    }
   ],
   "source": [
    "v3 = v1 + v2\n",
    "print('v1',v1)\n",
    "print('v2',v2)\n",
    "print('v3',v3)"
   ]
  },
  {
   "cell_type": "markdown",
   "metadata": {
    "cell_style": "split",
    "slideshow": {
     "slide_type": "slide"
    }
   },
   "source": [
    "## Set\n",
    "\n",
    "https://www.w3schools.com/python/python_tuples.asp\n",
    "\n",
    "- group multiple variables together using brace {}\n",
    "- cannot be indexed\n",
    "- container for __unique__ values\n",
    "- can only contain _immutable_ values\n",
    "- set itself is mutable"
   ]
  },
  {
   "cell_type": "code",
   "execution_count": 29,
   "metadata": {
    "ExecuteTime": {
     "end_time": "2020-09-10T23:59:12.520455Z",
     "start_time": "2020-09-10T23:59:12.517449Z"
    },
    "cell_style": "split"
   },
   "outputs": [
    {
     "name": "stdout",
     "output_type": "stream",
     "text": [
      "<class 'set'>\n"
     ]
    }
   ],
   "source": [
    "##create a set\n",
    "a={1,2,3,'apple'}\n",
    "print(type(a))\n"
   ]
  },
  {
   "cell_type": "code",
   "execution_count": 3,
   "metadata": {},
   "outputs": [
    {
     "name": "stdout",
     "output_type": "stream",
     "text": [
      "{1, 2, 3, 'apple'}\n"
     ]
    }
   ],
   "source": [
    "#unique value\n",
    "a={1,1,2,3,'apple'}\n",
    "print(a)"
   ]
  },
  {
   "cell_type": "code",
   "execution_count": 2,
   "metadata": {
    "ExecuteTime": {
     "end_time": "2020-09-10T23:59:12.520455Z",
     "start_time": "2020-09-10T23:59:12.517449Z"
    },
    "cell_style": "split"
   },
   "outputs": [
    {
     "ename": "TypeError",
     "evalue": "'set' object is not subscriptable",
     "output_type": "error",
     "traceback": [
      "\u001b[1;31m---------------------------------------------------------------------------\u001b[0m",
      "\u001b[1;31mTypeError\u001b[0m                                 Traceback (most recent call last)",
      "\u001b[1;32m<ipython-input-2-a8d032530926>\u001b[0m in \u001b[0;36m<module>\u001b[1;34m\u001b[0m\n\u001b[0;32m      1\u001b[0m \u001b[1;31m#cannot be indexed\u001b[0m\u001b[1;33m\u001b[0m\u001b[1;33m\u001b[0m\u001b[1;33m\u001b[0m\u001b[0m\n\u001b[1;32m----> 2\u001b[1;33m \u001b[0ma\u001b[0m\u001b[1;33m[\u001b[0m\u001b[1;36m1\u001b[0m\u001b[1;33m]\u001b[0m \u001b[1;31m#will produce an error\u001b[0m\u001b[1;33m\u001b[0m\u001b[1;33m\u001b[0m\u001b[0m\n\u001b[0m",
      "\u001b[1;31mTypeError\u001b[0m: 'set' object is not subscriptable"
     ]
    }
   ],
   "source": [
    "#cannot be indexed\n",
    "a[1] #will produce an error"
   ]
  },
  {
   "cell_type": "code",
   "execution_count": 7,
   "metadata": {
    "ExecuteTime": {
     "end_time": "2020-09-10T23:59:12.520455Z",
     "start_time": "2020-09-10T23:59:12.517449Z"
    },
    "cell_style": "split"
   },
   "outputs": [
    {
     "ename": "TypeError",
     "evalue": "unhashable type: 'list'",
     "output_type": "error",
     "traceback": [
      "\u001b[1;31m---------------------------------------------------------------------------\u001b[0m",
      "\u001b[1;31mTypeError\u001b[0m                                 Traceback (most recent call last)",
      "Input \u001b[1;32mIn [7]\u001b[0m, in \u001b[0;36m<cell line: 2>\u001b[1;34m()\u001b[0m\n\u001b[0;32m      1\u001b[0m \u001b[38;5;66;03m#can only contain immutable variables\u001b[39;00m\n\u001b[1;32m----> 2\u001b[0m a\u001b[38;5;241m=\u001b[39m{[\u001b[38;5;241m1\u001b[39m,\u001b[38;5;241m2\u001b[39m], \u001b[38;5;124m'\u001b[39m\u001b[38;5;124mapple\u001b[39m\u001b[38;5;124m'\u001b[39m}\n",
      "\u001b[1;31mTypeError\u001b[0m: unhashable type: 'list'"
     ]
    }
   ],
   "source": [
    "#can only contain immutable variables\n",
    "a={[1,2], 'apple'} #will produce an error, [1,2] is mutable"
   ]
  },
  {
   "cell_type": "markdown",
   "metadata": {
    "ExecuteTime": {
     "end_time": "2020-09-09T22:14:12.826509Z",
     "start_time": "2020-09-09T22:14:12.823548Z"
    },
    "slideshow": {
     "slide_type": "skip"
    }
   },
   "source": [
    "- a list or a tuple can be converted to a set by using the function `set()`. It automatically removes repeated entry."
   ]
  },
  {
   "cell_type": "code",
   "execution_count": 104,
   "metadata": {},
   "outputs": [
    {
     "name": "stdout",
     "output_type": "stream",
     "text": [
      "{1, 'apple'}\n"
     ]
    }
   ],
   "source": [
    "a = [1,1,'apple']\n",
    "b = set(a)\n",
    "print(b)"
   ]
  },
  {
   "cell_type": "markdown",
   "metadata": {
    "cell_style": "split",
    "slideshow": {
     "slide_type": "slide"
    }
   },
   "source": [
    "### Set operations \n",
    "\n",
    "between two sets, a and b\n",
    "\n",
    "- compare two sets\n",
    "\n",
    "|equal|strict subset|subset|strict superset|superset|\n",
    "|---|---|---|---|--|\n",
    "| == | < | $\\leq$| >| $\\geq$|\n",
    "\n"
   ]
  },
  {
   "cell_type": "code",
   "execution_count": 34,
   "metadata": {
    "ExecuteTime": {
     "end_time": "2020-09-11T00:32:17.412903Z",
     "start_time": "2020-09-11T00:32:17.406904Z"
    },
    "cell_style": "split",
    "slideshow": {
     "slide_type": "fragment"
    }
   },
   "outputs": [
    {
     "name": "stdout",
     "output_type": "stream",
     "text": [
      "{'Dirac', 'Einstein', 'Newton'}\n",
      "{'Schrodinger', 'Einstein', 'Heisenberg'}\n",
      "False\n",
      "True\n",
      "True\n"
     ]
    }
   ],
   "source": [
    "set_1={'Einstein', 'Newton', 'Dirac'}\n",
    "set_2={'Einstein', 'Heisenberg', 'Schrodinger'}\n",
    "set_3={'Einstein'}\n",
    "print(set_1)\n",
    "print(set_2)\n",
    "print(set_1==set_2)\n",
    "print(set_3<set_1)\n",
    "print(set_1>set_3)"
   ]
  },
  {
   "cell_type": "markdown",
   "metadata": {},
   "source": [
    "\n",
    "- produce a new set\n",
    "\n",
    "\n",
    "|union|intersection|difference|symmetric difference|\n",
    "|--|---|--|--|\n",
    "|\\|| &|  -| ^ |\n",
    "\n",
    "a and b are not changed\n",
    "\n"
   ]
  },
  {
   "cell_type": "code",
   "execution_count": 35,
   "metadata": {
    "ExecuteTime": {
     "end_time": "2020-09-11T00:32:18.246201Z",
     "start_time": "2020-09-11T00:32:18.238171Z"
    },
    "cell_style": "split",
    "slideshow": {
     "slide_type": "fragment"
    }
   },
   "outputs": [
    {
     "name": "stdout",
     "output_type": "stream",
     "text": [
      "set_intrstn: {'Einstein'}\n",
      "set_union: {'Einstein', 'Newton', 'Dirac', 'Schrodinger', 'Heisenberg'}\n",
      "set_diff: {'Dirac', 'Newton'}\n",
      "set_symdiff: {'Dirac', 'Schrodinger', 'Newton', 'Heisenberg'}\n"
     ]
    }
   ],
   "source": [
    "set_1={'Einstein', 'Newton', 'Dirac'}\n",
    "set_2={'Einstein', 'Heisenberg', 'Schrodinger'}\n",
    "#intersection: element in a and in b\n",
    "set_intrstn = set_1 & set_2\n",
    "print('set_intrstn:',set_intrstn)\n",
    "#union: elements in a or in b\n",
    "set_union = set_1 | set_2\n",
    "print('set_union:',set_union)\n",
    "#difference: elements in a but not in b\n",
    "set_diff = set_1 - set_2\n",
    "print('set_diff:', set_diff)\n",
    "#symm. difference: union - intersection, not in a or not in b\n",
    "set_symdiff = set_1 ^ set_2\n",
    "print('set_symdiff:', set_symdiff)"
   ]
  },
  {
   "cell_type": "markdown",
   "metadata": {
    "cell_style": "center",
    "slideshow": {
     "slide_type": "slide"
    }
   },
   "source": [
    "### set method\n",
    "\n",
    "<table class=\"ws-table-all notranslate\">\n",
    "<tbody><tr>\n",
    "<th>Method</th>\n",
    "<th>Shortcut</th>\n",
    "<th>Description</th>\n",
    "</tr>\n",
    "<tr>\n",
    "<td><a href=\"https://www.w3schools.com/python/ref_set_add.asp\">add()</a></td>\n",
    "<td>&nbsp;</td>\n",
    "<td>Adds an element to the set</td>\n",
    "</tr>\n",
    "<tr>\n",
    "<td><a href=\"https://www.w3schools.com/python/ref_set_clear.asp\">clear()</a></td>\n",
    "<td>&nbsp;</td>\n",
    "<td>Removes all the elements from the set</td>\n",
    "</tr>\n",
    "<tr>\n",
    "<td><a href=\"https://www.w3schools.com/python/ref_set_copy.asp\">copy()</a></td>\n",
    "<td>&nbsp;</td>\n",
    "<td>Returns a copy of the set</td>\n",
    "</tr>\n",
    "<tr>\n",
    "<td><a href=\"https://www.w3schools.com/python/ref_set_difference.asp\">difference()</a></td>\n",
    "<td><code class=\"w3-codespan\"><a href=\"ref_set_difference.asp\">-</a></code></td>\n",
    "<td>Returns a set containing the difference between two or more sets</td>\n",
    "</tr>\n",
    "<tr>\n",
    "<td><a href=\"https://www.w3schools.com/python/ref_set_difference_update.asp\">difference_update()</a></td>\n",
    "<td><code class=\"w3-codespan\"><a href=\"ref_set_difference_update.asp\">-=</a></code></td>\n",
    "<td>Removes the items in this set that are also included in another, specified set</td>\n",
    "</tr>\n",
    "<tr>\n",
    "<td><a href=\"https://www.w3schools.com/python/ref_set_discard.asp\">discard()</a></td>\n",
    "<td>&nbsp;</td>\n",
    "<td>Remove the specified item</td>\n",
    "</tr>\n",
    "<tr>\n",
    "<td><a href=\"https://www.w3schools.com/python/ref_set_intersection.asp\">intersection()</a></td>\n",
    "<td><code class=\"w3-codespan\"><a href=\"ref_set_intersection.asp\">&amp;</a></code></td>\n",
    "<td>Returns a set, that is the intersection of two other sets</td>\n",
    "</tr>\n",
    "<tr>\n",
    "<td><a href=\"https://www.w3schools.com/python/ref_set_intersection_update.asp\">intersection_update()</a></td>\n",
    "<td><code class=\"w3-codespan\"><a href=\"ref_set_intersection_update.asp\">&amp;=</a></code></td>\n",
    "<td>Removes the items in this set that are not present in other, specified set(s)</td>\n",
    "</tr>\n",
    "<tr>\n",
    "<td><a href=\"https://www.w3schools.com/python/ref_set_isdisjoint.asp\">isdisjoint()</a></td>\n",
    "<td>&nbsp;</td>\n",
    "<td>Returns whether two sets have a intersection or not</td>\n",
    "</tr>\n",
    "<tr>\n",
    "<td><a href=\"https://www.w3schools.com/python/ref_set_issubset.asp\">issubset()</a></td>\n",
    "<td><code class=\"w3-codespan\"><a href=\"ref_set_issubset.asp\">&lt;=</a></code></td>\n",
    "<td>Returns whether another set contains this set or not</td>\n",
    "</tr>\n",
    "<tr>\n",
    "<td>&nbsp;</td>\n",
    "<td><code class=\"w3-codespan\"><a href=\"https://www.w3schools.com/python/ref_set_issubset.asp\">&lt;</a></code></td>\n",
    "<td>Returns whether all items in this set is present in other, specified set(s)</td>\n",
    "</tr>\n",
    "<tr>\n",
    "<td><a href=\"https://www.w3schools.com/python/ref_set_issuperset.asp\">issuperset()</a></td>\n",
    "<td><code class=\"w3-codespan\"><a href=\"https://www.w3schools.com/python/ref_set_issuperset.asp\">&gt;=</a></code></td>\n",
    "<td>Returns whether this set contains another set or not</td>\n",
    "</tr>\n",
    "<tr>\n",
    "<td>&nbsp;</td>\n",
    "<td><code class=\"w3-codespan\"><a href=\"https://www.w3schools.com/python/ref_set_issuperset.asp\">&gt;</a></code></td>\n",
    "<td>Returns whether all items in other, specified set(s) is present in this set</td>\n",
    "</tr>\n",
    "<tr>\n",
    "<td><a href=\"https://www.w3schools.com/python/ref_set_pop.asp\">pop()</a></td>\n",
    "<td>&nbsp;</td>\n",
    "<td>Removes an element from the set</td>\n",
    "</tr>\n",
    "<tr>\n",
    "<td><a href=\"https://www.w3schools.com/python/ref_set_remove.asp\">remove()</a></td>\n",
    "<td>&nbsp;</td>\n",
    "<td>Removes the specified element</td>\n",
    "</tr>\n",
    "<tr>\n",
    "<td><a href=\"https://www.w3schools.com/python/ref_set_symmetric_difference.asp\">symmetric_difference()</a></td>\n",
    "<td><code class=\"w3-codespan\"><a href=\"https://www.w3schools.com/python/ref_set_symmetric_difference.asp\">^</a></code></td>\n",
    "<td>Returns a set with the symmetric differences of two sets</td>\n",
    "</tr>\n",
    "<tr>\n",
    "<td><a href=\"https://www.w3schools.com/python/ref_set_symmetric_difference_update.asp\">symmetric_difference_update()</a></td>\n",
    "<td><code class=\"w3-codespan\"><a href=\"https://www.w3schools.com/python/ref_set_symmetric_difference_update.asp\">^=</a></code></td>\n",
    "<td>Inserts the symmetric differences from this set and another</td>\n",
    "</tr>\n",
    "<tr>\n",
    "<td><a href=\"https://www.w3schools.com/python/ref_set_union.asp\">union()</a></td>\n",
    "<td><code class=\"w3-codespan\"><a href=\"https://www.w3schools.com/python/ref_set_union.asp\">|</a></code></td>\n",
    "<td>Return a set containing the union of sets</td>\n",
    "</tr>\n",
    "<tr>\n",
    "<td><a href=\"https://www.w3schools.com/python/ref_set_update.asp\">update()</a></td>\n",
    "<td><code class=\"w3-codespan\"><a href=\"https://www.w3schools.com/python/ref_set_update.asp\">|=</a></code></td>\n",
    "<td>Update the set with the union of this set and others</td>\n",
    "</tr>\n",
    "</tbody></table>"
   ]
  },
  {
   "cell_type": "code",
   "execution_count": null,
   "metadata": {
    "cell_style": "center",
    "slideshow": {
     "slide_type": "skip"
    }
   },
   "outputs": [
    {
     "name": "stdout",
     "output_type": "stream",
     "text": [
      "{'orange', 'apple', 'strawberry', 'pineapple', 'pear'}\n",
      "{'orange', 'pear', 'straberry'}\n"
     ]
    }
   ],
   "source": [
    "set_1={'apple','orange','pear','pineapple'}\n",
    "set_2={'apple','pear','strawberry'}\n",
    "set_1.update(set_2)  # update set1 to the union of set_1 and set_2 (set_1 | set_2)\n",
    "print(set_1)\n",
    "set_1.discard(\"apple\")\n",
    "print(set_1)"
   ]
  },
  {
   "cell_type": "markdown",
   "metadata": {
    "slideshow": {
     "slide_type": "slide"
    }
   },
   "source": [
    "__Exercise__: \n",
    "create a password from keyboard and check if it contains number."
   ]
  },
  {
   "cell_type": "code",
   "execution_count": 32,
   "metadata": {
    "slideshow": {
     "slide_type": "skip"
    }
   },
   "outputs": [
    {
     "name": "stdout",
     "output_type": "stream",
     "text": [
      "False\n"
     ]
    }
   ],
   "source": [
    "num='012345789'\n",
    "num=set(num)\n",
    "pwd = input('please make a new password: ')\n",
    "pwd=set(pwd)\n",
    "#intrstn = num & psswd\n",
    "#print(intrstn)\n",
    "#print(len(intrstn)!=0) #check if the intersection is empty\n",
    "print(not pwd.isdisjoint(num))"
   ]
  },
  {
   "cell_type": "markdown",
   "metadata": {
    "slideshow": {
     "slide_type": "slide"
    }
   },
   "source": [
    "One can convert a list, a tuple and a set to each other by using the function\n",
    "\n",
    "```python\n",
    "    list(), set(), tuple()\n",
    "```\n",
    "converting a list or a tuple to a set removes duplicated element\n",
    "to convert to a set, all elements need to immutable"
   ]
  },
  {
   "cell_type": "code",
   "execution_count": 13,
   "metadata": {
    "slideshow": {
     "slide_type": "skip"
    }
   },
   "outputs": [
    {
     "name": "stdout",
     "output_type": "stream",
     "text": [
      "{1, 2, 3}\n"
     ]
    }
   ],
   "source": [
    "a_list=[1,3,2,1]\n",
    "a_set = set(a_list)\n",
    "print(a_set)"
   ]
  },
  {
   "cell_type": "markdown",
   "metadata": {},
   "source": [
    "---"
   ]
  },
  {
   "cell_type": "markdown",
   "metadata": {
    "cell_style": "split",
    "slideshow": {
     "slide_type": "slide"
    }
   },
   "source": [
    "## Dictionary \n",
    "\n",
    "https://www.w3schools.com/python/python_dictionaries.asp\n",
    "\n",
    "- a collection of key:value pairs using brace {}\n",
    "- comprehensive \n",
    "- accessing the value using the key instead of index. \n",
    "- keys are immutable objects, usually strings, while values can be anything\n",
    "- `a={}` creates an empty dictionary instead of an empty set.\n",
    "\n",
    "It is like a list but the index is changed to a more meaningful name.    \n",
    "\n",
    "\n"
   ]
  },
  {
   "cell_type": "code",
   "execution_count": 2,
   "metadata": {
    "cell_style": "split",
    "slideshow": {
     "slide_type": "skip"
    },
    "tags": []
   },
   "outputs": [
    {
     "name": "stdout",
     "output_type": "stream",
     "text": [
      "<class 'dict'>\n",
      "{'time': '12:40pm', 'location': 'mphy203'}\n",
      "12:40pm\n",
      "{'time': '12:40pm', 'location': 'mphy203', 'instructor': 'Shenglong Xu'}\n"
     ]
    }
   ],
   "source": [
    "phys150={'time':'12:40pm','location':'mphy203'}\n",
    "##'time' and 'location' are the keys\n",
    "## '12:40pm' and 'mphy203' are the values\n",
    "print(type(phys150))\n",
    "print(phys150)\n",
    "print(phys150['time']) #access the value\n",
    "phys150['instructor']='Shenglong Xu' # add a new key\n",
    "print(phys150)"
   ]
  },
  {
   "cell_type": "markdown",
   "metadata": {
    "ExecuteTime": {
     "end_time": "2020-09-09T23:27:19.980487Z",
     "start_time": "2020-09-09T23:27:19.973456Z"
    },
    "slideshow": {
     "slide_type": "slide"
    }
   },
   "source": [
    "\n",
    "| |Mercury|Venus|Earth|Mars|Jupiter|Saturn|Uranus|Neptune|\n",
    "|-|-|-|-|-|-|-|-|-|\n",
    "|mass (in the unit of earth)| 0.056 | 0.815| 1| 0.107| 318 | 95| 14 |17|"
   ]
  },
  {
   "cell_type": "code",
   "execution_count": 4,
   "metadata": {
    "slideshow": {
     "slide_type": "skip"
    }
   },
   "outputs": [
    {
     "name": "stdout",
     "output_type": "stream",
     "text": [
      "<class 'dict'>\n",
      "{'Earth': 1}\n",
      "{'Earth': 1, 'Mercury': 0.056}\n",
      "{'Earth': 1, 'Mercury': 0.056, 'Venus': 0.815}\n"
     ]
    }
   ],
   "source": [
    "mass_planet={} #an empty dictionary\n",
    "print(type(mass_planet))\n",
    "mass_planet['Earth']=1\n",
    "print(mass_planet)\n",
    "mass_planet['Mercury']=0.056\n",
    "print(mass_planet)\n",
    "mass_planet['Venus']=0.815\n",
    "print(mass_planet)"
   ]
  },
  {
   "cell_type": "markdown",
   "metadata": {
    "cell_style": "center",
    "slideshow": {
     "slide_type": "slide"
    }
   },
   "source": [
    "### Dictionary method\n",
    "\n",
    "https://www.w3schools.com/python/python_ref_dictionary.asp\n",
    "\n",
    "<table class=\"ws-table-all notranslate\">\n",
    "<tbody><tr>\n",
    "<th>Method</th>\n",
    "<th>Description</th>\n",
    "</tr>\n",
    "<tr><td><a href=\"https://www.w3schools.com/python/ref_dictionary_clear.asp\">clear()</a></td><td>Removes all the elements from the dictionary</td></tr>\n",
    "<tr><td><a href=\"https://www.w3schools.com/python/ref_dictionary_copy.asp\">copy()</a></td><td>Returns a copy of the dictionary</td></tr>\n",
    "<tr><td><a href=\"https://www.w3schools.com/python/ref_dictionary_fromkeys.asp\">fromkeys()</a></td><td>Returns a dictionary with the specified keys and value</td></tr>\n",
    "<tr><td><a href=\"https://www.w3schools.com/python/ref_dictionary_get.asp\">get()</a></td><td>Returns the value of the specified key</td></tr>\n",
    "<tr><td><a href=\"https://www.w3schools.com/python/ref_dictionary_items.asp\">items()</a></td><td>Returns a list containing a tuple for each key value pair</td></tr>\n",
    "<tr><td><a href=\"https://www.w3schools.com/python/ref_dictionary_keys.asp\">keys()</a></td><td>Returns a list containing the dictionary's keys</td></tr>\n",
    "<tr><td><a href=\"https://www.w3schools.com/python/ref_dictionary_pop.asp\">pop()</a></td><td>Removes the element with the specified key</td></tr>\n",
    "<tr><td><a href=\"https://www.w3schools.com/python/ref_dictionary_popitem.asp\">popitem()</a></td><td>Removes the last \n",
    "  inserted key-value pair</td></tr>\n",
    "<tr><td><a href=\"https://www.w3schools.com/python/ref_dictionary_setdefault.asp\">setdefault()</a></td><td>Returns the value of the specified key. If the key does not exist: insert the key, with the specified value</td></tr>\n",
    "<tr><td><a href=\"https://www.w3schools.com/python/ref_dictionary_update.asp\">update()</a></td><td>Updates the dictionary with the specified key-value pairs</td></tr>\n",
    "<tr><td><a href=\"https://www.w3schools.com/python/ref_dictionary_values.asp\">values()</a></td><td>Returns a list of all the values in the dictionary</td></tr>\n",
    "</tbody></table>"
   ]
  },
  {
   "cell_type": "code",
   "execution_count": 136,
   "metadata": {
    "cell_style": "split"
   },
   "outputs": [
    {
     "name": "stdout",
     "output_type": "stream",
     "text": [
      "['Earth', 'Mercury', 'Venus']\n",
      "[1, 0.056, 0.815]\n"
     ]
    }
   ],
   "source": [
    "#get a list of keys\n",
    "print(list(mass_planet.keys()))\n",
    "#get a list of valus\n",
    "print(list(mass_planet.values()))"
   ]
  },
  {
   "cell_type": "markdown",
   "metadata": {},
   "source": [
    "__Exercise__ Pokemon Index\n",
    "<div style='display:flex; height:500px'>\n",
    "\n",
    "<img src='https://github.com/slxuphys/tamu_phys_150/blob/master/gallery/pikachu.png?raw=true' height=500 style='height:500px'>\n",
    "\n",
    "<img src='https://github.com/slxuphys/tamu_phys_150/blob/master/gallery/charmander.png?raw=true' height=500 style='height:500px'>\n",
    "\n",
    "\n",
    "</div>"
   ]
  },
  {
   "cell_type": "markdown",
   "metadata": {
    "cell_style": "split",
    "slideshow": {
     "slide_type": "slide"
    }
   },
   "source": [
    "Make a dictionary about Pikachu and charmander."
   ]
  },
  {
   "cell_type": "code",
   "execution_count": 113,
   "metadata": {
    "cell_style": "split"
   },
   "outputs": [
    {
     "name": "stdout",
     "output_type": "stream",
     "text": [
      "{'name': 'Pikachu', 'height': '1\\'04\"', 'descripition': 'Pikachu that can generate powerful electricity have cheek sacs that are extra soft and super stretchy.', 'type': 'Electric', 'weakness': 'Ground'}\n"
     ]
    }
   ],
   "source": [
    "pikachu={}\n",
    "pikachu['name']='Pikachu'\n",
    "pikachu['height']=\"1\\'04\\\"\"\n",
    "pikachu['descripition']=\"Pikachu that can generate powerful electricity have cheek sacs that are extra soft and super stretchy.\"\n",
    "pikachu['type']='Electric'\n",
    "pikachu['weakness']=\"Ground\"\n",
    "print(pikachu)"
   ]
  },
  {
   "cell_type": "code",
   "execution_count": 120,
   "metadata": {
    "cell_style": "split"
   },
   "outputs": [
    {
     "name": "stdout",
     "output_type": "stream",
     "text": [
      "{'name': 'charmander', 'height': '2\\'00\"', 'description': 'It has a preference for hot things. When it rains, steam is said to spout from the tip of its tail.', 'type': 'fire', 'weakness': ('water', 'ground', 'rock')}\n"
     ]
    }
   ],
   "source": [
    "charmander={}\n",
    "charmander['name']='charmander'\n",
    "charmander['height']=\"2\\'00\\\"\"\n",
    "charmander['description']='It has a preference for hot things. When it rains, steam is said to spout from the tip of its tail.'\n",
    "charmander['type']='fire'\n",
    "charmander['weakness']=('water','ground','rock')\n",
    "print(charmander)"
   ]
  },
  {
   "cell_type": "markdown",
   "metadata": {},
   "source": [
    "Now we are ready to make a Pokemon Index, which is a dictionary of a dictionary (nested dictionary). "
   ]
  },
  {
   "cell_type": "code",
   "execution_count": 122,
   "metadata": {
    "cell_style": "split"
   },
   "outputs": [
    {
     "name": "stdout",
     "output_type": "stream",
     "text": [
      "{'name': 'Pikachu', 'height': '1\\'04\"', 'descripition': 'Pikachu that can generate powerful electricity have cheek sacs that are extra soft and super stretchy.', 'type': 'Electric', 'weakness': 'Ground'}\n"
     ]
    }
   ],
   "source": [
    "pokemon={'pikachu':pikachu,'charmander':charmander}\n",
    "print(pokemon['pikachu'])"
   ]
  },
  {
   "cell_type": "markdown",
   "metadata": {
    "slideshow": {
     "slide_type": "skip"
    }
   },
   "source": [
    "---"
   ]
  },
  {
   "cell_type": "markdown",
   "metadata": {
    "cell_style": "split",
    "slideshow": {
     "slide_type": "slide"
    }
   },
   "source": [
    "## Types of variables\n",
    "Variables have types.\n",
    "\n",
    "- Numerical types (last week)\n",
    "    - integer\n",
    "    - float\n",
    "    - complex\n",
    "- Boolean (true or false)\n",
    "- String\n",
    "- None (no value)\n",
    "\n",
    "- containers    \n",
    "    - list\n",
    "    - tuple\n",
    "    - set\n",
    "    - dictionary\n",
    "    - array (from numpy)\n",
    "    - dataframe (from pandas)\n",
    "\n",
    "\n",
    "- Other custom types"
   ]
  },
  {
   "cell_type": "markdown",
   "metadata": {
    "slideshow": {
     "slide_type": "slide"
    }
   },
   "source": [
    "##  Custom Variable Type (Class)\n",
    "\n",
    "One can define a custom variable type with the desired behavior. In Python, a custom type is also called a class. More in Lecture 10.\n",
    "\n",
    "\n",
    "\n"
   ]
  },
  {
   "cell_type": "code",
   "execution_count": 99,
   "metadata": {},
   "outputs": [],
   "source": [
    "class Ball:\n",
    "    color='red'\n",
    "    radius='1m'\n",
    "    message='This is a Ball'"
   ]
  },
  {
   "cell_type": "code",
   "execution_count": 100,
   "metadata": {},
   "outputs": [
    {
     "name": "stdout",
     "output_type": "stream",
     "text": [
      "<class '__main__.Ball'>\n",
      "red\n"
     ]
    }
   ],
   "source": [
    "a = Ball()\n",
    "print(type(a)) #check it's type\n",
    "print(a.color) #access its attributes"
   ]
  }
 ],
 "metadata": {
  "celltoolbar": "Slideshow",
  "kernelspec": {
   "display_name": "base",
   "language": "python",
   "name": "python3"
  },
  "language_info": {
   "codemirror_mode": {
    "name": "ipython",
    "version": 3
   },
   "file_extension": ".py",
   "mimetype": "text/x-python",
   "name": "python",
   "nbconvert_exporter": "python",
   "pygments_lexer": "ipython3",
   "version": "3.12.7"
  },
  "latex_envs": {
   "LaTeX_envs_menu_present": true,
   "autoclose": false,
   "autocomplete": true,
   "bibliofile": "biblio.bib",
   "cite_by": "apalike",
   "current_citInitial": 1,
   "eqLabelWithNumbers": true,
   "eqNumInitial": 1,
   "hotkeys": {
    "equation": "Ctrl-E",
    "itemize": "Ctrl-I"
   },
   "labels_anchors": false,
   "latex_user_defs": false,
   "report_style_numbering": false,
   "user_envs_cfg": false
  },
  "varInspector": {
   "cols": {
    "lenName": 16,
    "lenType": 16,
    "lenVar": 40
   },
   "kernels_config": {
    "python": {
     "delete_cmd_postfix": "",
     "delete_cmd_prefix": "del ",
     "library": "var_list.py",
     "varRefreshCmd": "print(var_dic_list())"
    },
    "r": {
     "delete_cmd_postfix": ") ",
     "delete_cmd_prefix": "rm(",
     "library": "var_list.r",
     "varRefreshCmd": "cat(var_dic_list()) "
    }
   },
   "oldHeight": 357,
   "position": {
    "height": "379px",
    "left": "1124px",
    "right": "20px",
    "top": "68px",
    "width": "350px"
   },
   "types_to_exclude": [
    "module",
    "function",
    "builtin_function_or_method",
    "instance",
    "_Feature"
   ],
   "varInspector_section_display": "block",
   "window_display": false
  }
 },
 "nbformat": 4,
 "nbformat_minor": 4
}
